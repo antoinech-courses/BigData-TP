{
 "cells": [
  {
   "cell_type": "markdown",
   "metadata": {},
   "source": [
    "# Spark Streaming et fenêtres\n",
    "\n",
    "Use case : Wind Power Smart Monitor"
   ]
  },
  {
   "cell_type": "code",
   "execution_count": 1,
   "metadata": {},
   "outputs": [],
   "source": [
    "from pyspark.sql import SparkSession\n",
    "from pyspark import SparkContext, SparkConf\n",
    "\n",
    "conf = SparkConf() \\\n",
    "    .setAppName('SparkApp') \\\n",
    "    .setMaster('spark://spark:7077') \\\n",
    "    .set(\"spark.jars.packages\", \"org.apache.hadoop:hadoop-aws:3.3.4,org.apache.spark:spark-sql-kafka-0-10_2.12:3.5.3\") \\\n",
    "    .set(\"spark.sql.shuffle.partitions\", \"10\")\n",
    " \n",
    "\n",
    "sc = SparkContext.getOrCreate(conf=conf)\n",
    "\n",
    "from pyspark.sql import SQLContext\n",
    "# Créer un SQLContext pour les opérations SQL\n",
    "sql_context = SQLContext(sc)\n",
    "\n",
    "minio_ip_address = \"minio\""
   ]
  },
  {
   "cell_type": "markdown",
   "metadata": {},
   "source": [
    "## Moyenne glissante (Batch)"
   ]
  },
  {
   "cell_type": "code",
   "execution_count": 2,
   "metadata": {},
   "outputs": [],
   "source": [
    "from pyspark.sql import SparkSession\n",
    "from pyspark.sql.functions import from_json, col, window, avg\n",
    "from pyspark.sql.types import StructType, StructField, StringType, IntegerType, TimestampType, FloatType\n",
    "\n",
    "# Kafka configuration\n",
    "kafka_broker = \"kafka1:9092\"\n",
    "kafka_topic = \"wind\"\n",
    "\n",
    "# Define schema for the Kafka message\n",
    "schema = StructType([\n",
    "    StructField(\"created_at\", StringType(), True),\n",
    "    StructField(\"entry_id\", IntegerType(), True),\n",
    "    StructField(\"wind_speed\", StringType(), True)  # Voltage is initially a string\n",
    "])\n",
    "\n",
    "# Read raw data from Kafka\n",
    "raw_stream = sql_context.read \\\n",
    "    .format(\"kafka\") \\\n",
    "    .option(\"kafka.bootstrap.servers\", kafka_broker) \\\n",
    "    .option(\"subscribe\", kafka_topic) \\\n",
    "    .option(\"startingOffsets\", \"earliest\") \\\n",
    "    .load()\n",
    "\n",
    "# Parse Kafka messages\n",
    "## dropDuplicates : retirer les éléments ayant la même valeur\n",
    "parsed_stream = raw_stream.selectExpr(\"CAST(value AS STRING) AS message\") \\\n",
    "    .select(from_json(col(\"message\"), schema).alias(\"data\")) \\\n",
    "    .select(\n",
    "        col(\"data.created_at\").cast(TimestampType()).alias(\"created_at\"),  # Convert timestamp to Spark TimestampType\n",
    "        col(\"data.entry_id\").alias(\"entry_id\"),\n",
    "        col(\"data.wind_speed\").cast(FloatType()).alias(\"wind_speed\")  # Convert voltage to FloatType for aggregation\n",
    "    ).dropDuplicates([\"entry_id\"]).withWatermark(\"created_at\", \"5 minutes\")\n",
    "\n",
    "parsed_stream = parsed_stream.filter(col(\"data.wind_speed\").isNotNull())\n",
    "\n",
    "\n",
    "# Compute rolling average over a 5-minute window\n",
    "rolling_average = parsed_stream \\\n",
    "    .groupBy(window(col(\"created_at\"), \"5 minutes\")) \\\n",
    "    .agg(avg(\"wind_speed\").alias(\"rolling_avg_wind_speed\")) \\\n",
    "    .select(\n",
    "        col(\"window.start\").alias(\"window_start\"),\n",
    "        col(\"window.end\").alias(\"window_end\"),\n",
    "        col(\"rolling_avg_wind_speed\")\n",
    "    )  # Explicit ordering by window start\n",
    "\n",
    "# Collect the result as a Pandas DataFrame\n",
    "pandas_df = rolling_average.toPandas()\n",
    "pandas_df\n",
    "\n",
    "import seaborn as sns\n",
    "import matplotlib.dates as md\n",
    "\n",
    "g = sns.lineplot(data=pandas_df, x=\"window_start\", y=\"rolling_avg_wind_speed\")\n",
    "g.xaxis.set_major_formatter(md.DateFormatter('%d/%m\\n%H:%M'))\n"
   ]
  },
  {
   "cell_type": "code",
   "execution_count": 4,
   "metadata": {},
   "outputs": [],
   "source": [
    "pandas_df.dtypes"
   ]
  },
  {
   "cell_type": "markdown",
   "metadata": {},
   "source": [
    "## Moyenne glissante (Streaming)"
   ]
  },
  {
   "cell_type": "code",
   "execution_count": 5,
   "metadata": {},
   "outputs": [],
   "source": [
    "from pyspark.sql import SparkSession\n",
    "from pyspark.sql.functions import from_json, col, window, avg\n",
    "from pyspark.sql.types import StructType, StructField, StringType, IntegerType, TimestampType, FloatType\n",
    "\n",
    "# Kafka configuration\n",
    "kafka_broker = \"kafka1:9092\"\n",
    "kafka_topic = \"wind\"\n",
    "\n",
    "# Define schema for the Kafka message\n",
    "schema = StructType([\n",
    "    StructField(\"created_at\", StringType(), True),\n",
    "    StructField(\"entry_id\", IntegerType(), True),\n",
    "    StructField(\"wind_speed\", StringType(), True)  # Voltage is initially a string\n",
    "])\n",
    "\n",
    "# Read raw data from Kafka\n",
    "raw_stream = sql_context.readStream \\\n",
    "    .format(\"kafka\") \\\n",
    "    .option(\"kafka.bootstrap.servers\", kafka_broker) \\\n",
    "    .option(\"subscribe\", kafka_topic) \\\n",
    "    .option(\"startingOffsets\", \"earliest\") \\\n",
    "    .load()\n",
    "\n",
    "# Parse Kafka messages\n",
    "parsed_stream = raw_stream.selectExpr(\"CAST(value AS STRING) AS message\") \\\n",
    "    .select(from_json(col(\"message\"), schema).alias(\"data\")) \\\n",
    "    .select(\n",
    "        col(\"data.created_at\").cast(TimestampType()).alias(\"created_at\"),  # Convert timestamp to Spark TimestampType\n",
    "        col(\"data.entry_id\").alias(\"entry_id\"),\n",
    "        col(\"data.wind_speed\").cast(FloatType()).alias(\"wind_speed\")  # Convert voltage to FloatType for aggregation\n",
    "    ).dropDuplicates([\"entry_id\"]).withWatermark(\"created_at\", \"5 minutes\")\n",
    "\n",
    "parsed_stream = parsed_stream.filter(col(\"data.wind_speed\").isNotNull())\n",
    "\n",
    "\n",
    "# Compute rolling average over a 5-minute window\n",
    "rolling_average = parsed_stream \\\n",
    "    .groupBy(window(col(\"created_at\"), \"5 minutes\")) \\\n",
    "    .agg(avg(\"wind_speed\").alias(\"rolling_avg_wind_speed\")) \\\n",
    "    .select(\n",
    "        col(\"window.start\").alias(\"window_start\"),\n",
    "        col(\"window.end\").alias(\"window_end\"),\n",
    "        col(\"rolling_avg_wind_speed\")\n",
    "    )  # Explicit ordering by window start\n",
    "\n",
    "# Output rolling average to the console\n",
    "query = rolling_average.writeStream \\\n",
    "    .outputMode(\"append\") \\\n",
    "    .format(\"console\") \\\n",
    "    .option(\"truncate\", \"false\") \\\n",
    "    .start()\n",
    "\n",
    "query.awaitTermination()"
   ]
  },
  {
   "cell_type": "code",
   "execution_count": 6,
   "metadata": {},
   "outputs": [],
   "source": [
    "query.stop()"
   ]
  }
 ],
 "metadata": {
  "kernelspec": {
   "display_name": "Python 3 (ipykernel)",
   "language": "python",
   "name": "python3"
  }
 },
 "nbformat": 4,
 "nbformat_minor": 2
}
