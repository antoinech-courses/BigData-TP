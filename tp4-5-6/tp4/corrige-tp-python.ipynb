{
 "cells": [
  {
   "cell_type": "markdown",
   "metadata": {},
   "source": [
    "# Map reduce en Python"
   ]
  },
  {
   "cell_type": "markdown",
   "metadata": {},
   "source": [
    "## Exercice"
   ]
  },
  {
   "cell_type": "markdown",
   "metadata": {},
   "source": [
    "Ecrire un programme qui calcule la distance Euclidienne totale entre une série de points en 2D connectés séquentiellement l'un après l'autre.\n",
    "\n",
    "On vous donne une liste de points en 2D, chaque point étant représenté par un tuple (x, y).\n",
    "\n",
    "- Utilisez map pour calculer la distance entre chaque paire de points consécutifs.\n",
    "- Utilisez ensuite reduce pour calculer la distance totale du trajet reliant tous les points.\n",
    "\n",
    "```python\n",
    "points = [(0, 0), (3, 4), (7, 1), (10, 10)]\n",
    "```"
   ]
  },
  {
   "cell_type": "code",
   "execution_count": null,
   "metadata": {},
   "outputs": [
    {
     "ename": "",
     "evalue": "",
     "output_type": "error",
     "traceback": [
      "\u001b[1;31mRunning cells with 'Python 3.12.3' requires the ipykernel package.\n",
      "\u001b[1;31mRun the following command to install 'ipykernel' into the Python environment. \n",
      "\u001b[1;31mCommand: '/bin/python3 -m pip install ipykernel -U --user --force-reinstall'"
     ]
    }
   ],
   "source": [
    "from functools import reduce\n",
    "import math\n",
    "\n",
    "# Liste de points\n",
    "points = [(0, 0), (3, 4), (7, 1), (10, 10)]\n",
    "\n",
    "# Fonction pour calculer la distance entre deux points\n",
    "def distance(point1, point2):\n",
    "    return math.sqrt((point2[0] - point1[0]) ** 2 + (point2[1] - point1[1]) ** 2)\n",
    "\n",
    "# Utilisation de `map` pour calculer les distances entre points consécutifs\n",
    "distances = list(map(lambda i: distance(points[i], points[i + 1]), range(len(points) - 1)))\n",
    "\n",
    "# Utilisation de `reduce` pour calculer la distance totale\n",
    "total_distance = reduce(lambda x, y: x + y, distances)\n",
    "\n",
    "# Affichage du résultat\n",
    "print(\"Distance totale du trajet :\", total_distance)"
   ]
  }
 ],
 "metadata": {
  "kernelspec": {
   "display_name": "Python 3",
   "language": "python",
   "name": "python3"
  },
  "language_info": {
   "codemirror_mode": {
    "name": "ipython",
    "version": 3
   },
   "file_extension": ".py",
   "mimetype": "text/x-python",
   "name": "python",
   "nbconvert_exporter": "python",
   "pygments_lexer": "ipython3",
   "version": "3.12.3"
  }
 },
 "nbformat": 4,
 "nbformat_minor": 2
}
