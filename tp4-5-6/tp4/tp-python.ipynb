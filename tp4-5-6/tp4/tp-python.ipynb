{
 "cells": [
  {
   "cell_type": "markdown",
   "metadata": {},
   "source": [
    "# Map reduce\n",
    "\n",
    "Le code disponible ci-dessous est celui du cours. Bien entendu dans ce cas on est limités par la puissance et la mémoire de la machine utilisée."
   ]
  },
  {
   "cell_type": "code",
   "execution_count": null,
   "metadata": {},
   "outputs": [],
   "source": [
    "from itertools import chain\n",
    "from functools import reduce"
   ]
  },
  {
   "cell_type": "markdown",
   "metadata": {},
   "source": [
    "## Map"
   ]
  },
  {
   "cell_type": "code",
   "execution_count": null,
   "metadata": {},
   "outputs": [],
   "source": [
    "\n",
    "\n",
    "# Define flat_map using map and itertools.chain\n",
    "def flat_map(func, iterable):\n",
    "    return list(chain.from_iterable(map(func, iterable)))\n",
    "\n",
    "# Initial list of words\n",
    "words = [\"The\", \"Dark\", \"Knight\", \"Rises\"]\n",
    "\n",
    "# Map to get the length of each word\n",
    "lengths = list(map(len, words))\n",
    "print(\"Lengths:\", lengths)\n",
    "\n",
    "# Map to get each word as a list of characters\n",
    "list_of_chars = list(map(list, words))\n",
    "print(\"List of characters:\", list_of_chars)\n",
    "\n",
    "# Map to get the ASCII value of the first character of each word\n",
    "list_of_asciis = list(map(lambda word: ord(word[0]), words))\n",
    "print(\"List of ASCII values:\", list_of_asciis)\n",
    "\n",
    "# FlatMap to flatten all characters\n",
    "chars = flat_map(list, words)\n",
    "print(\"Flattened characters:\", chars)\n",
    "\n",
    "# Map to increment each word length by 1\n",
    "incs = list(map(lambda length: length + 1, lengths))\n",
    "print(\"Incremented lengths:\", incs)"
   ]
  },
  {
   "cell_type": "markdown",
   "metadata": {},
   "source": [
    "## Reduce"
   ]
  },
  {
   "cell_type": "code",
   "execution_count": null,
   "metadata": {},
   "outputs": [],
   "source": [
    "words = [\"The\", \"Dark\", \"Knight\", \"Rises\"]\n",
    "lengths = list(map(len, words))  # Creates a list of lengths: [3, 4, 6, 5]\n",
    "\n",
    "# Concatenates all elements in `words` into a single string.\n",
    "res1 = reduce(lambda x, y: x + y, words) if words else None\n",
    "print(\"res1:\", res1)  \n",
    "\n",
    "# Concatenates all elements in `words`, then adds \"AndFalls\" at the end.\n",
    "res2 = reduce(lambda x, y: x + y, words + [\"AndFalls\"])\n",
    "print(\"res2:\", res2)  \n",
    "\n",
    "# Concatenates \"NaNa\" at the beginning, then adds all elements in `words`.\n",
    "res3 = reduce(lambda x, y: x + y, [\"NaNa\"] + words)\n",
    "print(\"res3:\", res3) \n",
    "\n",
    "# Takes the first letter of each word in `words` and concatenates them.\n",
    "res4 = reduce(lambda x, y: x + y, map(lambda word: word[0], words))\n",
    "print(\"res4:\", res4)  \n",
    "\n",
    "# Sums up all the elements in `lengths`, which represents the total length of all words.\n",
    "res5 = reduce(lambda x, y: x + y, lengths)\n",
    "print(\"res5:\", res5) "
   ]
  },
  {
   "cell_type": "markdown",
   "metadata": {},
   "source": [
    "## Exercice"
   ]
  },
  {
   "cell_type": "markdown",
   "metadata": {},
   "source": [
    "Ecrire un programme qui calcule la distance totale entre une série de points en 2D, connectés séquentiellement comme un trajet.\n",
    "On vous donne une liste de points en 2D, chaque point étant représenté par un tuple (x, y).\n",
    "\n",
    "Utilisez map pour calculer la distance entre chaque paire de points consécutifs.\n",
    "\n",
    "Utilisez ensuite reduce pour calculer la distance totale du trajet reliant tous les points.\n",
    "\n",
    "```python\n",
    "points = [(0, 0), (3, 4), (7, 1), (10, 10)]\n",
    "```"
   ]
  }
 ],
 "metadata": {
  "kernelspec": {
   "display_name": "Python 3",
   "language": "python",
   "name": "python3"
  },
  "language_info": {
   "codemirror_mode": {
    "name": "ipython",
    "version": 3
   },
   "file_extension": ".py",
   "mimetype": "text/x-python",
   "name": "python",
   "nbconvert_exporter": "python",
   "pygments_lexer": "ipython3",
   "version": "3.12.3"
  }
 },
 "nbformat": 4,
 "nbformat_minor": 2
}
