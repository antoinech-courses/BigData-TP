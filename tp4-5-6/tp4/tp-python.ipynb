{
 "cells": [
  {
   "cell_type": "markdown",
   "metadata": {},
   "source": [
    "# Map reduce\n",
    "\n",
    "Le code disponible ci-dessous donne des exemples d'utilisation."
   ]
  },
  {
   "cell_type": "code",
   "execution_count": 2,
   "metadata": {},
   "outputs": [],
   "source": [
    "from itertools import chain\n",
    "from functools import reduce"
   ]
  },
  {
   "cell_type": "markdown",
   "metadata": {},
   "source": [
    "## Map"
   ]
  },
  {
   "cell_type": "markdown",
   "metadata": {},
   "source": [
    "Exemples d'utilisation de Map en Python. Nous définissons aussi un `flatmap`.\n",
    "\n",
    "Exécutez et comprenez ces codes."
   ]
  },
  {
   "cell_type": "code",
   "execution_count": 10,
   "metadata": {},
   "outputs": [
    {
     "name": "stdout",
     "output_type": "stream",
     "text": [
      "Lengths: [3, 4, 6, 5]\n",
      "Test on list function: ['T', 'e', 's', 't']\n",
      "List of characters: [['T', 'h', 'e'], ['D', 'a', 'r', 'k'], ['K', 'n', 'i', 'g', 'h', 't'], ['R', 'i', 's', 'e', 's']]\n",
      "Test on ord function: 84\n",
      "List of ASCII values: [84, 68, 75, 82]\n",
      "Flattened characters: ['T', 'h', 'e', 'D', 'a', 'r', 'k', 'K', 'n', 'i', 'g', 'h', 't', 'R', 'i', 's', 'e', 's']\n",
      "Incremented lengths: [4, 5, 7, 6]\n"
     ]
    }
   ],
   "source": [
    "# Initial list of words\n",
    "words = [\"The\", \"Dark\", \"Knight\", \"Rises\"]\n",
    "\n",
    "# Map to get the length of each word\n",
    "lengths = list(map(len, words))\n",
    "print(\"Lengths:\", lengths)\n",
    "\n",
    "# The List function creates a list from any iterable object\n",
    "print(\"Test on list function:\",list(\"Test\"))\n",
    "\n",
    "# Map to get each word as a list of characters\n",
    "list_of_chars = list(map(list, words))\n",
    "print(\"List of characters:\", list_of_chars)\n",
    "\n",
    "# The ord function returns the ASCII value of a character\n",
    "print(\"Test on ord function:\",ord(\"T\"))\n",
    "\n",
    "# Map to get the ASCII value of the first character of each word\n",
    "# This example uses a lambda anonymous function: https://www.w3schools.com/python/python_lambda.asp\n",
    "list_of_asciis = list(map(lambda word: ord(word[0]), words))\n",
    "print(\"List of ASCII values:\", list_of_asciis)\n",
    "\n",
    "# Define flat_map using map and itertools.chain\n",
    "def flat_map(func, iterable):\n",
    "    return list(chain.from_iterable(map(func, iterable)))\n",
    "\n",
    "# FlatMap to flatten all characters\n",
    "# compare the output to the list_of_chars = list(map(list, words))\n",
    "chars = flat_map(list, words)\n",
    "print(\"Flattened characters:\", chars)\n",
    "\n",
    "# Map to increment each word length by 1\n",
    "incs = list(map(lambda length: length + 1, lengths))\n",
    "print(\"Incremented lengths:\", incs)"
   ]
  },
  {
   "cell_type": "markdown",
   "metadata": {},
   "source": [
    "## Reduce"
   ]
  },
  {
   "cell_type": "markdown",
   "metadata": {},
   "source": [
    "Exemples d'utilisation de Reduce en Python.\n",
    "\n",
    "Exécutez et comprenez ces codes."
   ]
  },
  {
   "cell_type": "code",
   "execution_count": 11,
   "metadata": {},
   "outputs": [
    {
     "name": "stdout",
     "output_type": "stream",
     "text": [
      "res1: TheDarkKnightRises\n",
      "res2: TheDarkKnightRisesAndFalls\n",
      "res3: NaNaTheDarkKnightRises\n",
      "res4: TDKR\n",
      "res5: 18\n"
     ]
    }
   ],
   "source": [
    "words = [\"The\", \"Dark\", \"Knight\", \"Rises\"]\n",
    "lengths = list(map(len, words))  # Creates a list of lengths: [3, 4, 6, 5]\n",
    "\n",
    "# Concatenates all elements in `words` into a single string.\n",
    "res1 = reduce(lambda x, y: x + y, words) if words else None\n",
    "print(\"res1:\", res1)  \n",
    "\n",
    "# Concatenates all elements in `words`, then adds \"AndFalls\" at the end.\n",
    "res2 = reduce(lambda x, y: x + y, words + [\"AndFalls\"])\n",
    "print(\"res2:\", res2)  \n",
    "\n",
    "# Concatenates \"NaNa\" at the beginning, then adds all elements in `words`.\n",
    "res3 = reduce(lambda x, y: x + y, [\"NaNa\"] + words)\n",
    "print(\"res3:\", res3) \n",
    "\n",
    "# Takes the first letter of each word in `words` and concatenates them.\n",
    "res4 = reduce(lambda x, y: x + y, map(lambda word: word[0], words))\n",
    "print(\"res4:\", res4)  \n",
    "\n",
    "# Sums up all the elements in `lengths`, which represents the total length of all words.\n",
    "res5 = reduce(lambda x, y: x + y, lengths)\n",
    "print(\"res5:\", res5) "
   ]
  },
  {
   "cell_type": "markdown",
   "metadata": {},
   "source": [
    "## Exercice"
   ]
  },
  {
   "cell_type": "markdown",
   "metadata": {},
   "source": [
    "Ecrire un programme qui calcule la distance Euclidienne totale entre une série de points en 2D connectés séquentiellement l'un après l'autre.\n",
    "\n",
    "On vous donne une liste de points en 2D, chaque point étant représenté par un tuple (x, y).\n",
    "\n",
    "- Utilisez map pour calculer la distance entre chaque paire de points consécutifs.\n",
    "- Utilisez ensuite reduce pour calculer la distance totale du trajet reliant tous les points.\n",
    "\n",
    "```python\n",
    "points = [(0, 0), (3, 4), (7, 1), (10, 10)]\n",
    "```"
   ]
  },
  {
   "cell_type": "code",
   "execution_count": 12,
   "metadata": {},
   "outputs": [],
   "source": [
    "from functools import reduce\n",
    "import math"
   ]
  }
 ],
 "metadata": {
  "kernelspec": {
   "display_name": "Python 3 (ipykernel)",
   "language": "python",
   "name": "python3"
  },
  "language_info": {
   "codemirror_mode": {
    "name": "ipython",
    "version": 3
   },
   "file_extension": ".py",
   "mimetype": "text/x-python",
   "name": "python",
   "nbconvert_exporter": "python",
   "pygments_lexer": "ipython3",
   "version": "3.12.9"
  }
 },
 "nbformat": 4,
 "nbformat_minor": 2
}
