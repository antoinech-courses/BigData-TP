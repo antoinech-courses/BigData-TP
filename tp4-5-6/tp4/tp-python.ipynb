{
 "cells": [
  {
   "cell_type": "markdown",
   "metadata": {},
   "source": [
    "# Map reduce\n",
    "\n",
    "Le code disponible ci-dessous donne des exemples d'utilisation."
   ]
  },
  {
   "cell_type": "code",
   "execution_count": 12,
   "metadata": {},
   "outputs": [],
   "source": [
    "from itertools import chain\n",
    "from functools import reduce"
   ]
  },
  {
   "cell_type": "markdown",
   "metadata": {},
   "source": [
    "## Map"
   ]
  },
  {
   "cell_type": "markdown",
   "metadata": {},
   "source": [
    "Exemples d'utilisation de Map en Python. Nous définissons aussi un `flatmap`.\n",
    "\n",
    "Exécutez et comprenez ces codes."
   ]
  },
  {
   "cell_type": "code",
   "execution_count": 13,
   "metadata": {},
   "outputs": [
    {
     "ename": "TypeError",
     "evalue": "'map' object is not callable",
     "output_type": "error",
     "traceback": [
      "\u001b[0;31m---------------------------------------------------------------------------\u001b[0m",
      "\u001b[0;31mTypeError\u001b[0m                                 Traceback (most recent call last)",
      "Cell \u001b[0;32mIn[13], line 5\u001b[0m\n\u001b[1;32m      2\u001b[0m words \u001b[38;5;241m=\u001b[39m [\u001b[38;5;124m\"\u001b[39m\u001b[38;5;124mThe\u001b[39m\u001b[38;5;124m\"\u001b[39m, \u001b[38;5;124m\"\u001b[39m\u001b[38;5;124mDark\u001b[39m\u001b[38;5;124m\"\u001b[39m, \u001b[38;5;124m\"\u001b[39m\u001b[38;5;124mKnight\u001b[39m\u001b[38;5;124m\"\u001b[39m, \u001b[38;5;124m\"\u001b[39m\u001b[38;5;124mRises\u001b[39m\u001b[38;5;124m\"\u001b[39m]\n\u001b[1;32m      4\u001b[0m \u001b[38;5;66;03m# Map to get the length of each word\u001b[39;00m\n\u001b[0;32m----> 5\u001b[0m lengths \u001b[38;5;241m=\u001b[39m \u001b[38;5;28mlist\u001b[39m(\u001b[38;5;28;43mmap\u001b[39;49m\u001b[43m(\u001b[49m\u001b[38;5;28;43mlen\u001b[39;49m\u001b[43m,\u001b[49m\u001b[43m \u001b[49m\u001b[43mwords\u001b[49m\u001b[43m)\u001b[49m)\n\u001b[1;32m      6\u001b[0m \u001b[38;5;28mprint\u001b[39m(\u001b[38;5;124m\"\u001b[39m\u001b[38;5;124mLengths:\u001b[39m\u001b[38;5;124m\"\u001b[39m, lengths)\n\u001b[1;32m      8\u001b[0m \u001b[38;5;66;03m# The List function creates a list from any iterable object\u001b[39;00m\n",
      "\u001b[0;31mTypeError\u001b[0m: 'map' object is not callable"
     ]
    }
   ],
   "source": [
    "# Initial list of words\n",
    "words = [\"The\", \"Dark\", \"Knight\", \"Rises\"]\n",
    "\n",
    "# Map to get the length of each word\n",
    "lengths = list(map(len, words))\n",
    "print(\"Lengths:\", lengths)\n",
    "\n",
    "# The List function creates a list from any iterable object\n",
    "print(\"Test on list function:\",list(\"Test\"))\n",
    "\n",
    "# Map to get each word as a list of characters\n",
    "list_of_chars = list(map(list, words))\n",
    "print(\"List of characters:\", list_of_chars)\n",
    "\n",
    "# The ord function returns the ASCII value of a character\n",
    "print(\"Test on ord function:\",ord(\"T\"))\n",
    "\n",
    "# Map to get the ASCII value of the first character of each word\n",
    "# This example uses a lambda anonymous function: https://www.w3schools.com/python/python_lambda.asp\n",
    "list_of_asciis = list(map(lambda word: ord(word[0]), words))\n",
    "print(\"List of ASCII values:\", list_of_asciis)\n",
    "\n",
    "# Define flat_map using map and itertools.chain\n",
    "def flat_map(func, iterable):\n",
    "    return list(chain.from_iterable(map(func, iterable)))\n",
    "\n",
    "# FlatMap to flatten all characters\n",
    "# compare the output to the list_of_chars = list(map(list, words))\n",
    "chars = flat_map(list, words)\n",
    "print(\"Flattened characters:\", chars)\n",
    "\n",
    "# Map to increment each word length by 1\n",
    "incs = list(map(lambda length: length + 1, lengths))\n",
    "print(\"Incremented lengths:\", incs)"
   ]
  },
  {
   "cell_type": "markdown",
   "metadata": {},
   "source": [
    "## Reduce"
   ]
  },
  {
   "cell_type": "markdown",
   "metadata": {},
   "source": [
    "Exemples d'utilisation de Reduce en Python.\n",
    "\n",
    "Exécutez et comprenez ces codes."
   ]
  },
  {
   "cell_type": "code",
   "execution_count": null,
   "metadata": {},
   "outputs": [
    {
     "name": "stdout",
     "output_type": "stream",
     "text": [
      "res1: TheDarkKnightRises\n",
      "res2: TheDarkKnightRisesAndFalls\n",
      "res3: NaNaTheDarkKnightRises\n",
      "res4: TDKR\n",
      "res5: 18\n"
     ]
    }
   ],
   "source": [
    "words = [\"The\", \"Dark\", \"Knight\", \"Rises\"]\n",
    "lengths = list(map(len, words))  # Creates a list of lengths: [3, 4, 6, 5]\n",
    "\n",
    "# Concatenates all elements in `words` into a single string.\n",
    "res1 = reduce(lambda x, y: x + y, words) if words else None\n",
    "print(\"res1:\", res1)  \n",
    "\n",
    "# Concatenates all elements in `words`, then adds \"AndFalls\" at the end.\n",
    "res2 = reduce(lambda x, y: x + y, words + [\"AndFalls\"])\n",
    "print(\"res2:\", res2)  \n",
    "\n",
    "# Concatenates \"NaNa\" at the beginning, then adds all elements in `words`.\n",
    "res3 = reduce(lambda x, y: x + y, [\"NaNa\"] + words)\n",
    "print(\"res3:\", res3) \n",
    "\n",
    "# Takes the first letter of each word in `words` and concatenates them.\n",
    "res4 = reduce(lambda x, y: x + y, map(lambda word: word[0], words))\n",
    "print(\"res4:\", res4)  \n",
    "\n",
    "# Sums up all the elements in `lengths`, which represents the total length of all words.\n",
    "res5 = reduce(lambda x, y: x + y, lengths)\n",
    "print(\"res5:\", res5) "
   ]
  },
  {
   "cell_type": "markdown",
   "metadata": {},
   "source": [
    "## Exercice"
   ]
  },
  {
   "cell_type": "markdown",
   "metadata": {},
   "source": [
    "Ecrire un programme qui calcule la distance Euclidienne totale entre une série de points en 2D connectés séquentiellement l'un après l'autre.\n",
    "\n",
    "On vous donne une liste de points en 2D, chaque point étant représenté par un tuple (x, y).\n",
    "\n",
    "- Utilisez map pour calculer la distance entre chaque paire de points consécutifs.\n",
    "- Utilisez ensuite reduce pour calculer la distance totale du trajet reliant tous les points.\n",
    "\n",
    "```python\n",
    "points = [(0, 0), (3, 4), (7, 1), (10, 10)]\n",
    "```"
   ]
  },
  {
   "cell_type": "code",
   "execution_count": 12,
   "metadata": {},
   "outputs": [
    {
     "name": "stdout",
     "output_type": "stream",
     "text": [
      "19.486832980505138\n"
     ]
    }
   ],
   "source": [
    "from functools import reduce\n",
    "import math\n",
    "\n",
    "points = [(0, 0), (3, 4), (7, 1), (10, 10)]\n",
    "\n",
    "map_result = reduce(lambda x, y: x + y, map(lambda value: math.dist(value[1], points[(value[0]+1) if value[0]+1 < len(points) else value[0]]), enumerate(points)))\n",
    "\n",
    "print(map_result)"
   ]
  }
 ],
 "metadata": {
  "kernelspec": {
   "display_name": "Python 3 (ipykernel)",
   "language": "python",
   "name": "python3"
  },
  "language_info": {
   "codemirror_mode": {
    "name": "ipython",
    "version": 3
   },
   "file_extension": ".py",
   "mimetype": "text/x-python",
   "name": "python",
   "nbconvert_exporter": "python",
   "pygments_lexer": "ipython3",
   "version": "3.12.9"
  }
 },
 "nbformat": 4,
 "nbformat_minor": 2
}
