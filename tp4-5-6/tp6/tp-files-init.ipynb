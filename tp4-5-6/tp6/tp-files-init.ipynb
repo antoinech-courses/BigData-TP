{
 "cells": [
  {
   "cell_type": "markdown",
   "metadata": {},
   "source": [
    "# Init data\n"
   ]
  },
  {
   "cell_type": "markdown",
   "metadata": {},
   "source": [
    "Lancer la commande `docker cp allData.zip jupyter:/home/jovyan/` en premier lieu."
   ]
  },
  {
   "cell_type": "code",
   "execution_count": null,
   "metadata": {},
   "outputs": [],
   "source": [
    "# Commandes à lancer dans le notebook (WSL & Mac) \n",
    "!ls\n",
    "!unzip -o allData.zip \n",
    "!ls"
   ]
  },
  {
   "cell_type": "code",
   "execution_count": null,
   "metadata": {},
   "outputs": [],
   "source": [
    "minio_ip_address = \"minio\""
   ]
  },
  {
   "cell_type": "raw",
   "metadata": {
    "vscode": {
     "languageId": "raw"
    }
   },
   "source": [
    "# Mac\n",
    "minio_ip_address = \"minio\""
   ]
  },
  {
   "cell_type": "code",
   "execution_count": null,
   "metadata": {},
   "outputs": [],
   "source": [
    "from minio import Minio\n",
    "client_minio = Minio(\n",
    "    f\"{minio_ip_address}:9000\",\n",
    "    access_key=\"root\",\n",
    "    secret_key=\"password\",\n",
    "    secure=False\n",
    ")\n",
    "\n",
    "# Création du bucket tp6\n",
    "if client_minio.bucket_exists(\"tp6\") == False:\n",
    "    client_minio.make_bucket(\"tp6\")\n",
    "\n"
   ]
  },
  {
   "cell_type": "markdown",
   "metadata": {},
   "source": [
    "Remise à zéro : destruction des fichiers allData de Minio (si présents)"
   ]
  },
  {
   "cell_type": "code",
   "execution_count": null,
   "metadata": {},
   "outputs": [],
   "source": [
    "# Clear directory\n",
    "directory = \"allData\"\n",
    "from minio.deleteobjects import DeleteObject\n",
    "def deleteFolder1(bucketname, folderName):\n",
    "    # Delete using \"remove_objects\"\n",
    "    objects_to_delete = client_minio.list_objects(bucketname, prefix=folderName, recursive=True)\n",
    "    objects_to_delete = [DeleteObject(x.object_name) for x in objects_to_delete]\n",
    "    print(objects_to_delete)\n",
    "    for del_err in client_minio.remove_objects(bucketname, objects_to_delete):\n",
    "        print(\"Deletion Error: {}\".format(del_err))\n",
    "deleteFolder1(\"tp6\", \"allData\")\n"
   ]
  },
  {
   "cell_type": "markdown",
   "metadata": {},
   "source": [
    "Copie des fichiers allData dans [Minio](http://127.0.0.1:19001/tp7) (10 par seconde)"
   ]
  },
  {
   "cell_type": "code",
   "execution_count": null,
   "metadata": {},
   "outputs": [],
   "source": [
    "import time, os\n",
    "for f in os.listdir(directory):\n",
    "    client_minio.fput_object(\"tp6\", f\"{directory}/{f}\", f\"{directory}/{f}\")\n",
    "    time.sleep(0.1)"
   ]
  },
  {
   "cell_type": "code",
   "execution_count": null,
   "metadata": {},
   "outputs": [],
   "source": []
  }
 ],
 "metadata": {
  "kernelspec": {
   "display_name": "Python 3 (ipykernel)",
   "language": "python",
   "name": "python3"
  },
  "language_info": {
   "codemirror_mode": {
    "name": "ipython",
    "version": 3
   },
   "file_extension": ".py",
   "mimetype": "text/x-python",
   "name": "python",
   "nbconvert_exporter": "python",
   "pygments_lexer": "ipython3",
   "version": "3.12.9"
  }
 },
 "nbformat": 4,
 "nbformat_minor": 2
}
