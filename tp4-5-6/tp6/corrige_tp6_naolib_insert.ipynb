{
 "cells": [
  {
   "cell_type": "code",
   "execution_count": null,
   "metadata": {},
   "outputs": [],
   "source": [
    "# Configuration \n",
    "import minio \n",
    "import docker \n",
    "minio_ip_address = \"minio\""
   ]
  },
  {
   "cell_type": "code",
   "execution_count": null,
   "metadata": {},
   "outputs": [],
   "source": [
    "from minio import Minio\n",
    "client_minio = Minio(\n",
    "    f\"{minio_ip_address}:9000\",\n",
    "    access_key=\"root\",\n",
    "    secret_key=\"password\",\n",
    "    secure=False\n",
    ")\n",
    "\n",
    "# Création du bucket tp6\n",
    "if client_minio.bucket_exists(\"tp6\") == False:\n",
    "    client_minio.make_bucket(\"tp6\")"
   ]
  },
  {
   "cell_type": "code",
   "execution_count": null,
   "metadata": {},
   "outputs": [],
   "source": [
    "from datetime import datetime\n",
    "import time\n",
    "import requests \n",
    "import json \n",
    "import io\n",
    "\n",
    "# URL de l'API\n",
    "API_URL = \"https://open.tan.fr/ewp/tempsattentelieu.json/CTRE/20\"\n",
    "\n",
    "# Fonction pour interroger l'API et envoyer les données à MinIO\n",
    "def fetch_and_upload_api_data():\n",
    "    try:\n",
    "        response = requests.get(API_URL)\n",
    "        if response.status_code == 200:\n",
    "            data = response.json()\n",
    "            if data:\n",
    "                # Préparer le fichier JSON à uploader\n",
    "                timestamp = datetime.utcnow().strftime(\"%Y-%m-%dT%H-%M-%S\")\n",
    "                file_key = f\"naolib/bus_data_{timestamp}.json\"\n",
    "                json_data = \"\\n\".join([json.dumps(record) for record in data])\n",
    "                value_as_bytes = json_data.encode('utf-8')\n",
    "                value_as_a_stream = io.BytesIO(value_as_bytes)\n",
    "\n",
    "                # Upload des données dans MinIO\n",
    "                client_minio.put_object(\n",
    "                    bucket_name=\"tp6\",\n",
    "                    object_name=file_key,\n",
    "                    data=value_as_a_stream,\n",
    "                    length=len(value_as_bytes),\n",
    "                    content_type=\"application/json\"\n",
    "                )\n",
    "\n",
    "                print(f\"Données ajoutées dans MinIO sous {file_key}.\")\n",
    "            else:\n",
    "                print(\"Aucune donnée à envoyer.\")\n",
    "        else:\n",
    "            print(f\"Erreur HTTP : {response.status_code}\")\n",
    "    except Exception as e:\n",
    "        print(f\"Erreur lors de l'accès à l'API ou à MinIO : {e}\")\n",
    "\n",
    "# Interrogation périodique\n",
    "while True:\n",
    "    fetch_and_upload_api_data()\n",
    "    time.sleep(10)  # Intervalle de 10 secondes"
   ]
  },
  {
   "cell_type": "code",
   "execution_count": null,
   "metadata": {},
   "outputs": [],
   "source": []
  }
 ],
 "metadata": {
  "kernelspec": {
   "display_name": "Python 3 (ipykernel)",
   "language": "python",
   "name": "python3"
  },
  "language_info": {
   "codemirror_mode": {
    "name": "ipython",
    "version": 3
   },
   "file_extension": ".py",
   "mimetype": "text/x-python",
   "name": "python",
   "nbconvert_exporter": "python",
   "pygments_lexer": "ipython3",
   "version": "3.12.9"
  }
 },
 "nbformat": 4,
 "nbformat_minor": 2
}
