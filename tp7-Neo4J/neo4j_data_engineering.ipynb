{
 "cells": [
  {
   "cell_type": "markdown",
   "metadata": {
    "id": "7Nvb-_bYx359"
   },
   "source": [
    "# Ingénierie des données graphes avec Neo4j, Spark et GraphFrames"
   ]
  },
  {
   "cell_type": "markdown",
   "metadata": {},
   "source": [
    "Ce notebook est une adaptation inspirée et étendue du notebook suivant : https://github.com/neo4j/neo4j-spark-connector/tree/5.0/examples \n",
    "\n",
    "Vous pouvez trouver la documentation de Neo4j et GraphFrames utilisées ci-dessous (vous en aurez besoin pour ce TP !):\n",
    "- [neo4j](https://neo4j.com/developer/)\n",
    "- [GraphFrames](https://graphframes.github.io/graphframes/docs/_site/index.html)\n",
    "\n",
    "------"
   ]
  },
  {
   "cell_type": "markdown",
   "metadata": {
    "id": "e0bo6ido8tL7"
   },
   "source": [
    "   \n",
    "This notebook contains a set of examples that explains how to extract insights from data using the Neo4j Connector for Apache Spark in a Data Engineering workflow.\n",
    "                                                                                                                  \n",
    "After exploring the basics of the Neo4j Spark connector, we will show one method to go further into the analytics domain using the Spark GraphFrames API. "
   ]
  },
  {
   "cell_type": "code",
   "execution_count": 1,
   "metadata": {},
   "outputs": [],
   "source": [
    "neo4j_url = \"neo4j://neo4j:7687\" # put your neo4j url here\n",
    "neo4j_user = \"neo4j\" # put your neo4j user here\n",
    "neo4j_password = \"neo4jtp9\" # put your neo4j password here"
   ]
  },
  {
   "cell_type": "code",
   "execution_count": 2,
   "metadata": {
    "id": "dOUJ-W871Tur"
   },
   "outputs": [
    {
     "name": "stderr",
     "output_type": "stream",
     "text": [
      "Warning: Ignoring non-Spark config property: neo4j.url\n",
      "Warning: Ignoring non-Spark config property: neo4j.authentication.scheme\n",
      "Warning: Ignoring non-Spark config property: neo4j.authentication.basic.password\n",
      "Warning: Ignoring non-Spark config property: neo4j.authentication.type\n",
      "Warning: Ignoring non-Spark config property: neo4j.authentication.basic.username\n"
     ]
    },
    {
     "name": "stdout",
     "output_type": "stream",
     "text": [
      ":: loading settings :: url = jar:file:/opt/conda/lib/python3.12/site-packages/pyspark/jars/ivy-2.5.1.jar!/org/apache/ivy/core/settings/ivysettings.xml\n"
     ]
    },
    {
     "name": "stderr",
     "output_type": "stream",
     "text": [
      "Ivy Default Cache set to: /home/jovyan/.ivy2/cache\n",
      "The jars for the packages stored in: /home/jovyan/.ivy2/jars\n",
      "org.neo4j#neo4j-connector-apache-spark_2.12 added as a dependency\n",
      "graphframes#graphframes added as a dependency\n",
      ":: resolving dependencies :: org.apache.spark#spark-submit-parent-602e0fcd-5306-47ff-be49-c0b8a6f936d7;1.0\n",
      "\tconfs: [default]\n",
      "\tfound org.neo4j#neo4j-connector-apache-spark_2.12;5.1.0_for_spark_3 in central\n",
      "\tfound org.neo4j#neo4j-connector-apache-spark_2.12_common;5.1.0 in central\n",
      "\tfound org.neo4j.driver#neo4j-java-driver;4.4.12 in central\n",
      "\tfound org.reactivestreams#reactive-streams;1.0.4 in central\n",
      "\tfound org.apache.xbean#xbean-asm6-shaded;4.10 in central\n",
      "\tfound org.neo4j#neo4j-cypher-dsl;2022.9.0 in central\n",
      "\tfound org.apiguardian#apiguardian-api;1.1.2 in central\n",
      "\tfound graphframes#graphframes;0.8.4-spark3.5-s_2.12 in spark-packages\n",
      "\tfound org.slf4j#slf4j-api;1.7.16 in central\n",
      ":: resolution report :: resolve 475ms :: artifacts dl 29ms\n",
      "\t:: modules in use:\n",
      "\tgraphframes#graphframes;0.8.4-spark3.5-s_2.12 from spark-packages in [default]\n",
      "\torg.apache.xbean#xbean-asm6-shaded;4.10 from central in [default]\n",
      "\torg.apiguardian#apiguardian-api;1.1.2 from central in [default]\n",
      "\torg.neo4j#neo4j-connector-apache-spark_2.12;5.1.0_for_spark_3 from central in [default]\n",
      "\torg.neo4j#neo4j-connector-apache-spark_2.12_common;5.1.0 from central in [default]\n",
      "\torg.neo4j#neo4j-cypher-dsl;2022.9.0 from central in [default]\n",
      "\torg.neo4j.driver#neo4j-java-driver;4.4.12 from central in [default]\n",
      "\torg.reactivestreams#reactive-streams;1.0.4 from central in [default]\n",
      "\torg.slf4j#slf4j-api;1.7.16 from central in [default]\n",
      "\t---------------------------------------------------------------------\n",
      "\t|                  |            modules            ||   artifacts   |\n",
      "\t|       conf       | number| search|dwnlded|evicted|| number|dwnlded|\n",
      "\t---------------------------------------------------------------------\n",
      "\t|      default     |   9   |   0   |   0   |   0   ||   9   |   0   |\n",
      "\t---------------------------------------------------------------------\n",
      ":: retrieving :: org.apache.spark#spark-submit-parent-602e0fcd-5306-47ff-be49-c0b8a6f936d7\n",
      "\tconfs: [default]\n",
      "\t0 artifacts copied, 9 already retrieved (0kB/9ms)\n",
      "25/03/04 15:27:02 WARN NativeCodeLoader: Unable to load native-hadoop library for your platform... using builtin-java classes where applicable\n",
      "Setting default log level to \"WARN\".\n",
      "To adjust logging level use sc.setLogLevel(newLevel). For SparkR, use setLogLevel(newLevel).\n"
     ]
    }
   ],
   "source": [
    "from pyspark.sql import SparkSession\n",
    "from pyspark import SparkContext, SparkConf\n",
    "import docker\n",
    "\n",
    "spark = (SparkSession.builder\n",
    "        .master('spark://spark:7077')\n",
    "        .appName('Data engineering workflow with Neo4j and Spark')\n",
    "        .config('spark.ui.port', '4050')\n",
    "        # Just to show dataframes as tables\n",
    "        .config('spark.sql.repl.eagerEval.enabled', True)\n",
    "        .config('spark.jars.packages', 'org.neo4j:neo4j-connector-apache-spark_2.12:5.1.0_for_spark_3,graphframes:graphframes:0.8.4-spark3.5-s_2.12')\n",
    "        # As we're using always the same database instance we'll\n",
    "        # define them as global variables\n",
    "        # so we don't need to repeat them each time\n",
    "        .config(\"neo4j.url\", neo4j_url)\n",
    "        .config(\"neo4j.authentication.type\", \"basic\")\n",
    "        .config(\"neo4j.authentication.scheme\", \"basic\")\n",
    "        .config(\"neo4j.authentication.basic.username\", neo4j_user)\n",
    "        .config(\"neo4j.authentication.basic.password\", neo4j_password)\n",
    "        .getOrCreate())"
   ]
  },
  {
   "cell_type": "markdown",
   "metadata": {
    "id": "b6_YNZnZ5GdT"
   },
   "source": [
    "\n",
    "## Exercises prerequisite\n",
    "\n",
    "In this notebook we and going to test your knowledge. Some of the exercises require the Neo4j Python driver to check if the exercises are being solved correctly.\n",
    "\n",
    "*Neo4j Python Driver is required only for verifying the exercises when you persist data from Spark to Neo4j*\n",
    "\n",
    "**It's not required by the Spark connector!!!**\n",
    "\n",
    "We'll use [Cy2Py](https://github.com/conker84/cy2py), a Jupyter extension that easily allows you to connect to Neo4j and visualize data from Jupyter notebooks.\n",
    "For a detailed instruction about how to use it please dive into [this example](https://github.com/conker84/cy2py/blob/main/examples/Neo4j_Crime_Investigation_Dataset.ipynb)"
   ]
  },
  {
   "cell_type": "markdown",
   "metadata": {
    "id": "uKYEPEgOcG2b"
   },
   "source": [
    "## Load cy2py:"
   ]
  },
  {
   "cell_type": "code",
   "execution_count": 3,
   "metadata": {
    "id": "38EeXF6icKOK"
   },
   "outputs": [
    {
     "name": "stdout",
     "output_type": "stream",
     "text": [
      "Requirement already satisfied: cy2py in /opt/conda/lib/python3.12/site-packages (1.1.6)\n",
      "Requirement already satisfied: ipycytoscape in /opt/conda/lib/python3.12/site-packages (1.3.3)\n",
      "Requirement already satisfied: ipython>=1.0 in /opt/conda/lib/python3.12/site-packages (from cy2py) (8.29.0)\n",
      "Requirement already satisfied: neo4j>=4.4.5 in /opt/conda/lib/python3.12/site-packages (from cy2py) (5.28.1)\n",
      "Requirement already satisfied: ipython-genutils>=0.1.0 in /opt/conda/lib/python3.12/site-packages (from cy2py) (0.2.0)\n",
      "Requirement already satisfied: networkx in /opt/conda/lib/python3.12/site-packages (from cy2py) (3.4.2)\n",
      "Requirement already satisfied: ipywidgets>=7.6.0 in /opt/conda/lib/python3.12/site-packages (from ipycytoscape) (8.1.5)\n",
      "Requirement already satisfied: spectate>=1.0.0 in /opt/conda/lib/python3.12/site-packages (from ipycytoscape) (1.0.1)\n",
      "Requirement already satisfied: decorator in /opt/conda/lib/python3.12/site-packages (from ipython>=1.0->cy2py) (5.1.1)\n",
      "Requirement already satisfied: jedi>=0.16 in /opt/conda/lib/python3.12/site-packages (from ipython>=1.0->cy2py) (0.19.2)\n",
      "Requirement already satisfied: matplotlib-inline in /opt/conda/lib/python3.12/site-packages (from ipython>=1.0->cy2py) (0.1.7)\n",
      "Requirement already satisfied: prompt-toolkit<3.1.0,>=3.0.41 in /opt/conda/lib/python3.12/site-packages (from ipython>=1.0->cy2py) (3.0.48)\n",
      "Requirement already satisfied: pygments>=2.4.0 in /opt/conda/lib/python3.12/site-packages (from ipython>=1.0->cy2py) (2.18.0)\n",
      "Requirement already satisfied: stack-data in /opt/conda/lib/python3.12/site-packages (from ipython>=1.0->cy2py) (0.6.2)\n",
      "Requirement already satisfied: traitlets>=5.13.0 in /opt/conda/lib/python3.12/site-packages (from ipython>=1.0->cy2py) (5.14.3)\n",
      "Requirement already satisfied: pexpect>4.3 in /opt/conda/lib/python3.12/site-packages (from ipython>=1.0->cy2py) (4.9.0)\n",
      "Requirement already satisfied: comm>=0.1.3 in /opt/conda/lib/python3.12/site-packages (from ipywidgets>=7.6.0->ipycytoscape) (0.2.2)\n",
      "Requirement already satisfied: widgetsnbextension~=4.0.12 in /opt/conda/lib/python3.12/site-packages (from ipywidgets>=7.6.0->ipycytoscape) (4.0.13)\n",
      "Requirement already satisfied: jupyterlab-widgets~=3.0.12 in /opt/conda/lib/python3.12/site-packages (from ipywidgets>=7.6.0->ipycytoscape) (3.0.13)\n",
      "Requirement already satisfied: pytz in /opt/conda/lib/python3.12/site-packages (from neo4j>=4.4.5->cy2py) (2024.1)\n",
      "Requirement already satisfied: parso<0.9.0,>=0.8.4 in /opt/conda/lib/python3.12/site-packages (from jedi>=0.16->ipython>=1.0->cy2py) (0.8.4)\n",
      "Requirement already satisfied: ptyprocess>=0.5 in /opt/conda/lib/python3.12/site-packages (from pexpect>4.3->ipython>=1.0->cy2py) (0.7.0)\n",
      "Requirement already satisfied: wcwidth in /opt/conda/lib/python3.12/site-packages (from prompt-toolkit<3.1.0,>=3.0.41->ipython>=1.0->cy2py) (0.2.13)\n",
      "Requirement already satisfied: executing>=1.2.0 in /opt/conda/lib/python3.12/site-packages (from stack-data->ipython>=1.0->cy2py) (2.1.0)\n",
      "Requirement already satisfied: asttokens>=2.1.0 in /opt/conda/lib/python3.12/site-packages (from stack-data->ipython>=1.0->cy2py) (2.4.1)\n",
      "Requirement already satisfied: pure-eval in /opt/conda/lib/python3.12/site-packages (from stack-data->ipython>=1.0->cy2py) (0.2.3)\n",
      "Requirement already satisfied: six>=1.12.0 in /opt/conda/lib/python3.12/site-packages (from asttokens>=2.1.0->stack-data->ipython>=1.0->cy2py) (1.16.0)\n",
      "Note: you may need to restart the kernel to use updated packages.\n"
     ]
    }
   ],
   "source": [
    "%pip install cy2py ipycytoscape\n",
    "%load_ext cy2py"
   ]
  },
  {
   "cell_type": "markdown",
   "metadata": {},
   "source": [
    "To use cy2py, you may first check the %cypher? manual using the following cell "
   ]
  },
  {
   "cell_type": "code",
   "execution_count": 4,
   "metadata": {},
   "outputs": [
    {
     "name": "stdout",
     "output_type": "stream",
     "text": [
      "\u001b[0;31mDocstring:\u001b[0m\n",
      "::\n",
      "\n",
      "  %cypher [-a ALIAS] [-u URI] [-us USERNAME] [-pw PASSWORD] [-db DATABASE]\n",
      "              [-q QUERY] [-p PARAMS] [-c CLOSE] [-co COLORS] [-ca CAPTIONS]\n",
      "              [-la LAYOUT] [-l]\n",
      "\n",
      "options:\n",
      "  -a ALIAS, --alias ALIAS\n",
      "                        The Neo4j connection configuration alias. You after\n",
      "                        you defined it the first time in combination with the\n",
      "                        other arguments you can use only it to connect to the\n",
      "                        Neo4j instance without repassing the arguments each\n",
      "                        time. If you don't specify it the first time you'll\n",
      "                        pass the config it'll became the default for each\n",
      "                        connection\n",
      "  -u URI, --uri URI     The Neo4j URI. You can use this kind of URI in order\n",
      "                        to define a specific database to query:\n",
      "                        neo4j://localhost:7687/my-db\n",
      "  -us USERNAME, --username USERNAME\n",
      "                        The Neo4j User\n",
      "  -pw PASSWORD, --password PASSWORD\n",
      "                        The Neo4j Password\n",
      "  -db DATABASE, --database DATABASE\n",
      "                        The Neo4j Database, if not provided we use the default\n",
      "  -q QUERY, --query QUERY\n",
      "                        Pass the Cypher query as argument. Valid only when you\n",
      "                        use line magic.\n",
      "  -p PARAMS, --params PARAMS\n",
      "                        A map of Cypher query parameters\n",
      "  -c CLOSE, --close CLOSE\n",
      "                        Close a Driver connection by alias or URI\n",
      "  -co COLORS, --colors COLORS\n",
      "                        A map label/color\n",
      "  -ca CAPTIONS, --captions CAPTIONS\n",
      "                        A map label/caption\n",
      "  -la LAYOUT, --layout LAYOUT\n",
      "                        A map for layout configuration\n",
      "  -l, --list            List active configurations\n",
      "\u001b[0;31mFile:\u001b[0m      /opt/conda/lib/python3.12/site-packages/cy2py/cy2.py"
     ]
    }
   ],
   "source": [
    "%cypher?"
   ]
  },
  {
   "cell_type": "markdown",
   "metadata": {
    "id": "AQhqv93Mj0Ss"
   },
   "source": [
    "#### Populate the database\n",
    "\n",
    "To perform this section go in the Neo4j Brower of your local (docker) instance [here](http://localhost:7474) using the same credentials as your session defined above (`neo4j:neo4jtp9`) and paste the following query:\n",
    "\n",
    "<details>\n",
    "<summary>\n",
    "Show the Cypher query\n",
    "</summary>\n",
    "\n",
    "```cypher\n",
    "CREATE (TheMatrix:Movie {title:'The Matrix', released:1999, tagline:'Welcome to the Real World'})\n",
    "CREATE (Keanu:Person {name:'Keanu Reeves', born:1964})\n",
    "CREATE (Carrie:Person {name:'Carrie-Anne Moss', born:1967})\n",
    "CREATE (Laurence:Person {name:'Laurence Fishburne', born:1961})\n",
    "CREATE (Hugo:Person {name:'Hugo Weaving', born:1960})\n",
    "CREATE (LillyW:Person {name:'Lilly Wachowski', born:1967})\n",
    "CREATE (LanaW:Person {name:'Lana Wachowski', born:1965})\n",
    "CREATE (JoelS:Person {name:'Joel Silver', born:1952})\n",
    "CREATE\n",
    "(Keanu)-[:ACTED_IN {roles:['Neo']}]->(TheMatrix),\n",
    "(Carrie)-[:ACTED_IN {roles:['Trinity']}]->(TheMatrix),\n",
    "(Laurence)-[:ACTED_IN {roles:['Morpheus']}]->(TheMatrix),\n",
    "(Hugo)-[:ACTED_IN {roles:['Agent Smith']}]->(TheMatrix),\n",
    "(LillyW)-[:DIRECTED]->(TheMatrix),\n",
    "(LanaW)-[:DIRECTED]->(TheMatrix),\n",
    "(JoelS)-[:PRODUCED]->(TheMatrix)\n",
    "\n",
    "CREATE (Emil:Person {name:\"Emil Eifrem\", born:1978})\n",
    "CREATE (Emil)-[:ACTED_IN {roles:[\"Emil\"]}]->(TheMatrix)\n",
    "\n",
    "CREATE (TheMatrixReloaded:Movie {title:'The Matrix Reloaded', released:2003, tagline:'Free your mind'})\n",
    "CREATE\n",
    "(Keanu)-[:ACTED_IN {roles:['Neo']}]->(TheMatrixReloaded),\n",
    "(Carrie)-[:ACTED_IN {roles:['Trinity']}]->(TheMatrixReloaded),\n",
    "(Laurence)-[:ACTED_IN {roles:['Morpheus']}]->(TheMatrixReloaded),\n",
    "(Hugo)-[:ACTED_IN {roles:['Agent Smith']}]->(TheMatrixReloaded),\n",
    "(LillyW)-[:DIRECTED]->(TheMatrixReloaded),\n",
    "(LanaW)-[:DIRECTED]->(TheMatrixReloaded),\n",
    "(JoelS)-[:PRODUCED]->(TheMatrixReloaded)\n",
    "\n",
    "CREATE (TheMatrixRevolutions:Movie {title:'The Matrix Revolutions', released:2003, tagline:'Everything that has a beginning has an end'})\n",
    "CREATE\n",
    "(Keanu)-[:ACTED_IN {roles:['Neo']}]->(TheMatrixRevolutions),\n",
    "(Carrie)-[:ACTED_IN {roles:['Trinity']}]->(TheMatrixRevolutions),\n",
    "(Laurence)-[:ACTED_IN {roles:['Morpheus']}]->(TheMatrixRevolutions),\n",
    "(Hugo)-[:ACTED_IN {roles:['Agent Smith']}]->(TheMatrixRevolutions),\n",
    "(LillyW)-[:DIRECTED]->(TheMatrixRevolutions),\n",
    "(LanaW)-[:DIRECTED]->(TheMatrixRevolutions),\n",
    "(JoelS)-[:PRODUCED]->(TheMatrixRevolutions)\n",
    "\n",
    "CREATE (TheDevilsAdvocate:Movie {title:\"The Devil's Advocate\", released:1997, tagline:'Evil has its winning ways'})\n",
    "CREATE (Charlize:Person {name:'Charlize Theron', born:1975})\n",
    "CREATE (Al:Person {name:'Al Pacino', born:1940})\n",
    "CREATE (Taylor:Person {name:'Taylor Hackford', born:1944})\n",
    "CREATE\n",
    "(Keanu)-[:ACTED_IN {roles:['Kevin Lomax']}]->(TheDevilsAdvocate),\n",
    "(Charlize)-[:ACTED_IN {roles:['Mary Ann Lomax']}]->(TheDevilsAdvocate),\n",
    "(Al)-[:ACTED_IN {roles:['John Milton']}]->(TheDevilsAdvocate),\n",
    "(Taylor)-[:DIRECTED]->(TheDevilsAdvocate)\n",
    "\n",
    "CREATE (AFewGoodMen:Movie {title:\"A Few Good Men\", released:1992, tagline:\"In the heart of the nation's capital, in a courthouse of the U.S. government, one man will stop at nothing to keep his honor, and one will stop at nothing to find the truth.\"})\n",
    "CREATE (TomC:Person {name:'Tom Cruise', born:1962})\n",
    "CREATE (JackN:Person {name:'Jack Nicholson', born:1937})\n",
    "CREATE (DemiM:Person {name:'Demi Moore', born:1962})\n",
    "CREATE (KevinB:Person {name:'Kevin Bacon', born:1958})\n",
    "CREATE (KieferS:Person {name:'Kiefer Sutherland', born:1966})\n",
    "CREATE (NoahW:Person {name:'Noah Wyle', born:1971})\n",
    "CREATE (CubaG:Person {name:'Cuba Gooding Jr.', born:1968})\n",
    "CREATE (KevinP:Person {name:'Kevin Pollak', born:1957})\n",
    "CREATE (JTW:Person {name:'J.T. Walsh', born:1943})\n",
    "CREATE (JamesM:Person {name:'James Marshall', born:1967})\n",
    "CREATE (ChristopherG:Person {name:'Christopher Guest', born:1948})\n",
    "CREATE (RobR:Person {name:'Rob Reiner', born:1947})\n",
    "CREATE (AaronS:Person {name:'Aaron Sorkin', born:1961})\n",
    "CREATE\n",
    "(TomC)-[:ACTED_IN {roles:['Lt. Daniel Kaffee']}]->(AFewGoodMen),\n",
    "(JackN)-[:ACTED_IN {roles:['Col. Nathan R. Jessup']}]->(AFewGoodMen),\n",
    "(DemiM)-[:ACTED_IN {roles:['Lt. Cdr. JoAnne Galloway']}]->(AFewGoodMen),\n",
    "(KevinB)-[:ACTED_IN {roles:['Capt. Jack Ross']}]->(AFewGoodMen),\n",
    "(KieferS)-[:ACTED_IN {roles:['Lt. Jonathan Kendrick']}]->(AFewGoodMen),\n",
    "(NoahW)-[:ACTED_IN {roles:['Cpl. Jeffrey Barnes']}]->(AFewGoodMen),\n",
    "(CubaG)-[:ACTED_IN {roles:['Cpl. Carl Hammaker']}]->(AFewGoodMen),\n",
    "(KevinP)-[:ACTED_IN {roles:['Lt. Sam Weinberg']}]->(AFewGoodMen),\n",
    "(JTW)-[:ACTED_IN {roles:['Lt. Col. Matthew Andrew Markinson']}]->(AFewGoodMen),\n",
    "(JamesM)-[:ACTED_IN {roles:['Pfc. Louden Downey']}]->(AFewGoodMen),\n",
    "(ChristopherG)-[:ACTED_IN {roles:['Dr. Stone']}]->(AFewGoodMen),\n",
    "(AaronS)-[:ACTED_IN {roles:['Man in Bar']}]->(AFewGoodMen),\n",
    "(RobR)-[:DIRECTED]->(AFewGoodMen),\n",
    "(AaronS)-[:WROTE]->(AFewGoodMen)\n",
    "\n",
    "CREATE (TopGun:Movie {title:\"Top Gun\", released:1986, tagline:'I feel the need, the need for speed.'})\n",
    "CREATE (KellyM:Person {name:'Kelly McGillis', born:1957})\n",
    "CREATE (ValK:Person {name:'Val Kilmer', born:1959})\n",
    "CREATE (AnthonyE:Person {name:'Anthony Edwards', born:1962})\n",
    "CREATE (TomS:Person {name:'Tom Skerritt', born:1933})\n",
    "CREATE (MegR:Person {name:'Meg Ryan', born:1961})\n",
    "CREATE (TonyS:Person {name:'Tony Scott', born:1944})\n",
    "CREATE (JimC:Person {name:'Jim Cash', born:1941})\n",
    "CREATE\n",
    "(TomC)-[:ACTED_IN {roles:['Maverick']}]->(TopGun),\n",
    "(KellyM)-[:ACTED_IN {roles:['Charlie']}]->(TopGun),\n",
    "(ValK)-[:ACTED_IN {roles:['Iceman']}]->(TopGun),\n",
    "(AnthonyE)-[:ACTED_IN {roles:['Goose']}]->(TopGun),\n",
    "(TomS)-[:ACTED_IN {roles:['Viper']}]->(TopGun),\n",
    "(MegR)-[:ACTED_IN {roles:['Carole']}]->(TopGun),\n",
    "(TonyS)-[:DIRECTED]->(TopGun),\n",
    "(JimC)-[:WROTE]->(TopGun)\n",
    "\n",
    "CREATE (JerryMaguire:Movie {title:'Jerry Maguire', released:2000, tagline:'The rest of his life begins now.'})\n",
    "CREATE (ReneeZ:Person {name:'Renee Zellweger', born:1969})\n",
    "CREATE (KellyP:Person {name:'Kelly Preston', born:1962})\n",
    "CREATE (JerryO:Person {name:\"Jerry O'Connell\", born:1974})\n",
    "CREATE (JayM:Person {name:'Jay Mohr', born:1970})\n",
    "CREATE (BonnieH:Person {name:'Bonnie Hunt', born:1961})\n",
    "CREATE (ReginaK:Person {name:'Regina King', born:1971})\n",
    "CREATE (JonathanL:Person {name:'Jonathan Lipnicki', born:1996})\n",
    "CREATE (CameronC:Person {name:'Cameron Crowe', born:1957})\n",
    "CREATE\n",
    "(TomC)-[:ACTED_IN {roles:['Jerry Maguire']}]->(JerryMaguire),\n",
    "(CubaG)-[:ACTED_IN {roles:['Rod Tidwell']}]->(JerryMaguire),\n",
    "(ReneeZ)-[:ACTED_IN {roles:['Dorothy Boyd']}]->(JerryMaguire),\n",
    "(KellyP)-[:ACTED_IN {roles:['Avery Bishop']}]->(JerryMaguire),\n",
    "(JerryO)-[:ACTED_IN {roles:['Frank Cushman']}]->(JerryMaguire),\n",
    "(JayM)-[:ACTED_IN {roles:['Bob Sugar']}]->(JerryMaguire),\n",
    "(BonnieH)-[:ACTED_IN {roles:['Laurel Boyd']}]->(JerryMaguire),\n",
    "(ReginaK)-[:ACTED_IN {roles:['Marcee Tidwell']}]->(JerryMaguire),\n",
    "(JonathanL)-[:ACTED_IN {roles:['Ray Boyd']}]->(JerryMaguire),\n",
    "(CameronC)-[:DIRECTED]->(JerryMaguire),\n",
    "(CameronC)-[:PRODUCED]->(JerryMaguire),\n",
    "(CameronC)-[:WROTE]->(JerryMaguire)\n",
    "\n",
    "CREATE (StandByMe:Movie {title:\"Stand By Me\", released:1986, tagline:\"For some, it's the last real taste of innocence, and the first real taste of life. But for everyone, it's the time that memories are made of.\"})\n",
    "CREATE (RiverP:Person {name:'River Phoenix', born:1970})\n",
    "CREATE (CoreyF:Person {name:'Corey Feldman', born:1971})\n",
    "CREATE (WilW:Person {name:'Wil Wheaton', born:1972})\n",
    "CREATE (JohnC:Person {name:'John Cusack', born:1966})\n",
    "CREATE (MarshallB:Person {name:'Marshall Bell', born:1942})\n",
    "CREATE\n",
    "(WilW)-[:ACTED_IN {roles:['Gordie Lachance']}]->(StandByMe),\n",
    "(RiverP)-[:ACTED_IN {roles:['Chris Chambers']}]->(StandByMe),\n",
    "(JerryO)-[:ACTED_IN {roles:['Vern Tessio']}]->(StandByMe),\n",
    "(CoreyF)-[:ACTED_IN {roles:['Teddy Duchamp']}]->(StandByMe),\n",
    "(JohnC)-[:ACTED_IN {roles:['Denny Lachance']}]->(StandByMe),\n",
    "(KieferS)-[:ACTED_IN {roles:['Ace Merrill']}]->(StandByMe),\n",
    "(MarshallB)-[:ACTED_IN {roles:['Mr. Lachance']}]->(StandByMe),\n",
    "(RobR)-[:DIRECTED]->(StandByMe)\n",
    "\n",
    "CREATE (AsGoodAsItGets:Movie {title:'As Good as It Gets', released:1997, tagline:'A comedy from the heart that goes for the throat.'})\n",
    "CREATE (HelenH:Person {name:'Helen Hunt', born:1963})\n",
    "CREATE (GregK:Person {name:'Greg Kinnear', born:1963})\n",
    "CREATE (JamesB:Person {name:'James L. Brooks', born:1940})\n",
    "CREATE\n",
    "(JackN)-[:ACTED_IN {roles:['Melvin Udall']}]->(AsGoodAsItGets),\n",
    "(HelenH)-[:ACTED_IN {roles:['Carol Connelly']}]->(AsGoodAsItGets),\n",
    "(GregK)-[:ACTED_IN {roles:['Simon Bishop']}]->(AsGoodAsItGets),\n",
    "(CubaG)-[:ACTED_IN {roles:['Frank Sachs']}]->(AsGoodAsItGets),\n",
    "(JamesB)-[:DIRECTED]->(AsGoodAsItGets)\n",
    "\n",
    "CREATE (WhatDreamsMayCome:Movie {title:'What Dreams May Come', released:1998, tagline:'After life there is more. The end is just the beginning.'})\n",
    "CREATE (AnnabellaS:Person {name:'Annabella Sciorra', born:1960})\n",
    "CREATE (MaxS:Person {name:'Max von Sydow', born:1929})\n",
    "CREATE (WernerH:Person {name:'Werner Herzog', born:1942})\n",
    "CREATE (Robin:Person {name:'Robin Williams', born:1951})\n",
    "CREATE (VincentW:Person {name:'Vincent Ward', born:1956})\n",
    "CREATE\n",
    "(Robin)-[:ACTED_IN {roles:['Chris Nielsen']}]->(WhatDreamsMayCome),\n",
    "(CubaG)-[:ACTED_IN {roles:['Albert Lewis']}]->(WhatDreamsMayCome),\n",
    "(AnnabellaS)-[:ACTED_IN {roles:['Annie Collins-Nielsen']}]->(WhatDreamsMayCome),\n",
    "(MaxS)-[:ACTED_IN {roles:['The Tracker']}]->(WhatDreamsMayCome),\n",
    "(WernerH)-[:ACTED_IN {roles:['The Face']}]->(WhatDreamsMayCome),\n",
    "(VincentW)-[:DIRECTED]->(WhatDreamsMayCome)\n",
    "\n",
    "CREATE (SnowFallingonCedars:Movie {title:'Snow Falling on Cedars', released:1999, tagline:'First loves last. Forever.'})\n",
    "CREATE (EthanH:Person {name:'Ethan Hawke', born:1970})\n",
    "CREATE (RickY:Person {name:'Rick Yune', born:1971})\n",
    "CREATE (JamesC:Person {name:'James Cromwell', born:1940})\n",
    "CREATE (ScottH:Person {name:'Scott Hicks', born:1953})\n",
    "CREATE\n",
    "(EthanH)-[:ACTED_IN {roles:['Ishmael Chambers']}]->(SnowFallingonCedars),\n",
    "(RickY)-[:ACTED_IN {roles:['Kazuo Miyamoto']}]->(SnowFallingonCedars),\n",
    "(MaxS)-[:ACTED_IN {roles:['Nels Gudmundsson']}]->(SnowFallingonCedars),\n",
    "(JamesC)-[:ACTED_IN {roles:['Judge Fielding']}]->(SnowFallingonCedars),\n",
    "(ScottH)-[:DIRECTED]->(SnowFallingonCedars)\n",
    "\n",
    "CREATE (YouveGotMail:Movie {title:\"You've Got Mail\", released:1998, tagline:'At odds in life... in love on-line.'})\n",
    "CREATE (ParkerP:Person {name:'Parker Posey', born:1968})\n",
    "CREATE (DaveC:Person {name:'Dave Chappelle', born:1973})\n",
    "CREATE (SteveZ:Person {name:'Steve Zahn', born:1967})\n",
    "CREATE (TomH:Person {name:'Tom Hanks', born:1956})\n",
    "CREATE (NoraE:Person {name:'Nora Ephron', born:1941})\n",
    "CREATE\n",
    "(TomH)-[:ACTED_IN {roles:['Joe Fox']}]->(YouveGotMail),\n",
    "(MegR)-[:ACTED_IN {roles:['Kathleen Kelly']}]->(YouveGotMail),\n",
    "(GregK)-[:ACTED_IN {roles:['Frank Navasky']}]->(YouveGotMail),\n",
    "(ParkerP)-[:ACTED_IN {roles:['Patricia Eden']}]->(YouveGotMail),\n",
    "(DaveC)-[:ACTED_IN {roles:['Kevin Jackson']}]->(YouveGotMail),\n",
    "(SteveZ)-[:ACTED_IN {roles:['George Pappas']}]->(YouveGotMail),\n",
    "(NoraE)-[:DIRECTED]->(YouveGotMail)\n",
    "\n",
    "CREATE (SleeplessInSeattle:Movie {title:'Sleepless in Seattle', released:1993, tagline:'What if someone you never met, someone you never saw, someone you never knew was the only someone for you?'})\n",
    "CREATE (RitaW:Person {name:'Rita Wilson', born:1956})\n",
    "CREATE (BillPull:Person {name:'Bill Pullman', born:1953})\n",
    "CREATE (VictorG:Person {name:'Victor Garber', born:1949})\n",
    "CREATE (RosieO:Person {name:\"Rosie O'Donnell\", born:1962})\n",
    "CREATE\n",
    "(TomH)-[:ACTED_IN {roles:['Sam Baldwin']}]->(SleeplessInSeattle),\n",
    "(MegR)-[:ACTED_IN {roles:['Annie Reed']}]->(SleeplessInSeattle),\n",
    "(RitaW)-[:ACTED_IN {roles:['Suzy']}]->(SleeplessInSeattle),\n",
    "(BillPull)-[:ACTED_IN {roles:['Walter']}]->(SleeplessInSeattle),\n",
    "(VictorG)-[:ACTED_IN {roles:['Greg']}]->(SleeplessInSeattle),\n",
    "(RosieO)-[:ACTED_IN {roles:['Becky']}]->(SleeplessInSeattle),\n",
    "(NoraE)-[:DIRECTED]->(SleeplessInSeattle)\n",
    "\n",
    "CREATE (JoeVersustheVolcano:Movie {title:'Joe Versus the Volcano', released:1990, tagline:'A story of love, lava and burning desire.'})\n",
    "CREATE (JohnS:Person {name:'John Patrick Stanley', born:1950})\n",
    "CREATE (Nathan:Person {name:'Nathan Lane', born:1956})\n",
    "CREATE\n",
    "(TomH)-[:ACTED_IN {roles:['Joe Banks']}]->(JoeVersustheVolcano),\n",
    "(MegR)-[:ACTED_IN {roles:['DeDe', 'Angelica Graynamore', 'Patricia Graynamore']}]->(JoeVersustheVolcano),\n",
    "(Nathan)-[:ACTED_IN {roles:['Baw']}]->(JoeVersustheVolcano),\n",
    "(JohnS)-[:DIRECTED]->(JoeVersustheVolcano)\n",
    "\n",
    "CREATE (WhenHarryMetSally:Movie {title:'When Harry Met Sally', released:1998, tagline:'Can two friends sleep together and still love each other in the morning?'})\n",
    "CREATE (BillyC:Person {name:'Billy Crystal', born:1948})\n",
    "CREATE (CarrieF:Person {name:'Carrie Fisher', born:1956})\n",
    "CREATE (BrunoK:Person {name:'Bruno Kirby', born:1949})\n",
    "CREATE\n",
    "(BillyC)-[:ACTED_IN {roles:['Harry Burns']}]->(WhenHarryMetSally),\n",
    "(MegR)-[:ACTED_IN {roles:['Sally Albright']}]->(WhenHarryMetSally),\n",
    "(CarrieF)-[:ACTED_IN {roles:['Marie']}]->(WhenHarryMetSally),\n",
    "(BrunoK)-[:ACTED_IN {roles:['Jess']}]->(WhenHarryMetSally),\n",
    "(RobR)-[:DIRECTED]->(WhenHarryMetSally),\n",
    "(RobR)-[:PRODUCED]->(WhenHarryMetSally),\n",
    "(NoraE)-[:PRODUCED]->(WhenHarryMetSally),\n",
    "(NoraE)-[:WROTE]->(WhenHarryMetSally)\n",
    "\n",
    "CREATE (ThatThingYouDo:Movie {title:'That Thing You Do', released:1996, tagline:'In every life there comes a time when that thing you dream becomes that thing you do'})\n",
    "CREATE (LivT:Person {name:'Liv Tyler', born:1977})\n",
    "CREATE\n",
    "(TomH)-[:ACTED_IN {roles:['Mr. White']}]->(ThatThingYouDo),\n",
    "(LivT)-[:ACTED_IN {roles:['Faye Dolan']}]->(ThatThingYouDo),\n",
    "(Charlize)-[:ACTED_IN {roles:['Tina']}]->(ThatThingYouDo),\n",
    "(TomH)-[:DIRECTED]->(ThatThingYouDo)\n",
    "\n",
    "CREATE (TheReplacements:Movie {title:'The Replacements', released:2000, tagline:'Pain heals, Chicks dig scars... Glory lasts forever'})\n",
    "CREATE (Brooke:Person {name:'Brooke Langton', born:1970})\n",
    "CREATE (Gene:Person {name:'Gene Hackman', born:1930})\n",
    "CREATE (Orlando:Person {name:'Orlando Jones', born:1968})\n",
    "CREATE (Howard:Person {name:'Howard Deutch', born:1950})\n",
    "CREATE\n",
    "(Keanu)-[:ACTED_IN {roles:['Shane Falco']}]->(TheReplacements),\n",
    "(Brooke)-[:ACTED_IN {roles:['Annabelle Farrell']}]->(TheReplacements),\n",
    "(Gene)-[:ACTED_IN {roles:['Jimmy McGinty']}]->(TheReplacements),\n",
    "(Orlando)-[:ACTED_IN {roles:['Clifford Franklin']}]->(TheReplacements),\n",
    "(Howard)-[:DIRECTED]->(TheReplacements)\n",
    "\n",
    "CREATE (RescueDawn:Movie {title:'RescueDawn', released:2006, tagline:\"Based on the extraordinary true story of one man's fight for freedom\"})\n",
    "CREATE (ChristianB:Person {name:'Christian Bale', born:1974})\n",
    "CREATE (ZachG:Person {name:'Zach Grenier', born:1954})\n",
    "CREATE\n",
    "(MarshallB)-[:ACTED_IN {roles:['Admiral']}]->(RescueDawn),\n",
    "(ChristianB)-[:ACTED_IN {roles:['Dieter Dengler']}]->(RescueDawn),\n",
    "(ZachG)-[:ACTED_IN {roles:['Squad Leader']}]->(RescueDawn),\n",
    "(SteveZ)-[:ACTED_IN {roles:['Duane']}]->(RescueDawn),\n",
    "(WernerH)-[:DIRECTED]->(RescueDawn)\n",
    "\n",
    "CREATE (TheBirdcage:Movie {title:'The Birdcage', released:1996, tagline:'Come as you are'})\n",
    "CREATE (MikeN:Person {name:'Mike Nichols', born:1931})\n",
    "CREATE\n",
    "(Robin)-[:ACTED_IN {roles:['Armand Goldman']}]->(TheBirdcage),\n",
    "(Nathan)-[:ACTED_IN {roles:['Albert Goldman']}]->(TheBirdcage),\n",
    "(Gene)-[:ACTED_IN {roles:['Sen. Kevin Keeley']}]->(TheBirdcage),\n",
    "(MikeN)-[:DIRECTED]->(TheBirdcage)\n",
    "\n",
    "CREATE (Unforgiven:Movie {title:'Unforgiven', released:1992, tagline:\"It's a hell of a thing, killing a man\"})\n",
    "CREATE (RichardH:Person {name:'Richard Harris', born:1930})\n",
    "CREATE (ClintE:Person {name:'Clint Eastwood', born:1930})\n",
    "CREATE\n",
    "(RichardH)-[:ACTED_IN {roles:['English Bob']}]->(Unforgiven),\n",
    "(ClintE)-[:ACTED_IN {roles:['Bill Munny']}]->(Unforgiven),\n",
    "(Gene)-[:ACTED_IN {roles:['Little Bill Daggett']}]->(Unforgiven),\n",
    "(ClintE)-[:DIRECTED]->(Unforgiven)\n",
    "\n",
    "CREATE (JohnnyMnemonic:Movie {title:'Johnny Mnemonic', released:1995, tagline:'The hottest data on earth. In the coolest head in town'})\n",
    "CREATE (Takeshi:Person {name:'Takeshi Kitano', born:1947})\n",
    "CREATE (Dina:Person {name:'Dina Meyer', born:1968})\n",
    "CREATE (IceT:Person {name:'Ice-T', born:1958})\n",
    "CREATE (RobertL:Person {name:'Robert Longo', born:1953})\n",
    "CREATE\n",
    "(Keanu)-[:ACTED_IN {roles:['Johnny Mnemonic']}]->(JohnnyMnemonic),\n",
    "(Takeshi)-[:ACTED_IN {roles:['Takahashi']}]->(JohnnyMnemonic),\n",
    "(Dina)-[:ACTED_IN {roles:['Jane']}]->(JohnnyMnemonic),\n",
    "(IceT)-[:ACTED_IN {roles:['J-Bone']}]->(JohnnyMnemonic),\n",
    "(RobertL)-[:DIRECTED]->(JohnnyMnemonic)\n",
    "\n",
    "CREATE (CloudAtlas:Movie {title:'Cloud Atlas', released:2012, tagline:'Everything is connected'})\n",
    "CREATE (HalleB:Person {name:'Halle Berry', born:1966})\n",
    "CREATE (JimB:Person {name:'Jim Broadbent', born:1949})\n",
    "CREATE (TomT:Person {name:'Tom Tykwer', born:1965})\n",
    "CREATE (DavidMitchell:Person {name:'David Mitchell', born:1969})\n",
    "CREATE (StefanArndt:Person {name:'Stefan Arndt', born:1961})\n",
    "CREATE\n",
    "(TomH)-[:ACTED_IN {roles:['Zachry', 'Dr. Henry Goose', 'Isaac Sachs', 'Dermot Hoggins']}]->(CloudAtlas),\n",
    "(Hugo)-[:ACTED_IN {roles:['Bill Smoke', 'Haskell Moore', 'Tadeusz Kesselring', 'Nurse Noakes', 'Boardman Mephi', 'Old Georgie']}]->(CloudAtlas),\n",
    "(HalleB)-[:ACTED_IN {roles:['Luisa Rey', 'Jocasta Ayrs', 'Ovid', 'Meronym']}]->(CloudAtlas),\n",
    "(JimB)-[:ACTED_IN {roles:['Vyvyan Ayrs', 'Captain Molyneux', 'Timothy Cavendish']}]->(CloudAtlas),\n",
    "(TomT)-[:DIRECTED]->(CloudAtlas),\n",
    "(LillyW)-[:DIRECTED]->(CloudAtlas),\n",
    "(LanaW)-[:DIRECTED]->(CloudAtlas),\n",
    "(DavidMitchell)-[:WROTE]->(CloudAtlas),\n",
    "(StefanArndt)-[:PRODUCED]->(CloudAtlas)\n",
    "\n",
    "CREATE (TheDaVinciCode:Movie {title:'The Da Vinci Code', released:2006, tagline:'Break The Codes'})\n",
    "CREATE (IanM:Person {name:'Ian McKellen', born:1939})\n",
    "CREATE (AudreyT:Person {name:'Audrey Tautou', born:1976})\n",
    "CREATE (PaulB:Person {name:'Paul Bettany', born:1971})\n",
    "CREATE (RonH:Person {name:'Ron Howard', born:1954})\n",
    "CREATE\n",
    "(TomH)-[:ACTED_IN {roles:['Dr. Robert Langdon']}]->(TheDaVinciCode),\n",
    "(IanM)-[:ACTED_IN {roles:['Sir Leight Teabing']}]->(TheDaVinciCode),\n",
    "(AudreyT)-[:ACTED_IN {roles:['Sophie Neveu']}]->(TheDaVinciCode),\n",
    "(PaulB)-[:ACTED_IN {roles:['Silas']}]->(TheDaVinciCode),\n",
    "(RonH)-[:DIRECTED]->(TheDaVinciCode)\n",
    "\n",
    "CREATE (VforVendetta:Movie {title:'V for Vendetta', released:2006, tagline:'Freedom! Forever!'})\n",
    "CREATE (NatalieP:Person {name:'Natalie Portman', born:1981})\n",
    "CREATE (StephenR:Person {name:'Stephen Rea', born:1946})\n",
    "CREATE (JohnH:Person {name:'John Hurt', born:1940})\n",
    "CREATE (BenM:Person {name: 'Ben Miles', born:1967})\n",
    "CREATE\n",
    "(Hugo)-[:ACTED_IN {roles:['V']}]->(VforVendetta),\n",
    "(NatalieP)-[:ACTED_IN {roles:['Evey Hammond']}]->(VforVendetta),\n",
    "(StephenR)-[:ACTED_IN {roles:['Eric Finch']}]->(VforVendetta),\n",
    "(JohnH)-[:ACTED_IN {roles:['High Chancellor Adam Sutler']}]->(VforVendetta),\n",
    "(BenM)-[:ACTED_IN {roles:['Dascomb']}]->(VforVendetta),\n",
    "(JamesM)-[:DIRECTED]->(VforVendetta),\n",
    "(LillyW)-[:PRODUCED]->(VforVendetta),\n",
    "(LanaW)-[:PRODUCED]->(VforVendetta),\n",
    "(JoelS)-[:PRODUCED]->(VforVendetta),\n",
    "(LillyW)-[:WROTE]->(VforVendetta),\n",
    "(LanaW)-[:WROTE]->(VforVendetta)\n",
    "\n",
    "CREATE (SpeedRacer:Movie {title:'Speed Racer', released:2008, tagline:'Speed has no limits'})\n",
    "CREATE (EmileH:Person {name:'Emile Hirsch', born:1985})\n",
    "CREATE (JohnG:Person {name:'John Goodman', born:1960})\n",
    "CREATE (SusanS:Person {name:'Susan Sarandon', born:1946})\n",
    "CREATE (MatthewF:Person {name:'Matthew Fox', born:1966})\n",
    "CREATE (ChristinaR:Person {name:'Christina Ricci', born:1980})\n",
    "CREATE (Rain:Person {name:'Rain', born:1982})\n",
    "CREATE\n",
    "(EmileH)-[:ACTED_IN {roles:['Speed Racer']}]->(SpeedRacer),\n",
    "(JohnG)-[:ACTED_IN {roles:['Pops']}]->(SpeedRacer),\n",
    "(SusanS)-[:ACTED_IN {roles:['Mom']}]->(SpeedRacer),\n",
    "(MatthewF)-[:ACTED_IN {roles:['Racer X']}]->(SpeedRacer),\n",
    "(ChristinaR)-[:ACTED_IN {roles:['Trixie']}]->(SpeedRacer),\n",
    "(Rain)-[:ACTED_IN {roles:['Taejo Togokahn']}]->(SpeedRacer),\n",
    "(BenM)-[:ACTED_IN {roles:['Cass Jones']}]->(SpeedRacer),\n",
    "(LillyW)-[:DIRECTED]->(SpeedRacer),\n",
    "(LanaW)-[:DIRECTED]->(SpeedRacer),\n",
    "(LillyW)-[:WROTE]->(SpeedRacer),\n",
    "(LanaW)-[:WROTE]->(SpeedRacer),\n",
    "(JoelS)-[:PRODUCED]->(SpeedRacer)\n",
    "\n",
    "CREATE (NinjaAssassin:Movie {title:'Ninja Assassin', released:2009, tagline:'Prepare to enter a secret world of assassins'})\n",
    "CREATE (NaomieH:Person {name:'Naomie Harris'})\n",
    "CREATE\n",
    "(Rain)-[:ACTED_IN {roles:['Raizo']}]->(NinjaAssassin),\n",
    "(NaomieH)-[:ACTED_IN {roles:['Mika Coretti']}]->(NinjaAssassin),\n",
    "(RickY)-[:ACTED_IN {roles:['Takeshi']}]->(NinjaAssassin),\n",
    "(BenM)-[:ACTED_IN {roles:['Ryan Maslow']}]->(NinjaAssassin),\n",
    "(JamesM)-[:DIRECTED]->(NinjaAssassin),\n",
    "(LillyW)-[:PRODUCED]->(NinjaAssassin),\n",
    "(LanaW)-[:PRODUCED]->(NinjaAssassin),\n",
    "(JoelS)-[:PRODUCED]->(NinjaAssassin)\n",
    "\n",
    "CREATE (TheGreenMile:Movie {title:'The Green Mile', released:1999, tagline:\"Walk a mile you'll never forget.\"})\n",
    "CREATE (MichaelD:Person {name:'Michael Clarke Duncan', born:1957})\n",
    "CREATE (DavidM:Person {name:'David Morse', born:1953})\n",
    "CREATE (SamR:Person {name:'Sam Rockwell', born:1968})\n",
    "CREATE (GaryS:Person {name:'Gary Sinise', born:1955})\n",
    "CREATE (PatriciaC:Person {name:'Patricia Clarkson', born:1959})\n",
    "CREATE (FrankD:Person {name:'Frank Darabont', born:1959})\n",
    "CREATE\n",
    "(TomH)-[:ACTED_IN {roles:['Paul Edgecomb']}]->(TheGreenMile),\n",
    "(MichaelD)-[:ACTED_IN {roles:['John Coffey']}]->(TheGreenMile),\n",
    "(DavidM)-[:ACTED_IN {roles:['Brutus \"Brutal\" Howell']}]->(TheGreenMile),\n",
    "(BonnieH)-[:ACTED_IN {roles:['Jan Edgecomb']}]->(TheGreenMile),\n",
    "(JamesC)-[:ACTED_IN {roles:['Warden Hal Moores']}]->(TheGreenMile),\n",
    "(SamR)-[:ACTED_IN {roles:['\"Wild Bill\" Wharton']}]->(TheGreenMile),\n",
    "(GaryS)-[:ACTED_IN {roles:['Burt Hammersmith']}]->(TheGreenMile),\n",
    "(PatriciaC)-[:ACTED_IN {roles:['Melinda Moores']}]->(TheGreenMile),\n",
    "(FrankD)-[:DIRECTED]->(TheGreenMile)\n",
    "\n",
    "CREATE (FrostNixon:Movie {title:'Frost/Nixon', released:2008, tagline:'400 million people were waiting for the truth.'})\n",
    "CREATE (FrankL:Person {name:'Frank Langella', born:1938})\n",
    "CREATE (MichaelS:Person {name:'Michael Sheen', born:1969})\n",
    "CREATE (OliverP:Person {name:'Oliver Platt', born:1960})\n",
    "CREATE\n",
    "(FrankL)-[:ACTED_IN {roles:['Richard Nixon']}]->(FrostNixon),\n",
    "(MichaelS)-[:ACTED_IN {roles:['David Frost']}]->(FrostNixon),\n",
    "(KevinB)-[:ACTED_IN {roles:['Jack Brennan']}]->(FrostNixon),\n",
    "(OliverP)-[:ACTED_IN {roles:['Bob Zelnick']}]->(FrostNixon),\n",
    "(SamR)-[:ACTED_IN {roles:['James Reston, Jr.']}]->(FrostNixon),\n",
    "(RonH)-[:DIRECTED]->(FrostNixon)\n",
    "\n",
    "CREATE (Hoffa:Movie {title:'Hoffa', released:1992, tagline:\"He didn't want law. He wanted justice.\"})\n",
    "CREATE (DannyD:Person {name:'Danny DeVito', born:1944})\n",
    "CREATE (JohnR:Person {name:'John C. Reilly', born:1965})\n",
    "CREATE\n",
    "(JackN)-[:ACTED_IN {roles:['Hoffa']}]->(Hoffa),\n",
    "(DannyD)-[:ACTED_IN {roles:['Robert \"Bobby\" Ciaro']}]->(Hoffa),\n",
    "(JTW)-[:ACTED_IN {roles:['Frank Fitzsimmons']}]->(Hoffa),\n",
    "(JohnR)-[:ACTED_IN {roles:['Peter \"Pete\" Connelly']}]->(Hoffa),\n",
    "(DannyD)-[:DIRECTED]->(Hoffa)\n",
    "\n",
    "CREATE (Apollo13:Movie {title:'Apollo 13', released:1995, tagline:'Houston, we have a problem.'})\n",
    "CREATE (EdH:Person {name:'Ed Harris', born:1950})\n",
    "CREATE (BillPax:Person {name:'Bill Paxton', born:1955})\n",
    "CREATE\n",
    "(TomH)-[:ACTED_IN {roles:['Jim Lovell']}]->(Apollo13),\n",
    "(KevinB)-[:ACTED_IN {roles:['Jack Swigert']}]->(Apollo13),\n",
    "(EdH)-[:ACTED_IN {roles:['Gene Kranz']}]->(Apollo13),\n",
    "(BillPax)-[:ACTED_IN {roles:['Fred Haise']}]->(Apollo13),\n",
    "(GaryS)-[:ACTED_IN {roles:['Ken Mattingly']}]->(Apollo13),\n",
    "(RonH)-[:DIRECTED]->(Apollo13)\n",
    "\n",
    "CREATE (Twister:Movie {title:'Twister', released:1996, tagline:\"Don't Breathe. Don't Look Back.\"})\n",
    "CREATE (PhilipH:Person {name:'Philip Seymour Hoffman', born:1967})\n",
    "CREATE (JanB:Person {name:'Jan de Bont', born:1943})\n",
    "CREATE\n",
    "(BillPax)-[:ACTED_IN {roles:['Bill Harding']}]->(Twister),\n",
    "(HelenH)-[:ACTED_IN {roles:['Dr. Jo Harding']}]->(Twister),\n",
    "(ZachG)-[:ACTED_IN {roles:['Eddie']}]->(Twister),\n",
    "(PhilipH)-[:ACTED_IN {roles:['Dustin \"Dusty\" Davis']}]->(Twister),\n",
    "(JanB)-[:DIRECTED]->(Twister)\n",
    "\n",
    "CREATE (CastAway:Movie {title:'Cast Away', released:2000, tagline:'At the edge of the world, his journey begins.'})\n",
    "CREATE (RobertZ:Person {name:'Robert Zemeckis', born:1951})\n",
    "CREATE\n",
    "(TomH)-[:ACTED_IN {roles:['Chuck Noland']}]->(CastAway),\n",
    "(HelenH)-[:ACTED_IN {roles:['Kelly Frears']}]->(CastAway),\n",
    "(RobertZ)-[:DIRECTED]->(CastAway)\n",
    "\n",
    "CREATE (OneFlewOvertheCuckoosNest:Movie {title:\"One Flew Over the Cuckoo's Nest\", released:1975, tagline:\"If he's crazy, what does that make you?\"})\n",
    "CREATE (MilosF:Person {name:'Milos Forman', born:1932})\n",
    "CREATE\n",
    "(JackN)-[:ACTED_IN {roles:['Randle McMurphy']}]->(OneFlewOvertheCuckoosNest),\n",
    "(DannyD)-[:ACTED_IN {roles:['Martini']}]->(OneFlewOvertheCuckoosNest),\n",
    "(MilosF)-[:DIRECTED]->(OneFlewOvertheCuckoosNest)\n",
    "\n",
    "CREATE (SomethingsGottaGive:Movie {title:\"Something's Gotta Give\", released:2003})\n",
    "CREATE (DianeK:Person {name:'Diane Keaton', born:1946})\n",
    "CREATE (NancyM:Person {name:'Nancy Meyers', born:1949})\n",
    "CREATE\n",
    "(JackN)-[:ACTED_IN {roles:['Harry Sanborn']}]->(SomethingsGottaGive),\n",
    "(DianeK)-[:ACTED_IN {roles:['Erica Barry']}]->(SomethingsGottaGive),\n",
    "(Keanu)-[:ACTED_IN {roles:['Julian Mercer']}]->(SomethingsGottaGive),\n",
    "(NancyM)-[:DIRECTED]->(SomethingsGottaGive),\n",
    "(NancyM)-[:PRODUCED]->(SomethingsGottaGive),\n",
    "(NancyM)-[:WROTE]->(SomethingsGottaGive)\n",
    "\n",
    "CREATE (BicentennialMan:Movie {title:'Bicentennial Man', released:1999, tagline:\"One robot's 200 year journey to become an ordinary man.\"})\n",
    "CREATE (ChrisC:Person {name:'Chris Columbus', born:1958})\n",
    "CREATE\n",
    "(Robin)-[:ACTED_IN {roles:['Andrew Marin']}]->(BicentennialMan),\n",
    "(OliverP)-[:ACTED_IN {roles:['Rupert Burns']}]->(BicentennialMan),\n",
    "(ChrisC)-[:DIRECTED]->(BicentennialMan)\n",
    "\n",
    "CREATE (CharlieWilsonsWar:Movie {title:\"Charlie Wilson's War\", released:2007, tagline:\"A stiff drink. A little mascara. A lot of nerve. Who said they couldn't bring down the Soviet empire.\"})\n",
    "CREATE (JuliaR:Person {name:'Julia Roberts', born:1967})\n",
    "CREATE\n",
    "(TomH)-[:ACTED_IN {roles:['Rep. Charlie Wilson']}]->(CharlieWilsonsWar),\n",
    "(JuliaR)-[:ACTED_IN {roles:['Joanne Herring']}]->(CharlieWilsonsWar),\n",
    "(PhilipH)-[:ACTED_IN {roles:['Gust Avrakotos']}]->(CharlieWilsonsWar),\n",
    "(MikeN)-[:DIRECTED]->(CharlieWilsonsWar)\n",
    "\n",
    "CREATE (ThePolarExpress:Movie {title:'The Polar Express', released:2004, tagline:'This Holiday Season... Believe'})\n",
    "CREATE\n",
    "(TomH)-[:ACTED_IN {roles:['Hero Boy', 'Father', 'Conductor', 'Hobo', 'Scrooge', 'Santa Claus']}]->(ThePolarExpress),\n",
    "(RobertZ)-[:DIRECTED]->(ThePolarExpress)\n",
    "\n",
    "CREATE (ALeagueofTheirOwn:Movie {title:'A League of Their Own', released:1992, tagline:'Once in a lifetime you get a chance to do something different.'})\n",
    "CREATE (Madonna:Person {name:'Madonna', born:1954})\n",
    "CREATE (GeenaD:Person {name:'Geena Davis', born:1956})\n",
    "CREATE (LoriP:Person {name:'Lori Petty', born:1963})\n",
    "CREATE (PennyM:Person {name:'Penny Marshall', born:1943})\n",
    "CREATE\n",
    "(TomH)-[:ACTED_IN {roles:['Jimmy Dugan']}]->(ALeagueofTheirOwn),\n",
    "(GeenaD)-[:ACTED_IN {roles:['Dottie Hinson']}]->(ALeagueofTheirOwn),\n",
    "(LoriP)-[:ACTED_IN {roles:['Kit Keller']}]->(ALeagueofTheirOwn),\n",
    "(RosieO)-[:ACTED_IN {roles:['Doris Murphy']}]->(ALeagueofTheirOwn),\n",
    "(Madonna)-[:ACTED_IN {roles:['\"All the Way\" Mae Mordabito']}]->(ALeagueofTheirOwn),\n",
    "(BillPax)-[:ACTED_IN {roles:['Bob Hinson']}]->(ALeagueofTheirOwn),\n",
    "(PennyM)-[:DIRECTED]->(ALeagueofTheirOwn)\n",
    "\n",
    "CREATE (PaulBlythe:Person {name:'Paul Blythe'})\n",
    "CREATE (AngelaScope:Person {name:'Angela Scope'})\n",
    "CREATE (JessicaThompson:Person {name:'Jessica Thompson'})\n",
    "CREATE (JamesThompson:Person {name:'James Thompson'})\n",
    "\n",
    "CREATE\n",
    "(JamesThompson)-[:FOLLOWS]->(JessicaThompson),\n",
    "(AngelaScope)-[:FOLLOWS]->(JessicaThompson),\n",
    "(PaulBlythe)-[:FOLLOWS]->(AngelaScope)\n",
    "\n",
    "CREATE\n",
    "(JessicaThompson)-[:REVIEWED {summary:'An amazing journey', rating:95}]->(CloudAtlas),\n",
    "(JessicaThompson)-[:REVIEWED {summary:'Silly, but fun', rating:65}]->(TheReplacements),\n",
    "(JamesThompson)-[:REVIEWED {summary:'The coolest football movie ever', rating:100}]->(TheReplacements),\n",
    "(AngelaScope)-[:REVIEWED {summary:'Pretty funny at times', rating:62}]->(TheReplacements),\n",
    "(JessicaThompson)-[:REVIEWED {summary:'Dark, but compelling', rating:85}]->(Unforgiven),\n",
    "(JessicaThompson)-[:REVIEWED {summary:\"Slapstick redeemed only by the Robin Williams and Gene Hackman's stellar performances\", rating:45}]->(TheBirdcage),\n",
    "(JessicaThompson)-[:REVIEWED {summary:'A solid romp', rating:68}]->(TheDaVinciCode),\n",
    "(JamesThompson)-[:REVIEWED {summary:'Fun, but a little far fetched', rating:65}]->(TheDaVinciCode),\n",
    "(JessicaThompson)-[:REVIEWED {summary:'You had me at Jerry', rating:92}]->(JerryMaguire)\n",
    "\n",
    "WITH TomH as a\n",
    "MATCH (a)-[:ACTED_IN]->(m)<-[:DIRECTED]-(d) RETURN a,m,d LIMIT 10;\n",
    "```\n",
    "\n",
    "</details>\n",
    "\n",
    "This will create the following graph model\n",
    "\n",
    "<img src=\"data:image/png;base64,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\" >"
   ]
  },
  {
   "cell_type": "markdown",
   "metadata": {},
   "source": [
    "Alternatively, you may run the query directly with cy2py if you haven't done it through the browser:"
   ]
  },
  {
   "cell_type": "code",
   "execution_count": 5,
   "metadata": {
    "id": "QFbjo1k24YEY"
   },
   "outputs": [
    {
     "data": {
      "application/vnd.jupyter.widget-view+json": {
       "model_id": "0c227773a1784ad9b8bbefc26392e74e",
       "version_major": 2,
       "version_minor": 0
      },
      "text/plain": [
       "CytoscapeWidget(cytoscape_layout={'name': 'dagre', 'padding': 0, 'nodeSpacing': 10, 'edgeLengthVal': 10, 'anim…"
      ]
     },
     "metadata": {},
     "output_type": "display_data"
    }
   ],
   "source": [
    "%%cypher -u $neo4j_url -us $neo4j_user -pw $neo4j_password\n",
    "// the following Cypher query is the same as above\n",
    "// and is required for running the notebook\n",
    "CREATE (TheMatrix:Movie {title:'The Matrix', released:1999, tagline:'Welcome to the Real World'})\n",
    "CREATE (Keanu:Person {name:'Keanu Reeves', born:1964})\n",
    "CREATE (Carrie:Person {name:'Carrie-Anne Moss', born:1967})\n",
    "CREATE (Laurence:Person {name:'Laurence Fishburne', born:1961})\n",
    "CREATE (Hugo:Person {name:'Hugo Weaving', born:1960})\n",
    "CREATE (LillyW:Person {name:'Lilly Wachowski', born:1967})\n",
    "CREATE (LanaW:Person {name:'Lana Wachowski', born:1965})\n",
    "CREATE (JoelS:Person {name:'Joel Silver', born:1952})\n",
    "CREATE\n",
    "(Keanu)-[:ACTED_IN {roles:['Neo']}]->(TheMatrix),\n",
    "(Carrie)-[:ACTED_IN {roles:['Trinity']}]->(TheMatrix),\n",
    "(Laurence)-[:ACTED_IN {roles:['Morpheus']}]->(TheMatrix),\n",
    "(Hugo)-[:ACTED_IN {roles:['Agent Smith']}]->(TheMatrix),\n",
    "(LillyW)-[:DIRECTED]->(TheMatrix),\n",
    "(LanaW)-[:DIRECTED]->(TheMatrix),\n",
    "(JoelS)-[:PRODUCED]->(TheMatrix)\n",
    "\n",
    "CREATE (Emil:Person {name:\"Emil Eifrem\", born:1978})\n",
    "CREATE (Emil)-[:ACTED_IN {roles:[\"Emil\"]}]->(TheMatrix)\n",
    "\n",
    "CREATE (TheMatrixReloaded:Movie {title:'The Matrix Reloaded', released:2003, tagline:'Free your mind'})\n",
    "CREATE\n",
    "(Keanu)-[:ACTED_IN {roles:['Neo']}]->(TheMatrixReloaded),\n",
    "(Carrie)-[:ACTED_IN {roles:['Trinity']}]->(TheMatrixReloaded),\n",
    "(Laurence)-[:ACTED_IN {roles:['Morpheus']}]->(TheMatrixReloaded),\n",
    "(Hugo)-[:ACTED_IN {roles:['Agent Smith']}]->(TheMatrixReloaded),\n",
    "(LillyW)-[:DIRECTED]->(TheMatrixReloaded),\n",
    "(LanaW)-[:DIRECTED]->(TheMatrixReloaded),\n",
    "(JoelS)-[:PRODUCED]->(TheMatrixReloaded)\n",
    "\n",
    "CREATE (TheMatrixRevolutions:Movie {title:'The Matrix Revolutions', released:2003, tagline:'Everything that has a beginning has an end'})\n",
    "CREATE\n",
    "(Keanu)-[:ACTED_IN {roles:['Neo']}]->(TheMatrixRevolutions),\n",
    "(Carrie)-[:ACTED_IN {roles:['Trinity']}]->(TheMatrixRevolutions),\n",
    "(Laurence)-[:ACTED_IN {roles:['Morpheus']}]->(TheMatrixRevolutions),\n",
    "(Hugo)-[:ACTED_IN {roles:['Agent Smith']}]->(TheMatrixRevolutions),\n",
    "(LillyW)-[:DIRECTED]->(TheMatrixRevolutions),\n",
    "(LanaW)-[:DIRECTED]->(TheMatrixRevolutions),\n",
    "(JoelS)-[:PRODUCED]->(TheMatrixRevolutions)\n",
    "\n",
    "CREATE (TheDevilsAdvocate:Movie {title:\"The Devil's Advocate\", released:1997, tagline:'Evil has its winning ways'})\n",
    "CREATE (Charlize:Person {name:'Charlize Theron', born:1975})\n",
    "CREATE (Al:Person {name:'Al Pacino', born:1940})\n",
    "CREATE (Taylor:Person {name:'Taylor Hackford', born:1944})\n",
    "CREATE\n",
    "(Keanu)-[:ACTED_IN {roles:['Kevin Lomax']}]->(TheDevilsAdvocate),\n",
    "(Charlize)-[:ACTED_IN {roles:['Mary Ann Lomax']}]->(TheDevilsAdvocate),\n",
    "(Al)-[:ACTED_IN {roles:['John Milton']}]->(TheDevilsAdvocate),\n",
    "(Taylor)-[:DIRECTED]->(TheDevilsAdvocate)\n",
    "\n",
    "CREATE (AFewGoodMen:Movie {title:\"A Few Good Men\", released:1992, tagline:\"In the heart of the nation's capital, in a courthouse of the U.S. government, one man will stop at nothing to keep his honor, and one will stop at nothing to find the truth.\"})\n",
    "CREATE (TomC:Person {name:'Tom Cruise', born:1962})\n",
    "CREATE (JackN:Person {name:'Jack Nicholson', born:1937})\n",
    "CREATE (DemiM:Person {name:'Demi Moore', born:1962})\n",
    "CREATE (KevinB:Person {name:'Kevin Bacon', born:1958})\n",
    "CREATE (KieferS:Person {name:'Kiefer Sutherland', born:1966})\n",
    "CREATE (NoahW:Person {name:'Noah Wyle', born:1971})\n",
    "CREATE (CubaG:Person {name:'Cuba Gooding Jr.', born:1968})\n",
    "CREATE (KevinP:Person {name:'Kevin Pollak', born:1957})\n",
    "CREATE (JTW:Person {name:'J.T. Walsh', born:1943})\n",
    "CREATE (JamesM:Person {name:'James Marshall', born:1967})\n",
    "CREATE (ChristopherG:Person {name:'Christopher Guest', born:1948})\n",
    "CREATE (RobR:Person {name:'Rob Reiner', born:1947})\n",
    "CREATE (AaronS:Person {name:'Aaron Sorkin', born:1961})\n",
    "CREATE\n",
    "(TomC)-[:ACTED_IN {roles:['Lt. Daniel Kaffee']}]->(AFewGoodMen),\n",
    "(JackN)-[:ACTED_IN {roles:['Col. Nathan R. Jessup']}]->(AFewGoodMen),\n",
    "(DemiM)-[:ACTED_IN {roles:['Lt. Cdr. JoAnne Galloway']}]->(AFewGoodMen),\n",
    "(KevinB)-[:ACTED_IN {roles:['Capt. Jack Ross']}]->(AFewGoodMen),\n",
    "(KieferS)-[:ACTED_IN {roles:['Lt. Jonathan Kendrick']}]->(AFewGoodMen),\n",
    "(NoahW)-[:ACTED_IN {roles:['Cpl. Jeffrey Barnes']}]->(AFewGoodMen),\n",
    "(CubaG)-[:ACTED_IN {roles:['Cpl. Carl Hammaker']}]->(AFewGoodMen),\n",
    "(KevinP)-[:ACTED_IN {roles:['Lt. Sam Weinberg']}]->(AFewGoodMen),\n",
    "(JTW)-[:ACTED_IN {roles:['Lt. Col. Matthew Andrew Markinson']}]->(AFewGoodMen),\n",
    "(JamesM)-[:ACTED_IN {roles:['Pfc. Louden Downey']}]->(AFewGoodMen),\n",
    "(ChristopherG)-[:ACTED_IN {roles:['Dr. Stone']}]->(AFewGoodMen),\n",
    "(AaronS)-[:ACTED_IN {roles:['Man in Bar']}]->(AFewGoodMen),\n",
    "(RobR)-[:DIRECTED]->(AFewGoodMen),\n",
    "(AaronS)-[:WROTE]->(AFewGoodMen)\n",
    "\n",
    "CREATE (TopGun:Movie {title:\"Top Gun\", released:1986, tagline:'I feel the need, the need for speed.'})\n",
    "CREATE (KellyM:Person {name:'Kelly McGillis', born:1957})\n",
    "CREATE (ValK:Person {name:'Val Kilmer', born:1959})\n",
    "CREATE (AnthonyE:Person {name:'Anthony Edwards', born:1962})\n",
    "CREATE (TomS:Person {name:'Tom Skerritt', born:1933})\n",
    "CREATE (MegR:Person {name:'Meg Ryan', born:1961})\n",
    "CREATE (TonyS:Person {name:'Tony Scott', born:1944})\n",
    "CREATE (JimC:Person {name:'Jim Cash', born:1941})\n",
    "CREATE\n",
    "(TomC)-[:ACTED_IN {roles:['Maverick']}]->(TopGun),\n",
    "(KellyM)-[:ACTED_IN {roles:['Charlie']}]->(TopGun),\n",
    "(ValK)-[:ACTED_IN {roles:['Iceman']}]->(TopGun),\n",
    "(AnthonyE)-[:ACTED_IN {roles:['Goose']}]->(TopGun),\n",
    "(TomS)-[:ACTED_IN {roles:['Viper']}]->(TopGun),\n",
    "(MegR)-[:ACTED_IN {roles:['Carole']}]->(TopGun),\n",
    "(TonyS)-[:DIRECTED]->(TopGun),\n",
    "(JimC)-[:WROTE]->(TopGun)\n",
    "\n",
    "CREATE (JerryMaguire:Movie {title:'Jerry Maguire', released:2000, tagline:'The rest of his life begins now.'})\n",
    "CREATE (ReneeZ:Person {name:'Renee Zellweger', born:1969})\n",
    "CREATE (KellyP:Person {name:'Kelly Preston', born:1962})\n",
    "CREATE (JerryO:Person {name:\"Jerry O'Connell\", born:1974})\n",
    "CREATE (JayM:Person {name:'Jay Mohr', born:1970})\n",
    "CREATE (BonnieH:Person {name:'Bonnie Hunt', born:1961})\n",
    "CREATE (ReginaK:Person {name:'Regina King', born:1971})\n",
    "CREATE (JonathanL:Person {name:'Jonathan Lipnicki', born:1996})\n",
    "CREATE (CameronC:Person {name:'Cameron Crowe', born:1957})\n",
    "CREATE\n",
    "(TomC)-[:ACTED_IN {roles:['Jerry Maguire']}]->(JerryMaguire),\n",
    "(CubaG)-[:ACTED_IN {roles:['Rod Tidwell']}]->(JerryMaguire),\n",
    "(ReneeZ)-[:ACTED_IN {roles:['Dorothy Boyd']}]->(JerryMaguire),\n",
    "(KellyP)-[:ACTED_IN {roles:['Avery Bishop']}]->(JerryMaguire),\n",
    "(JerryO)-[:ACTED_IN {roles:['Frank Cushman']}]->(JerryMaguire),\n",
    "(JayM)-[:ACTED_IN {roles:['Bob Sugar']}]->(JerryMaguire),\n",
    "(BonnieH)-[:ACTED_IN {roles:['Laurel Boyd']}]->(JerryMaguire),\n",
    "(ReginaK)-[:ACTED_IN {roles:['Marcee Tidwell']}]->(JerryMaguire),\n",
    "(JonathanL)-[:ACTED_IN {roles:['Ray Boyd']}]->(JerryMaguire),\n",
    "(CameronC)-[:DIRECTED]->(JerryMaguire),\n",
    "(CameronC)-[:PRODUCED]->(JerryMaguire),\n",
    "(CameronC)-[:WROTE]->(JerryMaguire)\n",
    "\n",
    "CREATE (StandByMe:Movie {title:\"Stand By Me\", released:1986, tagline:\"For some, it's the last real taste of innocence, and the first real taste of life. But for everyone, it's the time that memories are made of.\"})\n",
    "CREATE (RiverP:Person {name:'River Phoenix', born:1970})\n",
    "CREATE (CoreyF:Person {name:'Corey Feldman', born:1971})\n",
    "CREATE (WilW:Person {name:'Wil Wheaton', born:1972})\n",
    "CREATE (JohnC:Person {name:'John Cusack', born:1966})\n",
    "CREATE (MarshallB:Person {name:'Marshall Bell', born:1942})\n",
    "CREATE\n",
    "(WilW)-[:ACTED_IN {roles:['Gordie Lachance']}]->(StandByMe),\n",
    "(RiverP)-[:ACTED_IN {roles:['Chris Chambers']}]->(StandByMe),\n",
    "(JerryO)-[:ACTED_IN {roles:['Vern Tessio']}]->(StandByMe),\n",
    "(CoreyF)-[:ACTED_IN {roles:['Teddy Duchamp']}]->(StandByMe),\n",
    "(JohnC)-[:ACTED_IN {roles:['Denny Lachance']}]->(StandByMe),\n",
    "(KieferS)-[:ACTED_IN {roles:['Ace Merrill']}]->(StandByMe),\n",
    "(MarshallB)-[:ACTED_IN {roles:['Mr. Lachance']}]->(StandByMe),\n",
    "(RobR)-[:DIRECTED]->(StandByMe)\n",
    "\n",
    "CREATE (AsGoodAsItGets:Movie {title:'As Good as It Gets', released:1997, tagline:'A comedy from the heart that goes for the throat.'})\n",
    "CREATE (HelenH:Person {name:'Helen Hunt', born:1963})\n",
    "CREATE (GregK:Person {name:'Greg Kinnear', born:1963})\n",
    "CREATE (JamesB:Person {name:'James L. Brooks', born:1940})\n",
    "CREATE\n",
    "(JackN)-[:ACTED_IN {roles:['Melvin Udall']}]->(AsGoodAsItGets),\n",
    "(HelenH)-[:ACTED_IN {roles:['Carol Connelly']}]->(AsGoodAsItGets),\n",
    "(GregK)-[:ACTED_IN {roles:['Simon Bishop']}]->(AsGoodAsItGets),\n",
    "(CubaG)-[:ACTED_IN {roles:['Frank Sachs']}]->(AsGoodAsItGets),\n",
    "(JamesB)-[:DIRECTED]->(AsGoodAsItGets)\n",
    "\n",
    "CREATE (WhatDreamsMayCome:Movie {title:'What Dreams May Come', released:1998, tagline:'After life there is more. The end is just the beginning.'})\n",
    "CREATE (AnnabellaS:Person {name:'Annabella Sciorra', born:1960})\n",
    "CREATE (MaxS:Person {name:'Max von Sydow', born:1929})\n",
    "CREATE (WernerH:Person {name:'Werner Herzog', born:1942})\n",
    "CREATE (Robin:Person {name:'Robin Williams', born:1951})\n",
    "CREATE (VincentW:Person {name:'Vincent Ward', born:1956})\n",
    "CREATE\n",
    "(Robin)-[:ACTED_IN {roles:['Chris Nielsen']}]->(WhatDreamsMayCome),\n",
    "(CubaG)-[:ACTED_IN {roles:['Albert Lewis']}]->(WhatDreamsMayCome),\n",
    "(AnnabellaS)-[:ACTED_IN {roles:['Annie Collins-Nielsen']}]->(WhatDreamsMayCome),\n",
    "(MaxS)-[:ACTED_IN {roles:['The Tracker']}]->(WhatDreamsMayCome),\n",
    "(WernerH)-[:ACTED_IN {roles:['The Face']}]->(WhatDreamsMayCome),\n",
    "(VincentW)-[:DIRECTED]->(WhatDreamsMayCome)\n",
    "\n",
    "CREATE (SnowFallingonCedars:Movie {title:'Snow Falling on Cedars', released:1999, tagline:'First loves last. Forever.'})\n",
    "CREATE (EthanH:Person {name:'Ethan Hawke', born:1970})\n",
    "CREATE (RickY:Person {name:'Rick Yune', born:1971})\n",
    "CREATE (JamesC:Person {name:'James Cromwell', born:1940})\n",
    "CREATE (ScottH:Person {name:'Scott Hicks', born:1953})\n",
    "CREATE\n",
    "(EthanH)-[:ACTED_IN {roles:['Ishmael Chambers']}]->(SnowFallingonCedars),\n",
    "(RickY)-[:ACTED_IN {roles:['Kazuo Miyamoto']}]->(SnowFallingonCedars),\n",
    "(MaxS)-[:ACTED_IN {roles:['Nels Gudmundsson']}]->(SnowFallingonCedars),\n",
    "(JamesC)-[:ACTED_IN {roles:['Judge Fielding']}]->(SnowFallingonCedars),\n",
    "(ScottH)-[:DIRECTED]->(SnowFallingonCedars)\n",
    "\n",
    "CREATE (YouveGotMail:Movie {title:\"You've Got Mail\", released:1998, tagline:'At odds in life... in love on-line.'})\n",
    "CREATE (ParkerP:Person {name:'Parker Posey', born:1968})\n",
    "CREATE (DaveC:Person {name:'Dave Chappelle', born:1973})\n",
    "CREATE (SteveZ:Person {name:'Steve Zahn', born:1967})\n",
    "CREATE (TomH:Person {name:'Tom Hanks', born:1956})\n",
    "CREATE (NoraE:Person {name:'Nora Ephron', born:1941})\n",
    "CREATE\n",
    "(TomH)-[:ACTED_IN {roles:['Joe Fox']}]->(YouveGotMail),\n",
    "(MegR)-[:ACTED_IN {roles:['Kathleen Kelly']}]->(YouveGotMail),\n",
    "(GregK)-[:ACTED_IN {roles:['Frank Navasky']}]->(YouveGotMail),\n",
    "(ParkerP)-[:ACTED_IN {roles:['Patricia Eden']}]->(YouveGotMail),\n",
    "(DaveC)-[:ACTED_IN {roles:['Kevin Jackson']}]->(YouveGotMail),\n",
    "(SteveZ)-[:ACTED_IN {roles:['George Pappas']}]->(YouveGotMail),\n",
    "(NoraE)-[:DIRECTED]->(YouveGotMail)\n",
    "\n",
    "CREATE (SleeplessInSeattle:Movie {title:'Sleepless in Seattle', released:1993, tagline:'What if someone you never met, someone you never saw, someone you never knew was the only someone for you?'})\n",
    "CREATE (RitaW:Person {name:'Rita Wilson', born:1956})\n",
    "CREATE (BillPull:Person {name:'Bill Pullman', born:1953})\n",
    "CREATE (VictorG:Person {name:'Victor Garber', born:1949})\n",
    "CREATE (RosieO:Person {name:\"Rosie O'Donnell\", born:1962})\n",
    "CREATE\n",
    "(TomH)-[:ACTED_IN {roles:['Sam Baldwin']}]->(SleeplessInSeattle),\n",
    "(MegR)-[:ACTED_IN {roles:['Annie Reed']}]->(SleeplessInSeattle),\n",
    "(RitaW)-[:ACTED_IN {roles:['Suzy']}]->(SleeplessInSeattle),\n",
    "(BillPull)-[:ACTED_IN {roles:['Walter']}]->(SleeplessInSeattle),\n",
    "(VictorG)-[:ACTED_IN {roles:['Greg']}]->(SleeplessInSeattle),\n",
    "(RosieO)-[:ACTED_IN {roles:['Becky']}]->(SleeplessInSeattle),\n",
    "(NoraE)-[:DIRECTED]->(SleeplessInSeattle)\n",
    "\n",
    "CREATE (JoeVersustheVolcano:Movie {title:'Joe Versus the Volcano', released:1990, tagline:'A story of love, lava and burning desire.'})\n",
    "CREATE (JohnS:Person {name:'John Patrick Stanley', born:1950})\n",
    "CREATE (Nathan:Person {name:'Nathan Lane', born:1956})\n",
    "CREATE\n",
    "(TomH)-[:ACTED_IN {roles:['Joe Banks']}]->(JoeVersustheVolcano),\n",
    "(MegR)-[:ACTED_IN {roles:['DeDe', 'Angelica Graynamore', 'Patricia Graynamore']}]->(JoeVersustheVolcano),\n",
    "(Nathan)-[:ACTED_IN {roles:['Baw']}]->(JoeVersustheVolcano),\n",
    "(JohnS)-[:DIRECTED]->(JoeVersustheVolcano)\n",
    "\n",
    "CREATE (WhenHarryMetSally:Movie {title:'When Harry Met Sally', released:1998, tagline:'Can two friends sleep together and still love each other in the morning?'})\n",
    "CREATE (BillyC:Person {name:'Billy Crystal', born:1948})\n",
    "CREATE (CarrieF:Person {name:'Carrie Fisher', born:1956})\n",
    "CREATE (BrunoK:Person {name:'Bruno Kirby', born:1949})\n",
    "CREATE\n",
    "(BillyC)-[:ACTED_IN {roles:['Harry Burns']}]->(WhenHarryMetSally),\n",
    "(MegR)-[:ACTED_IN {roles:['Sally Albright']}]->(WhenHarryMetSally),\n",
    "(CarrieF)-[:ACTED_IN {roles:['Marie']}]->(WhenHarryMetSally),\n",
    "(BrunoK)-[:ACTED_IN {roles:['Jess']}]->(WhenHarryMetSally),\n",
    "(RobR)-[:DIRECTED]->(WhenHarryMetSally),\n",
    "(RobR)-[:PRODUCED]->(WhenHarryMetSally),\n",
    "(NoraE)-[:PRODUCED]->(WhenHarryMetSally),\n",
    "(NoraE)-[:WROTE]->(WhenHarryMetSally)\n",
    "\n",
    "CREATE (ThatThingYouDo:Movie {title:'That Thing You Do', released:1996, tagline:'In every life there comes a time when that thing you dream becomes that thing you do'})\n",
    "CREATE (LivT:Person {name:'Liv Tyler', born:1977})\n",
    "CREATE\n",
    "(TomH)-[:ACTED_IN {roles:['Mr. White']}]->(ThatThingYouDo),\n",
    "(LivT)-[:ACTED_IN {roles:['Faye Dolan']}]->(ThatThingYouDo),\n",
    "(Charlize)-[:ACTED_IN {roles:['Tina']}]->(ThatThingYouDo),\n",
    "(TomH)-[:DIRECTED]->(ThatThingYouDo)\n",
    "\n",
    "CREATE (TheReplacements:Movie {title:'The Replacements', released:2000, tagline:'Pain heals, Chicks dig scars... Glory lasts forever'})\n",
    "CREATE (Brooke:Person {name:'Brooke Langton', born:1970})\n",
    "CREATE (Gene:Person {name:'Gene Hackman', born:1930})\n",
    "CREATE (Orlando:Person {name:'Orlando Jones', born:1968})\n",
    "CREATE (Howard:Person {name:'Howard Deutch', born:1950})\n",
    "CREATE\n",
    "(Keanu)-[:ACTED_IN {roles:['Shane Falco']}]->(TheReplacements),\n",
    "(Brooke)-[:ACTED_IN {roles:['Annabelle Farrell']}]->(TheReplacements),\n",
    "(Gene)-[:ACTED_IN {roles:['Jimmy McGinty']}]->(TheReplacements),\n",
    "(Orlando)-[:ACTED_IN {roles:['Clifford Franklin']}]->(TheReplacements),\n",
    "(Howard)-[:DIRECTED]->(TheReplacements)\n",
    "\n",
    "CREATE (RescueDawn:Movie {title:'RescueDawn', released:2006, tagline:\"Based on the extraordinary true story of one man's fight for freedom\"})\n",
    "CREATE (ChristianB:Person {name:'Christian Bale', born:1974})\n",
    "CREATE (ZachG:Person {name:'Zach Grenier', born:1954})\n",
    "CREATE\n",
    "(MarshallB)-[:ACTED_IN {roles:['Admiral']}]->(RescueDawn),\n",
    "(ChristianB)-[:ACTED_IN {roles:['Dieter Dengler']}]->(RescueDawn),\n",
    "(ZachG)-[:ACTED_IN {roles:['Squad Leader']}]->(RescueDawn),\n",
    "(SteveZ)-[:ACTED_IN {roles:['Duane']}]->(RescueDawn),\n",
    "(WernerH)-[:DIRECTED]->(RescueDawn)\n",
    "\n",
    "CREATE (TheBirdcage:Movie {title:'The Birdcage', released:1996, tagline:'Come as you are'})\n",
    "CREATE (MikeN:Person {name:'Mike Nichols', born:1931})\n",
    "CREATE\n",
    "(Robin)-[:ACTED_IN {roles:['Armand Goldman']}]->(TheBirdcage),\n",
    "(Nathan)-[:ACTED_IN {roles:['Albert Goldman']}]->(TheBirdcage),\n",
    "(Gene)-[:ACTED_IN {roles:['Sen. Kevin Keeley']}]->(TheBirdcage),\n",
    "(MikeN)-[:DIRECTED]->(TheBirdcage)\n",
    "\n",
    "CREATE (Unforgiven:Movie {title:'Unforgiven', released:1992, tagline:\"It's a hell of a thing, killing a man\"})\n",
    "CREATE (RichardH:Person {name:'Richard Harris', born:1930})\n",
    "CREATE (ClintE:Person {name:'Clint Eastwood', born:1930})\n",
    "CREATE\n",
    "(RichardH)-[:ACTED_IN {roles:['English Bob']}]->(Unforgiven),\n",
    "(ClintE)-[:ACTED_IN {roles:['Bill Munny']}]->(Unforgiven),\n",
    "(Gene)-[:ACTED_IN {roles:['Little Bill Daggett']}]->(Unforgiven),\n",
    "(ClintE)-[:DIRECTED]->(Unforgiven)\n",
    "\n",
    "CREATE (JohnnyMnemonic:Movie {title:'Johnny Mnemonic', released:1995, tagline:'The hottest data on earth. In the coolest head in town'})\n",
    "CREATE (Takeshi:Person {name:'Takeshi Kitano', born:1947})\n",
    "CREATE (Dina:Person {name:'Dina Meyer', born:1968})\n",
    "CREATE (IceT:Person {name:'Ice-T', born:1958})\n",
    "CREATE (RobertL:Person {name:'Robert Longo', born:1953})\n",
    "CREATE\n",
    "(Keanu)-[:ACTED_IN {roles:['Johnny Mnemonic']}]->(JohnnyMnemonic),\n",
    "(Takeshi)-[:ACTED_IN {roles:['Takahashi']}]->(JohnnyMnemonic),\n",
    "(Dina)-[:ACTED_IN {roles:['Jane']}]->(JohnnyMnemonic),\n",
    "(IceT)-[:ACTED_IN {roles:['J-Bone']}]->(JohnnyMnemonic),\n",
    "(RobertL)-[:DIRECTED]->(JohnnyMnemonic)\n",
    "\n",
    "CREATE (CloudAtlas:Movie {title:'Cloud Atlas', released:2012, tagline:'Everything is connected'})\n",
    "CREATE (HalleB:Person {name:'Halle Berry', born:1966})\n",
    "CREATE (JimB:Person {name:'Jim Broadbent', born:1949})\n",
    "CREATE (TomT:Person {name:'Tom Tykwer', born:1965})\n",
    "CREATE (DavidMitchell:Person {name:'David Mitchell', born:1969})\n",
    "CREATE (StefanArndt:Person {name:'Stefan Arndt', born:1961})\n",
    "CREATE\n",
    "(TomH)-[:ACTED_IN {roles:['Zachry', 'Dr. Henry Goose', 'Isaac Sachs', 'Dermot Hoggins']}]->(CloudAtlas),\n",
    "(Hugo)-[:ACTED_IN {roles:['Bill Smoke', 'Haskell Moore', 'Tadeusz Kesselring', 'Nurse Noakes', 'Boardman Mephi', 'Old Georgie']}]->(CloudAtlas),\n",
    "(HalleB)-[:ACTED_IN {roles:['Luisa Rey', 'Jocasta Ayrs', 'Ovid', 'Meronym']}]->(CloudAtlas),\n",
    "(JimB)-[:ACTED_IN {roles:['Vyvyan Ayrs', 'Captain Molyneux', 'Timothy Cavendish']}]->(CloudAtlas),\n",
    "(TomT)-[:DIRECTED]->(CloudAtlas),\n",
    "(LillyW)-[:DIRECTED]->(CloudAtlas),\n",
    "(LanaW)-[:DIRECTED]->(CloudAtlas),\n",
    "(DavidMitchell)-[:WROTE]->(CloudAtlas),\n",
    "(StefanArndt)-[:PRODUCED]->(CloudAtlas)\n",
    "\n",
    "CREATE (TheDaVinciCode:Movie {title:'The Da Vinci Code', released:2006, tagline:'Break The Codes'})\n",
    "CREATE (IanM:Person {name:'Ian McKellen', born:1939})\n",
    "CREATE (AudreyT:Person {name:'Audrey Tautou', born:1976})\n",
    "CREATE (PaulB:Person {name:'Paul Bettany', born:1971})\n",
    "CREATE (RonH:Person {name:'Ron Howard', born:1954})\n",
    "CREATE\n",
    "(TomH)-[:ACTED_IN {roles:['Dr. Robert Langdon']}]->(TheDaVinciCode),\n",
    "(IanM)-[:ACTED_IN {roles:['Sir Leight Teabing']}]->(TheDaVinciCode),\n",
    "(AudreyT)-[:ACTED_IN {roles:['Sophie Neveu']}]->(TheDaVinciCode),\n",
    "(PaulB)-[:ACTED_IN {roles:['Silas']}]->(TheDaVinciCode),\n",
    "(RonH)-[:DIRECTED]->(TheDaVinciCode)\n",
    "\n",
    "CREATE (VforVendetta:Movie {title:'V for Vendetta', released:2006, tagline:'Freedom! Forever!'})\n",
    "CREATE (NatalieP:Person {name:'Natalie Portman', born:1981})\n",
    "CREATE (StephenR:Person {name:'Stephen Rea', born:1946})\n",
    "CREATE (JohnH:Person {name:'John Hurt', born:1940})\n",
    "CREATE (BenM:Person {name: 'Ben Miles', born:1967})\n",
    "CREATE\n",
    "(Hugo)-[:ACTED_IN {roles:['V']}]->(VforVendetta),\n",
    "(NatalieP)-[:ACTED_IN {roles:['Evey Hammond']}]->(VforVendetta),\n",
    "(StephenR)-[:ACTED_IN {roles:['Eric Finch']}]->(VforVendetta),\n",
    "(JohnH)-[:ACTED_IN {roles:['High Chancellor Adam Sutler']}]->(VforVendetta),\n",
    "(BenM)-[:ACTED_IN {roles:['Dascomb']}]->(VforVendetta),\n",
    "(JamesM)-[:DIRECTED]->(VforVendetta),\n",
    "(LillyW)-[:PRODUCED]->(VforVendetta),\n",
    "(LanaW)-[:PRODUCED]->(VforVendetta),\n",
    "(JoelS)-[:PRODUCED]->(VforVendetta),\n",
    "(LillyW)-[:WROTE]->(VforVendetta),\n",
    "(LanaW)-[:WROTE]->(VforVendetta)\n",
    "\n",
    "CREATE (SpeedRacer:Movie {title:'Speed Racer', released:2008, tagline:'Speed has no limits'})\n",
    "CREATE (EmileH:Person {name:'Emile Hirsch', born:1985})\n",
    "CREATE (JohnG:Person {name:'John Goodman', born:1960})\n",
    "CREATE (SusanS:Person {name:'Susan Sarandon', born:1946})\n",
    "CREATE (MatthewF:Person {name:'Matthew Fox', born:1966})\n",
    "CREATE (ChristinaR:Person {name:'Christina Ricci', born:1980})\n",
    "CREATE (Rain:Person {name:'Rain', born:1982})\n",
    "CREATE\n",
    "(EmileH)-[:ACTED_IN {roles:['Speed Racer']}]->(SpeedRacer),\n",
    "(JohnG)-[:ACTED_IN {roles:['Pops']}]->(SpeedRacer),\n",
    "(SusanS)-[:ACTED_IN {roles:['Mom']}]->(SpeedRacer),\n",
    "(MatthewF)-[:ACTED_IN {roles:['Racer X']}]->(SpeedRacer),\n",
    "(ChristinaR)-[:ACTED_IN {roles:['Trixie']}]->(SpeedRacer),\n",
    "(Rain)-[:ACTED_IN {roles:['Taejo Togokahn']}]->(SpeedRacer),\n",
    "(BenM)-[:ACTED_IN {roles:['Cass Jones']}]->(SpeedRacer),\n",
    "(LillyW)-[:DIRECTED]->(SpeedRacer),\n",
    "(LanaW)-[:DIRECTED]->(SpeedRacer),\n",
    "(LillyW)-[:WROTE]->(SpeedRacer),\n",
    "(LanaW)-[:WROTE]->(SpeedRacer),\n",
    "(JoelS)-[:PRODUCED]->(SpeedRacer)\n",
    "\n",
    "CREATE (NinjaAssassin:Movie {title:'Ninja Assassin', released:2009, tagline:'Prepare to enter a secret world of assassins'})\n",
    "CREATE (NaomieH:Person {name:'Naomie Harris'})\n",
    "CREATE\n",
    "(Rain)-[:ACTED_IN {roles:['Raizo']}]->(NinjaAssassin),\n",
    "(NaomieH)-[:ACTED_IN {roles:['Mika Coretti']}]->(NinjaAssassin),\n",
    "(RickY)-[:ACTED_IN {roles:['Takeshi']}]->(NinjaAssassin),\n",
    "(BenM)-[:ACTED_IN {roles:['Ryan Maslow']}]->(NinjaAssassin),\n",
    "(JamesM)-[:DIRECTED]->(NinjaAssassin),\n",
    "(LillyW)-[:PRODUCED]->(NinjaAssassin),\n",
    "(LanaW)-[:PRODUCED]->(NinjaAssassin),\n",
    "(JoelS)-[:PRODUCED]->(NinjaAssassin)\n",
    "\n",
    "CREATE (TheGreenMile:Movie {title:'The Green Mile', released:1999, tagline:\"Walk a mile you'll never forget.\"})\n",
    "CREATE (MichaelD:Person {name:'Michael Clarke Duncan', born:1957})\n",
    "CREATE (DavidM:Person {name:'David Morse', born:1953})\n",
    "CREATE (SamR:Person {name:'Sam Rockwell', born:1968})\n",
    "CREATE (GaryS:Person {name:'Gary Sinise', born:1955})\n",
    "CREATE (PatriciaC:Person {name:'Patricia Clarkson', born:1959})\n",
    "CREATE (FrankD:Person {name:'Frank Darabont', born:1959})\n",
    "CREATE\n",
    "(TomH)-[:ACTED_IN {roles:['Paul Edgecomb']}]->(TheGreenMile),\n",
    "(MichaelD)-[:ACTED_IN {roles:['John Coffey']}]->(TheGreenMile),\n",
    "(DavidM)-[:ACTED_IN {roles:['Brutus \"Brutal\" Howell']}]->(TheGreenMile),\n",
    "(BonnieH)-[:ACTED_IN {roles:['Jan Edgecomb']}]->(TheGreenMile),\n",
    "(JamesC)-[:ACTED_IN {roles:['Warden Hal Moores']}]->(TheGreenMile),\n",
    "(SamR)-[:ACTED_IN {roles:['\"Wild Bill\" Wharton']}]->(TheGreenMile),\n",
    "(GaryS)-[:ACTED_IN {roles:['Burt Hammersmith']}]->(TheGreenMile),\n",
    "(PatriciaC)-[:ACTED_IN {roles:['Melinda Moores']}]->(TheGreenMile),\n",
    "(FrankD)-[:DIRECTED]->(TheGreenMile)\n",
    "\n",
    "CREATE (FrostNixon:Movie {title:'Frost/Nixon', released:2008, tagline:'400 million people were waiting for the truth.'})\n",
    "CREATE (FrankL:Person {name:'Frank Langella', born:1938})\n",
    "CREATE (MichaelS:Person {name:'Michael Sheen', born:1969})\n",
    "CREATE (OliverP:Person {name:'Oliver Platt', born:1960})\n",
    "CREATE\n",
    "(FrankL)-[:ACTED_IN {roles:['Richard Nixon']}]->(FrostNixon),\n",
    "(MichaelS)-[:ACTED_IN {roles:['David Frost']}]->(FrostNixon),\n",
    "(KevinB)-[:ACTED_IN {roles:['Jack Brennan']}]->(FrostNixon),\n",
    "(OliverP)-[:ACTED_IN {roles:['Bob Zelnick']}]->(FrostNixon),\n",
    "(SamR)-[:ACTED_IN {roles:['James Reston, Jr.']}]->(FrostNixon),\n",
    "(RonH)-[:DIRECTED]->(FrostNixon)\n",
    "\n",
    "CREATE (Hoffa:Movie {title:'Hoffa', released:1992, tagline:\"He didn't want law. He wanted justice.\"})\n",
    "CREATE (DannyD:Person {name:'Danny DeVito', born:1944})\n",
    "CREATE (JohnR:Person {name:'John C. Reilly', born:1965})\n",
    "CREATE\n",
    "(JackN)-[:ACTED_IN {roles:['Hoffa']}]->(Hoffa),\n",
    "(DannyD)-[:ACTED_IN {roles:['Robert \"Bobby\" Ciaro']}]->(Hoffa),\n",
    "(JTW)-[:ACTED_IN {roles:['Frank Fitzsimmons']}]->(Hoffa),\n",
    "(JohnR)-[:ACTED_IN {roles:['Peter \"Pete\" Connelly']}]->(Hoffa),\n",
    "(DannyD)-[:DIRECTED]->(Hoffa)\n",
    "\n",
    "CREATE (Apollo13:Movie {title:'Apollo 13', released:1995, tagline:'Houston, we have a problem.'})\n",
    "CREATE (EdH:Person {name:'Ed Harris', born:1950})\n",
    "CREATE (BillPax:Person {name:'Bill Paxton', born:1955})\n",
    "CREATE\n",
    "(TomH)-[:ACTED_IN {roles:['Jim Lovell']}]->(Apollo13),\n",
    "(KevinB)-[:ACTED_IN {roles:['Jack Swigert']}]->(Apollo13),\n",
    "(EdH)-[:ACTED_IN {roles:['Gene Kranz']}]->(Apollo13),\n",
    "(BillPax)-[:ACTED_IN {roles:['Fred Haise']}]->(Apollo13),\n",
    "(GaryS)-[:ACTED_IN {roles:['Ken Mattingly']}]->(Apollo13),\n",
    "(RonH)-[:DIRECTED]->(Apollo13)\n",
    "\n",
    "CREATE (Twister:Movie {title:'Twister', released:1996, tagline:\"Don't Breathe. Don't Look Back.\"})\n",
    "CREATE (PhilipH:Person {name:'Philip Seymour Hoffman', born:1967})\n",
    "CREATE (JanB:Person {name:'Jan de Bont', born:1943})\n",
    "CREATE\n",
    "(BillPax)-[:ACTED_IN {roles:['Bill Harding']}]->(Twister),\n",
    "(HelenH)-[:ACTED_IN {roles:['Dr. Jo Harding']}]->(Twister),\n",
    "(ZachG)-[:ACTED_IN {roles:['Eddie']}]->(Twister),\n",
    "(PhilipH)-[:ACTED_IN {roles:['Dustin \"Dusty\" Davis']}]->(Twister),\n",
    "(JanB)-[:DIRECTED]->(Twister)\n",
    "\n",
    "CREATE (CastAway:Movie {title:'Cast Away', released:2000, tagline:'At the edge of the world, his journey begins.'})\n",
    "CREATE (RobertZ:Person {name:'Robert Zemeckis', born:1951})\n",
    "CREATE\n",
    "(TomH)-[:ACTED_IN {roles:['Chuck Noland']}]->(CastAway),\n",
    "(HelenH)-[:ACTED_IN {roles:['Kelly Frears']}]->(CastAway),\n",
    "(RobertZ)-[:DIRECTED]->(CastAway)\n",
    "\n",
    "CREATE (OneFlewOvertheCuckoosNest:Movie {title:\"One Flew Over the Cuckoo's Nest\", released:1975, tagline:\"If he's crazy, what does that make you?\"})\n",
    "CREATE (MilosF:Person {name:'Milos Forman', born:1932})\n",
    "CREATE\n",
    "(JackN)-[:ACTED_IN {roles:['Randle McMurphy']}]->(OneFlewOvertheCuckoosNest),\n",
    "(DannyD)-[:ACTED_IN {roles:['Martini']}]->(OneFlewOvertheCuckoosNest),\n",
    "(MilosF)-[:DIRECTED]->(OneFlewOvertheCuckoosNest)\n",
    "\n",
    "CREATE (SomethingsGottaGive:Movie {title:\"Something's Gotta Give\", released:2003})\n",
    "CREATE (DianeK:Person {name:'Diane Keaton', born:1946})\n",
    "CREATE (NancyM:Person {name:'Nancy Meyers', born:1949})\n",
    "CREATE\n",
    "(JackN)-[:ACTED_IN {roles:['Harry Sanborn']}]->(SomethingsGottaGive),\n",
    "(DianeK)-[:ACTED_IN {roles:['Erica Barry']}]->(SomethingsGottaGive),\n",
    "(Keanu)-[:ACTED_IN {roles:['Julian Mercer']}]->(SomethingsGottaGive),\n",
    "(NancyM)-[:DIRECTED]->(SomethingsGottaGive),\n",
    "(NancyM)-[:PRODUCED]->(SomethingsGottaGive),\n",
    "(NancyM)-[:WROTE]->(SomethingsGottaGive)\n",
    "\n",
    "CREATE (BicentennialMan:Movie {title:'Bicentennial Man', released:1999, tagline:\"One robot's 200 year journey to become an ordinary man.\"})\n",
    "CREATE (ChrisC:Person {name:'Chris Columbus', born:1958})\n",
    "CREATE\n",
    "(Robin)-[:ACTED_IN {roles:['Andrew Marin']}]->(BicentennialMan),\n",
    "(OliverP)-[:ACTED_IN {roles:['Rupert Burns']}]->(BicentennialMan),\n",
    "(ChrisC)-[:DIRECTED]->(BicentennialMan)\n",
    "\n",
    "CREATE (CharlieWilsonsWar:Movie {title:\"Charlie Wilson's War\", released:2007, tagline:\"A stiff drink. A little mascara. A lot of nerve. Who said they couldn't bring down the Soviet empire.\"})\n",
    "CREATE (JuliaR:Person {name:'Julia Roberts', born:1967})\n",
    "CREATE\n",
    "(TomH)-[:ACTED_IN {roles:['Rep. Charlie Wilson']}]->(CharlieWilsonsWar),\n",
    "(JuliaR)-[:ACTED_IN {roles:['Joanne Herring']}]->(CharlieWilsonsWar),\n",
    "(PhilipH)-[:ACTED_IN {roles:['Gust Avrakotos']}]->(CharlieWilsonsWar),\n",
    "(MikeN)-[:DIRECTED]->(CharlieWilsonsWar)\n",
    "\n",
    "CREATE (ThePolarExpress:Movie {title:'The Polar Express', released:2004, tagline:'This Holiday Season... Believe'})\n",
    "CREATE\n",
    "(TomH)-[:ACTED_IN {roles:['Hero Boy', 'Father', 'Conductor', 'Hobo', 'Scrooge', 'Santa Claus']}]->(ThePolarExpress),\n",
    "(RobertZ)-[:DIRECTED]->(ThePolarExpress)\n",
    "\n",
    "CREATE (ALeagueofTheirOwn:Movie {title:'A League of Their Own', released:1992, tagline:'Once in a lifetime you get a chance to do something different.'})\n",
    "CREATE (Madonna:Person {name:'Madonna', born:1954})\n",
    "CREATE (GeenaD:Person {name:'Geena Davis', born:1956})\n",
    "CREATE (LoriP:Person {name:'Lori Petty', born:1963})\n",
    "CREATE (PennyM:Person {name:'Penny Marshall', born:1943})\n",
    "CREATE\n",
    "(TomH)-[:ACTED_IN {roles:['Jimmy Dugan']}]->(ALeagueofTheirOwn),\n",
    "(GeenaD)-[:ACTED_IN {roles:['Dottie Hinson']}]->(ALeagueofTheirOwn),\n",
    "(LoriP)-[:ACTED_IN {roles:['Kit Keller']}]->(ALeagueofTheirOwn),\n",
    "(RosieO)-[:ACTED_IN {roles:['Doris Murphy']}]->(ALeagueofTheirOwn),\n",
    "(Madonna)-[:ACTED_IN {roles:['\"All the Way\" Mae Mordabito']}]->(ALeagueofTheirOwn),\n",
    "(BillPax)-[:ACTED_IN {roles:['Bob Hinson']}]->(ALeagueofTheirOwn),\n",
    "(PennyM)-[:DIRECTED]->(ALeagueofTheirOwn)\n",
    "\n",
    "CREATE (PaulBlythe:Person {name:'Paul Blythe'})\n",
    "CREATE (AngelaScope:Person {name:'Angela Scope'})\n",
    "CREATE (JessicaThompson:Person {name:'Jessica Thompson'})\n",
    "CREATE (JamesThompson:Person {name:'James Thompson'})\n",
    "\n",
    "CREATE\n",
    "(JamesThompson)-[:FOLLOWS]->(JessicaThompson),\n",
    "(AngelaScope)-[:FOLLOWS]->(JessicaThompson),\n",
    "(PaulBlythe)-[:FOLLOWS]->(AngelaScope)\n",
    "\n",
    "CREATE\n",
    "(JessicaThompson)-[:REVIEWED {summary:'An amazing journey', rating:95}]->(CloudAtlas),\n",
    "(JessicaThompson)-[:REVIEWED {summary:'Silly, but fun', rating:65}]->(TheReplacements),\n",
    "(JamesThompson)-[:REVIEWED {summary:'The coolest football movie ever', rating:100}]->(TheReplacements),\n",
    "(AngelaScope)-[:REVIEWED {summary:'Pretty funny at times', rating:62}]->(TheReplacements),\n",
    "(JessicaThompson)-[:REVIEWED {summary:'Dark, but compelling', rating:85}]->(Unforgiven),\n",
    "(JessicaThompson)-[:REVIEWED {summary:\"Slapstick redeemed only by the Robin Williams and Gene Hackman's stellar performances\", rating:45}]->(TheBirdcage),\n",
    "(JessicaThompson)-[:REVIEWED {summary:'A solid romp', rating:68}]->(TheDaVinciCode),\n",
    "(JamesThompson)-[:REVIEWED {summary:'Fun, but a little far fetched', rating:65}]->(TheDaVinciCode),\n",
    "(JessicaThompson)-[:REVIEWED {summary:'You had me at Jerry', rating:92}]->(JerryMaguire)\n",
    "\n",
    "WITH TomH as a\n",
    "MATCH (a)-[:ACTED_IN]->(m)<-[:DIRECTED]-(d) RETURN a,m,d LIMIT 10;"
   ]
  },
  {
   "cell_type": "markdown",
   "metadata": {},
   "source": [
    "You can test the cy2py integration with your database by running the cell below, which queries the database and returns dummy data"
   ]
  },
  {
   "cell_type": "code",
   "execution_count": 6,
   "metadata": {},
   "outputs": [
    {
     "data": {
      "text/html": [
       "<div>\n",
       "<style scoped>\n",
       "    .dataframe tbody tr th:only-of-type {\n",
       "        vertical-align: middle;\n",
       "    }\n",
       "\n",
       "    .dataframe tbody tr th {\n",
       "        vertical-align: top;\n",
       "    }\n",
       "\n",
       "    .dataframe thead th {\n",
       "        text-align: right;\n",
       "    }\n",
       "</style>\n",
       "<table border=\"1\" class=\"dataframe\">\n",
       "  <thead>\n",
       "    <tr style=\"text-align: right;\">\n",
       "      <th></th>\n",
       "      <th>foo</th>\n",
       "      <th>bar</th>\n",
       "    </tr>\n",
       "  </thead>\n",
       "  <tbody>\n",
       "    <tr>\n",
       "      <th>0</th>\n",
       "      <td>1</td>\n",
       "      <td>bar</td>\n",
       "    </tr>\n",
       "  </tbody>\n",
       "</table>\n",
       "</div>"
      ],
      "text/plain": [
       "   foo  bar\n",
       "0    1  bar"
      ]
     },
     "execution_count": 6,
     "metadata": {},
     "output_type": "execute_result"
    }
   ],
   "source": [
    "my_simple_df = %cypher -a basic -u $neo4j_url -us $neo4j_user -pw $neo4j_pwd RETURN 1 AS foo, 'bar' AS bar\n",
    "my_simple_df"
   ]
  },
  {
   "cell_type": "markdown",
   "metadata": {
    "id": "sGu-zpk8nY5r"
   },
   "source": [
    "As you can see the model is exactely how we expect!"
   ]
  },
  {
   "cell_type": "code",
   "execution_count": 7,
   "metadata": {
    "id": "_zZF1guo58cc"
   },
   "outputs": [],
   "source": [
    "# this step is MANDATORY for the validation code following exercises \n",
    "from neo4j import GraphDatabase\n",
    "neo4j_driver = GraphDatabase.driver(neo4j_url, auth=(neo4j_user, neo4j_password))"
   ]
  },
  {
   "cell_type": "markdown",
   "metadata": {
    "id": "c8bQe1b-7RY-"
   },
   "source": [
    "# Read data from Neo4j into Spark\n"
   ]
  },
  {
   "cell_type": "markdown",
   "metadata": {
    "id": "ovoUnDmocaxK"
   },
   "source": [
    "The query above generates the following graph model:\n",
    "\n"
   ]
  },
  {
   "cell_type": "markdown",
   "metadata": {
    "id": "B1LLHYf1CsPh"
   },
   "source": [
    "## Read nodes via `labels` option"
   ]
  },
  {
   "cell_type": "code",
   "execution_count": 8,
   "metadata": {
    "id": "omdSk6ShCqfA"
   },
   "outputs": [
    {
     "name": "stderr",
     "output_type": "stream",
     "text": [
      "25/03/04 15:27:22 WARN SchemaService: Switching to query schema resolution\n"
     ]
    }
   ],
   "source": [
    "movies_df = (spark.read\n",
    "            .format('org.neo4j.spark.DataSource')\n",
    "            .option('labels', ':Movie')\n",
    "            .load())"
   ]
  },
  {
   "cell_type": "markdown",
   "metadata": {
    "id": "RyglSgXnQcar"
   },
   "source": [
    "### Schema description"
   ]
  },
  {
   "cell_type": "code",
   "execution_count": 9,
   "metadata": {
    "id": "f9AaUINjPH4n"
   },
   "outputs": [
    {
     "name": "stdout",
     "output_type": "stream",
     "text": [
      "root\n",
      " |-- <id>: long (nullable = false)\n",
      " |-- <labels>: array (nullable = true)\n",
      " |    |-- element: string (containsNull = true)\n",
      " |-- title: string (nullable = true)\n",
      " |-- tagline: string (nullable = true)\n",
      " |-- released: long (nullable = true)\n",
      "\n"
     ]
    }
   ],
   "source": [
    "movies_df.printSchema()"
   ]
  },
  {
   "cell_type": "markdown",
   "metadata": {
    "id": "jxLcYSkgZ1xf"
   },
   "source": [
    "The `movies_df` contains a set of fields, the first two (generally) are always:\n",
    "\n",
    "* `<id>` which represents the internal Neo4j id\n",
    "* `<labels>` which represents the list of labels attached to the node\n",
    "\n",
    "All other properties are taken from the node via schema resolution by using APOC or Cypher queries"
   ]
  },
  {
   "cell_type": "code",
   "execution_count": 10,
   "metadata": {
    "id": "omGjaw5QDgS-"
   },
   "outputs": [
    {
     "name": "stderr",
     "output_type": "stream",
     "text": [
      "                                                                                \r"
     ]
    },
    {
     "data": {
      "text/html": [
       "<table border='1'>\n",
       "<tr><th>&lt;id&gt;</th><th>&lt;labels&gt;</th><th>title</th><th>tagline</th><th>released</th></tr>\n",
       "<tr><td>0</td><td>[Movie]</td><td>The Matrix</td><td>Welcome to the Re...</td><td>1999</td></tr>\n",
       "<tr><td>9</td><td>[Movie]</td><td>The Matrix Reloaded</td><td>Free your mind</td><td>2003</td></tr>\n",
       "<tr><td>10</td><td>[Movie]</td><td>The Matrix Revolu...</td><td>Everything that h...</td><td>2003</td></tr>\n",
       "<tr><td>11</td><td>[Movie]</td><td>The Devil's Advocate</td><td>Evil has its winn...</td><td>1997</td></tr>\n",
       "<tr><td>15</td><td>[Movie]</td><td>A Few Good Men</td><td>In the heart of t...</td><td>1992</td></tr>\n",
       "<tr><td>29</td><td>[Movie]</td><td>Top Gun</td><td>I feel the need, ...</td><td>1986</td></tr>\n",
       "<tr><td>37</td><td>[Movie]</td><td>Jerry Maguire</td><td>The rest of his l...</td><td>2000</td></tr>\n",
       "<tr><td>46</td><td>[Movie]</td><td>Stand By Me</td><td>For some, it's th...</td><td>1986</td></tr>\n",
       "<tr><td>52</td><td>[Movie]</td><td>As Good as It Gets</td><td>A comedy from the...</td><td>1997</td></tr>\n",
       "<tr><td>56</td><td>[Movie]</td><td>What Dreams May Come</td><td>After life there ...</td><td>1998</td></tr>\n",
       "<tr><td>62</td><td>[Movie]</td><td>Snow Falling on C...</td><td>First loves last....</td><td>1999</td></tr>\n",
       "<tr><td>67</td><td>[Movie]</td><td>You've Got Mail</td><td>At odds in life.....</td><td>1998</td></tr>\n",
       "<tr><td>73</td><td>[Movie]</td><td>Sleepless in Seattle</td><td>What if someone y...</td><td>1993</td></tr>\n",
       "<tr><td>78</td><td>[Movie]</td><td>Joe Versus the Vo...</td><td>A story of love, ...</td><td>1990</td></tr>\n",
       "<tr><td>81</td><td>[Movie]</td><td>When Harry Met Sally</td><td>Can two friends s...</td><td>1998</td></tr>\n",
       "<tr><td>85</td><td>[Movie]</td><td>That Thing You Do</td><td>In every life the...</td><td>1996</td></tr>\n",
       "<tr><td>87</td><td>[Movie]</td><td>The Replacements</td><td>Pain heals, Chick...</td><td>2000</td></tr>\n",
       "<tr><td>92</td><td>[Movie]</td><td>RescueDawn</td><td>Based on the extr...</td><td>2006</td></tr>\n",
       "<tr><td>95</td><td>[Movie]</td><td>The Birdcage</td><td>Come as you are</td><td>1996</td></tr>\n",
       "<tr><td>97</td><td>[Movie]</td><td>Unforgiven</td><td>It's a hell of a ...</td><td>1992</td></tr>\n",
       "</table>\n",
       "only showing top 20 rows\n"
      ],
      "text/plain": [
       "+----+--------+--------------------+--------------------+--------+\n",
       "|<id>|<labels>|               title|             tagline|released|\n",
       "+----+--------+--------------------+--------------------+--------+\n",
       "|   0| [Movie]|          The Matrix|Welcome to the Re...|    1999|\n",
       "|   9| [Movie]| The Matrix Reloaded|      Free your mind|    2003|\n",
       "|  10| [Movie]|The Matrix Revolu...|Everything that h...|    2003|\n",
       "|  11| [Movie]|The Devil's Advocate|Evil has its winn...|    1997|\n",
       "|  15| [Movie]|      A Few Good Men|In the heart of t...|    1992|\n",
       "|  29| [Movie]|             Top Gun|I feel the need, ...|    1986|\n",
       "|  37| [Movie]|       Jerry Maguire|The rest of his l...|    2000|\n",
       "|  46| [Movie]|         Stand By Me|For some, it's th...|    1986|\n",
       "|  52| [Movie]|  As Good as It Gets|A comedy from the...|    1997|\n",
       "|  56| [Movie]|What Dreams May Come|After life there ...|    1998|\n",
       "|  62| [Movie]|Snow Falling on C...|First loves last....|    1999|\n",
       "|  67| [Movie]|     You've Got Mail|At odds in life.....|    1998|\n",
       "|  73| [Movie]|Sleepless in Seattle|What if someone y...|    1993|\n",
       "|  78| [Movie]|Joe Versus the Vo...|A story of love, ...|    1990|\n",
       "|  81| [Movie]|When Harry Met Sally|Can two friends s...|    1998|\n",
       "|  85| [Movie]|   That Thing You Do|In every life the...|    1996|\n",
       "|  87| [Movie]|    The Replacements|Pain heals, Chick...|    2000|\n",
       "|  92| [Movie]|          RescueDawn|Based on the extr...|    2006|\n",
       "|  95| [Movie]|        The Birdcage|     Come as you are|    1996|\n",
       "|  97| [Movie]|          Unforgiven|It's a hell of a ...|    1992|\n",
       "+----+--------+--------------------+--------------------+--------+\n",
       "only showing top 20 rows"
      ]
     },
     "execution_count": 10,
     "metadata": {},
     "output_type": "execute_result"
    }
   ],
   "source": [
    "movies_df"
   ]
  },
  {
   "cell_type": "markdown",
   "metadata": {
    "id": "7-KTRC5HD5sO"
   },
   "source": [
    "### Exercise\n",
    "\n",
    "Read all the `Person` nodes store them into a Python variable called `person_df` and then verify the results"
   ]
  },
  {
   "cell_type": "code",
   "execution_count": 11,
   "metadata": {
    "id": "ZhnsFC9KEsLp"
   },
   "outputs": [
    {
     "name": "stderr",
     "output_type": "stream",
     "text": [
      "25/03/04 15:27:34 WARN SchemaService: Switching to query schema resolution\n"
     ]
    }
   ],
   "source": [
    "person_df = (spark.read\n",
    "            .format('org.neo4j.spark.DataSource')\n",
    "            .option('labels', ':Person')\n",
    "            .load())"
   ]
  },
  {
   "cell_type": "markdown",
   "metadata": {
    "id": "O4WEzidAZBh-"
   },
   "source": [
    "<details>\n",
    "<summary>\n",
    "Show a possible solution\n",
    "</summary>\n",
    "\n",
    "```python\n",
    "person_df = (spark.read\n",
    "  .format('org.neo4j.spark.DataSource')\n",
    "  .option('labels', ':Person')\n",
    "  .load())\n",
    "```\n",
    "\n",
    "</details>\n",
    "\n"
   ]
  },
  {
   "cell_type": "code",
   "execution_count": 12,
   "metadata": {
    "id": "D5_zXyweE-QM"
   },
   "outputs": [
    {
     "name": "stderr",
     "output_type": "stream",
     "text": [
      "                                                                                \r"
     ]
    },
    {
     "ename": "AssertionError",
     "evalue": "",
     "output_type": "error",
     "traceback": [
      "\u001b[0;31m---------------------------------------------------------------------------\u001b[0m",
      "\u001b[0;31mAssertionError\u001b[0m                            Traceback (most recent call last)",
      "Cell \u001b[0;32mIn[12], line 7\u001b[0m\n\u001b[1;32m      1\u001b[0m \u001b[38;5;124;03m\"\"\"\u001b[39;00m\n\u001b[1;32m      2\u001b[0m \u001b[38;5;124;03m This paragraph is for validating the code the you\u001b[39;00m\n\u001b[1;32m      3\u001b[0m \u001b[38;5;124;03m wrote above, please execute it after you\u001b[39;00m\n\u001b[1;32m      4\u001b[0m \u001b[38;5;124;03m created the person_df\u001b[39;00m\n\u001b[1;32m      5\u001b[0m \u001b[38;5;124;03m\"\"\"\u001b[39;00m\n\u001b[0;32m----> 7\u001b[0m \u001b[38;5;28;01massert\u001b[39;00m person_df\u001b[38;5;241m.\u001b[39mcount() \u001b[38;5;241m==\u001b[39m \u001b[38;5;241m133\u001b[39m\n\u001b[1;32m      8\u001b[0m \u001b[38;5;28;01massert\u001b[39;00m person_df\u001b[38;5;241m.\u001b[39mschema\u001b[38;5;241m.\u001b[39mfieldNames() \u001b[38;5;241m==\u001b[39m [\u001b[38;5;124m'\u001b[39m\u001b[38;5;124m<id>\u001b[39m\u001b[38;5;124m'\u001b[39m, \u001b[38;5;124m'\u001b[39m\u001b[38;5;124m<labels>\u001b[39m\u001b[38;5;124m'\u001b[39m, \u001b[38;5;124m'\u001b[39m\u001b[38;5;124mname\u001b[39m\u001b[38;5;124m'\u001b[39m, \u001b[38;5;124m'\u001b[39m\u001b[38;5;124mborn\u001b[39m\u001b[38;5;124m'\u001b[39m]\n\u001b[1;32m      9\u001b[0m \u001b[38;5;28;01massert\u001b[39;00m person_df\u001b[38;5;241m.\u001b[39mcollect()[\u001b[38;5;241m0\u001b[39m][\u001b[38;5;124m\"\u001b[39m\u001b[38;5;124m<labels>\u001b[39m\u001b[38;5;124m\"\u001b[39m] \u001b[38;5;241m==\u001b[39m [\u001b[38;5;124m'\u001b[39m\u001b[38;5;124mPerson\u001b[39m\u001b[38;5;124m'\u001b[39m]\n",
      "\u001b[0;31mAssertionError\u001b[0m: "
     ]
    }
   ],
   "source": [
    "\"\"\"\n",
    " This paragraph is for validating the code the you\n",
    " wrote above, please execute it after you\n",
    " created the person_df\n",
    "\"\"\"\n",
    "\n",
    "assert person_df.count() == 133\n",
    "assert person_df.schema.fieldNames() == ['<id>', '<labels>', 'name', 'born']\n",
    "assert person_df.collect()[0][\"<labels>\"] == ['Person']\n",
    "print(\"All assertion are successfuly satisfied. Congrats you created your first DataFrame\")"
   ]
  },
  {
   "cell_type": "markdown",
   "metadata": {
    "id": "m1hgGMLCRoZx"
   },
   "source": [
    "## Read relationships via `relationship` option"
   ]
  },
  {
   "cell_type": "markdown",
   "metadata": {
    "id": "HgPockV0I5Q3"
   },
   "source": [
    "There are two way to transform relationships into DataFrame\n",
    "\n",
    "* having all the node and relationship data flattened into the DataFrame\n",
    "* having all the node properties in maps and the relationship data as columns"
   ]
  },
  {
   "cell_type": "markdown",
   "metadata": {
    "id": "m0DBqZLtKtvX"
   },
   "source": [
    "### DataFrame with flattened data"
   ]
  },
  {
   "cell_type": "code",
   "execution_count": 13,
   "metadata": {
    "id": "796cuMwXR2zi"
   },
   "outputs": [
    {
     "name": "stderr",
     "output_type": "stream",
     "text": [
      "25/03/04 15:27:53 WARN SchemaService: Switching to query schema resolution\n",
      "25/03/04 15:27:53 WARN SchemaService: Switching to query schema resolution\n",
      "25/03/04 15:27:53 WARN SchemaService: Switching to query schema resolution\n"
     ]
    }
   ],
   "source": [
    "actedin_df = (spark.read\n",
    "            .format('org.neo4j.spark.DataSource')\n",
    "            .option('relationship', 'ACTED_IN')\n",
    "            .option('relationship.source.labels', ':Person')\n",
    "            .option('relationship.target.labels', ':Movie')\n",
    "            .load())"
   ]
  },
  {
   "cell_type": "markdown",
   "metadata": {
    "id": "yzyviI5vXO4K"
   },
   "source": [
    "### Schema description"
   ]
  },
  {
   "cell_type": "code",
   "execution_count": 14,
   "metadata": {
    "id": "5uDWZqoySNGc"
   },
   "outputs": [
    {
     "name": "stdout",
     "output_type": "stream",
     "text": [
      "root\n",
      " |-- <rel.id>: long (nullable = false)\n",
      " |-- <rel.type>: string (nullable = false)\n",
      " |-- <source.id>: long (nullable = false)\n",
      " |-- <source.labels>: array (nullable = true)\n",
      " |    |-- element: string (containsNull = true)\n",
      " |-- source.name: string (nullable = true)\n",
      " |-- source.born: long (nullable = true)\n",
      " |-- <target.id>: long (nullable = false)\n",
      " |-- <target.labels>: array (nullable = true)\n",
      " |    |-- element: string (containsNull = true)\n",
      " |-- target.title: string (nullable = true)\n",
      " |-- target.tagline: string (nullable = true)\n",
      " |-- target.released: long (nullable = true)\n",
      " |-- rel.roles: array (nullable = true)\n",
      " |    |-- element: string (containsNull = true)\n",
      "\n"
     ]
    }
   ],
   "source": [
    "actedin_df.printSchema()"
   ]
  },
  {
   "cell_type": "markdown",
   "metadata": {
    "id": "2dB9DL7KZxrX"
   },
   "source": [
    "The `movies_df` contains a set of fields, the first two (generally) are always:\n",
    "\n",
    "* `<rel.id>` which represents the internal Neo4j relationship id\n",
    "* `<rel.type>` which represents the relationship type\n",
    "* `<source/target.id>` which represents the internal Neo4j node id\n",
    "* `<source/target.labels>` which represents the list of labels attached to the node\n",
    "* `rel.*` which represents the properties attached to the relationship\n",
    "* `source/target.*` which represents the properties attached to the node\n",
    "\n",
    "All other properties are taken from the node via schema resolution by using APOC or Cypher queries"
   ]
  },
  {
   "cell_type": "code",
   "execution_count": 15,
   "metadata": {
    "id": "VPHDTL-IUX2X"
   },
   "outputs": [
    {
     "name": "stderr",
     "output_type": "stream",
     "text": [
      "                                                                                \r"
     ]
    },
    {
     "data": {
      "text/html": [
       "<table border='1'>\n",
       "<tr><th>&lt;rel.id&gt;</th><th>&lt;rel.type&gt;</th><th>&lt;source.id&gt;</th><th>&lt;source.labels&gt;</th><th>source.name</th><th>source.born</th><th>&lt;target.id&gt;</th><th>&lt;target.labels&gt;</th><th>target.title</th><th>target.tagline</th><th>target.released</th><th>rel.roles</th></tr>\n",
       "<tr><td>7</td><td>ACTED_IN</td><td>8</td><td>[Person]</td><td>Emil Eifrem</td><td>1978</td><td>0</td><td>[Movie]</td><td>The Matrix</td><td>Welcome to the Re...</td><td>1999</td><td>[Emil]</td></tr>\n",
       "<tr><td>3</td><td>ACTED_IN</td><td>4</td><td>[Person]</td><td>Hugo Weaving</td><td>1960</td><td>0</td><td>[Movie]</td><td>The Matrix</td><td>Welcome to the Re...</td><td>1999</td><td>[Agent Smith]</td></tr>\n",
       "<tr><td>2</td><td>ACTED_IN</td><td>3</td><td>[Person]</td><td>Laurence Fishburne</td><td>1961</td><td>0</td><td>[Movie]</td><td>The Matrix</td><td>Welcome to the Re...</td><td>1999</td><td>[Morpheus]</td></tr>\n",
       "<tr><td>1</td><td>ACTED_IN</td><td>2</td><td>[Person]</td><td>Carrie-Anne Moss</td><td>1967</td><td>0</td><td>[Movie]</td><td>The Matrix</td><td>Welcome to the Re...</td><td>1999</td><td>[Trinity]</td></tr>\n",
       "<tr><td>0</td><td>ACTED_IN</td><td>1</td><td>[Person]</td><td>Keanu Reeves</td><td>1964</td><td>0</td><td>[Movie]</td><td>The Matrix</td><td>Welcome to the Re...</td><td>1999</td><td>[Neo]</td></tr>\n",
       "<tr><td>11</td><td>ACTED_IN</td><td>4</td><td>[Person]</td><td>Hugo Weaving</td><td>1960</td><td>9</td><td>[Movie]</td><td>The Matrix Reloaded</td><td>Free your mind</td><td>2003</td><td>[Agent Smith]</td></tr>\n",
       "<tr><td>10</td><td>ACTED_IN</td><td>3</td><td>[Person]</td><td>Laurence Fishburne</td><td>1961</td><td>9</td><td>[Movie]</td><td>The Matrix Reloaded</td><td>Free your mind</td><td>2003</td><td>[Morpheus]</td></tr>\n",
       "<tr><td>9</td><td>ACTED_IN</td><td>2</td><td>[Person]</td><td>Carrie-Anne Moss</td><td>1967</td><td>9</td><td>[Movie]</td><td>The Matrix Reloaded</td><td>Free your mind</td><td>2003</td><td>[Trinity]</td></tr>\n",
       "<tr><td>8</td><td>ACTED_IN</td><td>1</td><td>[Person]</td><td>Keanu Reeves</td><td>1964</td><td>9</td><td>[Movie]</td><td>The Matrix Reloaded</td><td>Free your mind</td><td>2003</td><td>[Neo]</td></tr>\n",
       "<tr><td>18</td><td>ACTED_IN</td><td>4</td><td>[Person]</td><td>Hugo Weaving</td><td>1960</td><td>10</td><td>[Movie]</td><td>The Matrix Revolu...</td><td>Everything that h...</td><td>2003</td><td>[Agent Smith]</td></tr>\n",
       "<tr><td>17</td><td>ACTED_IN</td><td>3</td><td>[Person]</td><td>Laurence Fishburne</td><td>1961</td><td>10</td><td>[Movie]</td><td>The Matrix Revolu...</td><td>Everything that h...</td><td>2003</td><td>[Morpheus]</td></tr>\n",
       "<tr><td>16</td><td>ACTED_IN</td><td>2</td><td>[Person]</td><td>Carrie-Anne Moss</td><td>1967</td><td>10</td><td>[Movie]</td><td>The Matrix Revolu...</td><td>Everything that h...</td><td>2003</td><td>[Trinity]</td></tr>\n",
       "<tr><td>15</td><td>ACTED_IN</td><td>1</td><td>[Person]</td><td>Keanu Reeves</td><td>1964</td><td>10</td><td>[Movie]</td><td>The Matrix Revolu...</td><td>Everything that h...</td><td>2003</td><td>[Neo]</td></tr>\n",
       "<tr><td>24</td><td>ACTED_IN</td><td>13</td><td>[Person]</td><td>Al Pacino</td><td>1940</td><td>11</td><td>[Movie]</td><td>The Devil's Advocate</td><td>Evil has its winn...</td><td>1997</td><td>[John Milton]</td></tr>\n",
       "<tr><td>23</td><td>ACTED_IN</td><td>12</td><td>[Person]</td><td>Charlize Theron</td><td>1975</td><td>11</td><td>[Movie]</td><td>The Devil's Advocate</td><td>Evil has its winn...</td><td>1997</td><td>[Mary Ann Lomax]</td></tr>\n",
       "<tr><td>22</td><td>ACTED_IN</td><td>1</td><td>[Person]</td><td>Keanu Reeves</td><td>1964</td><td>11</td><td>[Movie]</td><td>The Devil's Advocate</td><td>Evil has its winn...</td><td>1997</td><td>[Kevin Lomax]</td></tr>\n",
       "<tr><td>35</td><td>ACTED_IN</td><td>25</td><td>[Person]</td><td>James Marshall</td><td>1967</td><td>15</td><td>[Movie]</td><td>A Few Good Men</td><td>In the heart of t...</td><td>1992</td><td>[Pfc. Louden Downey]</td></tr>\n",
       "<tr><td>33</td><td>ACTED_IN</td><td>23</td><td>[Person]</td><td>Kevin Pollak</td><td>1957</td><td>15</td><td>[Movie]</td><td>A Few Good Men</td><td>In the heart of t...</td><td>1992</td><td>[Lt. Sam Weinberg]</td></tr>\n",
       "<tr><td>34</td><td>ACTED_IN</td><td>24</td><td>[Person]</td><td>J.T. Walsh</td><td>1943</td><td>15</td><td>[Movie]</td><td>A Few Good Men</td><td>In the heart of t...</td><td>1992</td><td>[Lt. Col. Matthew...</td></tr>\n",
       "<tr><td>37</td><td>ACTED_IN</td><td>28</td><td>[Person]</td><td>Aaron Sorkin</td><td>1961</td><td>15</td><td>[Movie]</td><td>A Few Good Men</td><td>In the heart of t...</td><td>1992</td><td>[Man in Bar]</td></tr>\n",
       "</table>\n",
       "only showing top 20 rows\n"
      ],
      "text/plain": [
       "+--------+----------+-----------+---------------+------------------+-----------+-----------+---------------+--------------------+--------------------+---------------+--------------------+\n",
       "|<rel.id>|<rel.type>|<source.id>|<source.labels>|       source.name|source.born|<target.id>|<target.labels>|        target.title|      target.tagline|target.released|           rel.roles|\n",
       "+--------+----------+-----------+---------------+------------------+-----------+-----------+---------------+--------------------+--------------------+---------------+--------------------+\n",
       "|       7|  ACTED_IN|          8|       [Person]|       Emil Eifrem|       1978|          0|        [Movie]|          The Matrix|Welcome to the Re...|           1999|              [Emil]|\n",
       "|       3|  ACTED_IN|          4|       [Person]|      Hugo Weaving|       1960|          0|        [Movie]|          The Matrix|Welcome to the Re...|           1999|       [Agent Smith]|\n",
       "|       2|  ACTED_IN|          3|       [Person]|Laurence Fishburne|       1961|          0|        [Movie]|          The Matrix|Welcome to the Re...|           1999|          [Morpheus]|\n",
       "|       1|  ACTED_IN|          2|       [Person]|  Carrie-Anne Moss|       1967|          0|        [Movie]|          The Matrix|Welcome to the Re...|           1999|           [Trinity]|\n",
       "|       0|  ACTED_IN|          1|       [Person]|      Keanu Reeves|       1964|          0|        [Movie]|          The Matrix|Welcome to the Re...|           1999|               [Neo]|\n",
       "|      11|  ACTED_IN|          4|       [Person]|      Hugo Weaving|       1960|          9|        [Movie]| The Matrix Reloaded|      Free your mind|           2003|       [Agent Smith]|\n",
       "|      10|  ACTED_IN|          3|       [Person]|Laurence Fishburne|       1961|          9|        [Movie]| The Matrix Reloaded|      Free your mind|           2003|          [Morpheus]|\n",
       "|       9|  ACTED_IN|          2|       [Person]|  Carrie-Anne Moss|       1967|          9|        [Movie]| The Matrix Reloaded|      Free your mind|           2003|           [Trinity]|\n",
       "|       8|  ACTED_IN|          1|       [Person]|      Keanu Reeves|       1964|          9|        [Movie]| The Matrix Reloaded|      Free your mind|           2003|               [Neo]|\n",
       "|      18|  ACTED_IN|          4|       [Person]|      Hugo Weaving|       1960|         10|        [Movie]|The Matrix Revolu...|Everything that h...|           2003|       [Agent Smith]|\n",
       "|      17|  ACTED_IN|          3|       [Person]|Laurence Fishburne|       1961|         10|        [Movie]|The Matrix Revolu...|Everything that h...|           2003|          [Morpheus]|\n",
       "|      16|  ACTED_IN|          2|       [Person]|  Carrie-Anne Moss|       1967|         10|        [Movie]|The Matrix Revolu...|Everything that h...|           2003|           [Trinity]|\n",
       "|      15|  ACTED_IN|          1|       [Person]|      Keanu Reeves|       1964|         10|        [Movie]|The Matrix Revolu...|Everything that h...|           2003|               [Neo]|\n",
       "|      24|  ACTED_IN|         13|       [Person]|         Al Pacino|       1940|         11|        [Movie]|The Devil's Advocate|Evil has its winn...|           1997|       [John Milton]|\n",
       "|      23|  ACTED_IN|         12|       [Person]|   Charlize Theron|       1975|         11|        [Movie]|The Devil's Advocate|Evil has its winn...|           1997|    [Mary Ann Lomax]|\n",
       "|      22|  ACTED_IN|          1|       [Person]|      Keanu Reeves|       1964|         11|        [Movie]|The Devil's Advocate|Evil has its winn...|           1997|       [Kevin Lomax]|\n",
       "|      35|  ACTED_IN|         25|       [Person]|    James Marshall|       1967|         15|        [Movie]|      A Few Good Men|In the heart of t...|           1992|[Pfc. Louden Downey]|\n",
       "|      33|  ACTED_IN|         23|       [Person]|      Kevin Pollak|       1957|         15|        [Movie]|      A Few Good Men|In the heart of t...|           1992|  [Lt. Sam Weinberg]|\n",
       "|      34|  ACTED_IN|         24|       [Person]|        J.T. Walsh|       1943|         15|        [Movie]|      A Few Good Men|In the heart of t...|           1992|[Lt. Col. Matthew...|\n",
       "|      37|  ACTED_IN|         28|       [Person]|      Aaron Sorkin|       1961|         15|        [Movie]|      A Few Good Men|In the heart of t...|           1992|        [Man in Bar]|\n",
       "+--------+----------+-----------+---------------+------------------+-----------+-----------+---------------+--------------------+--------------------+---------------+--------------------+\n",
       "only showing top 20 rows"
      ]
     },
     "execution_count": 15,
     "metadata": {},
     "output_type": "execute_result"
    }
   ],
   "source": [
    "actedin_df"
   ]
  },
  {
   "cell_type": "markdown",
   "metadata": {
    "id": "Viop-9_thCbF"
   },
   "source": [
    "### Exercise\n",
    "\n",
    "Read all the `DIRECTED` relationships"
   ]
  },
  {
   "cell_type": "code",
   "execution_count": 16,
   "metadata": {
    "id": "j0tTsk59hhLh"
   },
   "outputs": [
    {
     "name": "stderr",
     "output_type": "stream",
     "text": [
      "25/03/04 15:28:05 WARN SchemaService: Switching to query schema resolution\n",
      "25/03/04 15:28:05 WARN SchemaService: Switching to query schema resolution\n",
      "25/03/04 15:28:05 WARN SchemaService: Switching to query schema resolution\n"
     ]
    }
   ],
   "source": [
    "directed_df = (spark.read\n",
    "            .format('org.neo4j.spark.DataSource')\n",
    "            .option('relationship', 'DIRECTED')\n",
    "            .option('relationship.source.labels', ':Person')\n",
    "            .option('relationship.target.labels', ':Movie')\n",
    "            .load())"
   ]
  },
  {
   "cell_type": "markdown",
   "metadata": {
    "id": "VQYyYSMpj2lf"
   },
   "source": [
    "<details>\n",
    "<summary>\n",
    "Show a possible solution\n",
    "</summary>\n",
    "\n",
    "```python\n",
    "directed_df = (spark.read\n",
    "            .format('org.neo4j.spark.DataSource')\n",
    "            .option('relationship', 'DIRECTED')\n",
    "            .option('relationship.source.labels', ':Person')\n",
    "            .option('relationship.target.labels', ':Movie')\n",
    "            .load())\n",
    "```\n",
    "\n",
    "</details>"
   ]
  },
  {
   "cell_type": "code",
   "execution_count": 17,
   "metadata": {
    "id": "HRwaJ8PvhudP"
   },
   "outputs": [
    {
     "ename": "AssertionError",
     "evalue": "",
     "output_type": "error",
     "traceback": [
      "\u001b[0;31m---------------------------------------------------------------------------\u001b[0m",
      "\u001b[0;31mAssertionError\u001b[0m                            Traceback (most recent call last)",
      "Cell \u001b[0;32mIn[17], line 7\u001b[0m\n\u001b[1;32m      1\u001b[0m \u001b[38;5;124;03m\"\"\"\u001b[39;00m\n\u001b[1;32m      2\u001b[0m \u001b[38;5;124;03m This paragraph is for validating the code the you\u001b[39;00m\n\u001b[1;32m      3\u001b[0m \u001b[38;5;124;03m wrote above, please execute it after you\u001b[39;00m\n\u001b[1;32m      4\u001b[0m \u001b[38;5;124;03m created the directed_df\u001b[39;00m\n\u001b[1;32m      5\u001b[0m \u001b[38;5;124;03m\"\"\"\u001b[39;00m\n\u001b[0;32m----> 7\u001b[0m \u001b[38;5;28;01massert\u001b[39;00m directed_df\u001b[38;5;241m.\u001b[39mcount() \u001b[38;5;241m==\u001b[39m \u001b[38;5;241m44\u001b[39m\n\u001b[1;32m      8\u001b[0m \u001b[38;5;28;01massert\u001b[39;00m directed_df\u001b[38;5;241m.\u001b[39mschema\u001b[38;5;241m.\u001b[39mfieldNames() \u001b[38;5;241m==\u001b[39m [\u001b[38;5;124m'\u001b[39m\u001b[38;5;124m<rel.id>\u001b[39m\u001b[38;5;124m'\u001b[39m,\n\u001b[1;32m      9\u001b[0m  \u001b[38;5;124m'\u001b[39m\u001b[38;5;124m<rel.type>\u001b[39m\u001b[38;5;124m'\u001b[39m,\n\u001b[1;32m     10\u001b[0m  \u001b[38;5;124m'\u001b[39m\u001b[38;5;124m<source.id>\u001b[39m\u001b[38;5;124m'\u001b[39m,\n\u001b[0;32m   (...)\u001b[0m\n\u001b[1;32m     17\u001b[0m  \u001b[38;5;124m'\u001b[39m\u001b[38;5;124mtarget.tagline\u001b[39m\u001b[38;5;124m'\u001b[39m,\n\u001b[1;32m     18\u001b[0m  \u001b[38;5;124m'\u001b[39m\u001b[38;5;124mtarget.released\u001b[39m\u001b[38;5;124m'\u001b[39m]\n\u001b[1;32m     19\u001b[0m \u001b[38;5;28;01massert\u001b[39;00m directed_df\u001b[38;5;241m.\u001b[39mcollect()[\u001b[38;5;241m0\u001b[39m][\u001b[38;5;124m\"\u001b[39m\u001b[38;5;124m<rel.type>\u001b[39m\u001b[38;5;124m\"\u001b[39m] \u001b[38;5;241m==\u001b[39m \u001b[38;5;124m'\u001b[39m\u001b[38;5;124mDIRECTED\u001b[39m\u001b[38;5;124m'\u001b[39m\n",
      "\u001b[0;31mAssertionError\u001b[0m: "
     ]
    }
   ],
   "source": [
    "\"\"\"\n",
    " This paragraph is for validating the code the you\n",
    " wrote above, please execute it after you\n",
    " created the directed_df\n",
    "\"\"\"\n",
    "\n",
    "assert directed_df.count() == 44\n",
    "assert directed_df.schema.fieldNames() == ['<rel.id>',\n",
    " '<rel.type>',\n",
    " '<source.id>',\n",
    " '<source.labels>',\n",
    " 'source.name',\n",
    " 'source.born',\n",
    " '<target.id>',\n",
    " '<target.labels>',\n",
    " 'target.title',\n",
    " 'target.tagline',\n",
    " 'target.released']\n",
    "assert directed_df.collect()[0][\"<rel.type>\"] == 'DIRECTED'\n",
    "print(\"All assertion are successfuly satisfied. Congrats you created your first relationship DataFrame\")"
   ]
  },
  {
   "cell_type": "markdown",
   "metadata": {
    "id": "hCpzW904dS2r"
   },
   "source": [
    "## Read arbitrary data via Cypher query"
   ]
  },
  {
   "cell_type": "code",
   "execution_count": 18,
   "metadata": {
    "id": "hplBy0b_dhnb"
   },
   "outputs": [],
   "source": [
    "cypher_df = (spark.read\n",
    "            .format('org.neo4j.spark.DataSource')\n",
    "            .option('query', '''\n",
    "              // Extend Tom Hanks co-actors, to find co-co-actors who haven't worked with Tom Hanks\n",
    "              MATCH (tom:Person {name:\"Tom Hanks\"})-[:ACTED_IN]->(m)<-[:ACTED_IN]-(coActors),\n",
    "                (coActors)-[:ACTED_IN]->(m2)<-[:ACTED_IN]-(cocoActors)\n",
    "              WHERE NOT (tom)-[:ACTED_IN]->()<-[:ACTED_IN]-(cocoActors)\n",
    "                AND tom <> cocoActors\n",
    "              RETURN cocoActors.name AS Recommended, count(*) AS Strength\n",
    "              ORDER BY Strength DESC\n",
    "            ''')\n",
    "            .load())"
   ]
  },
  {
   "cell_type": "markdown",
   "metadata": {
    "id": "tRZPA6xWeSCT"
   },
   "source": [
    "### Schema description"
   ]
  },
  {
   "cell_type": "code",
   "execution_count": 19,
   "metadata": {
    "id": "hU-JfgNNeL5f"
   },
   "outputs": [
    {
     "name": "stdout",
     "output_type": "stream",
     "text": [
      "root\n",
      " |-- Recommended: string (nullable = true)\n",
      " |-- Strength: long (nullable = true)\n",
      "\n"
     ]
    }
   ],
   "source": [
    "cypher_df.printSchema()"
   ]
  },
  {
   "cell_type": "code",
   "execution_count": 20,
   "metadata": {
    "id": "8IcUQsileXQ7"
   },
   "outputs": [
    {
     "name": "stderr",
     "output_type": "stream",
     "text": [
      "                                                                                \r"
     ]
    },
    {
     "data": {
      "text/html": [
       "<table border='1'>\n",
       "<tr><th>Recommended</th><th>Strength</th></tr>\n",
       "<tr><td>Tom Cruise</td><td>10</td></tr>\n",
       "<tr><td>Zach Grenier</td><td>10</td></tr>\n",
       "<tr><td>Cuba Gooding Jr.</td><td>8</td></tr>\n",
       "<tr><td>Keanu Reeves</td><td>8</td></tr>\n",
       "<tr><td>Billy Crystal</td><td>6</td></tr>\n",
       "<tr><td>Carrie Fisher</td><td>6</td></tr>\n",
       "<tr><td>Anthony Edwards</td><td>6</td></tr>\n",
       "<tr><td>Bruno Kirby</td><td>6</td></tr>\n",
       "<tr><td>Laurence Fishburne</td><td>6</td></tr>\n",
       "<tr><td>Carrie-Anne Moss</td><td>6</td></tr>\n",
       "<tr><td>Val Kilmer</td><td>6</td></tr>\n",
       "<tr><td>Jack Nicholson</td><td>6</td></tr>\n",
       "<tr><td>Kelly McGillis</td><td>6</td></tr>\n",
       "<tr><td>Tom Skerritt</td><td>6</td></tr>\n",
       "<tr><td>Oliver Platt</td><td>4</td></tr>\n",
       "<tr><td>Frank Langella</td><td>4</td></tr>\n",
       "<tr><td>Michael Sheen</td><td>4</td></tr>\n",
       "<tr><td>Aaron Sorkin</td><td>2</td></tr>\n",
       "<tr><td>Demi Moore</td><td>2</td></tr>\n",
       "<tr><td>J.T. Walsh</td><td>2</td></tr>\n",
       "</table>\n",
       "only showing top 20 rows\n"
      ],
      "text/plain": [
       "+------------------+--------+\n",
       "|       Recommended|Strength|\n",
       "+------------------+--------+\n",
       "|        Tom Cruise|      10|\n",
       "|      Zach Grenier|      10|\n",
       "|  Cuba Gooding Jr.|       8|\n",
       "|      Keanu Reeves|       8|\n",
       "|     Billy Crystal|       6|\n",
       "|     Carrie Fisher|       6|\n",
       "|   Anthony Edwards|       6|\n",
       "|       Bruno Kirby|       6|\n",
       "|Laurence Fishburne|       6|\n",
       "|  Carrie-Anne Moss|       6|\n",
       "|        Val Kilmer|       6|\n",
       "|    Jack Nicholson|       6|\n",
       "|    Kelly McGillis|       6|\n",
       "|      Tom Skerritt|       6|\n",
       "|      Oliver Platt|       4|\n",
       "|    Frank Langella|       4|\n",
       "|     Michael Sheen|       4|\n",
       "|      Aaron Sorkin|       2|\n",
       "|        Demi Moore|       2|\n",
       "|        J.T. Walsh|       2|\n",
       "+------------------+--------+\n",
       "only showing top 20 rows"
      ]
     },
     "execution_count": 20,
     "metadata": {},
     "output_type": "execute_result"
    }
   ],
   "source": [
    "cypher_df"
   ]
  },
  {
   "cell_type": "code",
   "execution_count": null,
   "metadata": {
    "id": "CWtNAeoN4O6S"
   },
   "outputs": [
    {
     "ename": "AuthError",
     "evalue": "{code: Neo.ClientError.Security.Unauthorized} {message: Unsupported authentication token, missing key `scheme`}",
     "output_type": "error",
     "traceback": [
      "\u001b[0;31m---------------------------------------------------------------------------\u001b[0m",
      "\u001b[0;31mAuthError\u001b[0m                                 Traceback (most recent call last)",
      "Cell \u001b[0;32mIn[21], line 1\u001b[0m\n\u001b[0;32m----> 1\u001b[0m \u001b[43mget_ipython\u001b[49m\u001b[43m(\u001b[49m\u001b[43m)\u001b[49m\u001b[38;5;241;43m.\u001b[39;49m\u001b[43mrun_cell_magic\u001b[49m\u001b[43m(\u001b[49m\u001b[38;5;124;43m'\u001b[39;49m\u001b[38;5;124;43mcypher\u001b[39;49m\u001b[38;5;124;43m'\u001b[39;49m\u001b[43m,\u001b[49m\u001b[43m \u001b[49m\u001b[38;5;124;43m'\u001b[39;49m\u001b[38;5;124;43m'\u001b[39;49m\u001b[43m,\u001b[49m\u001b[43m \u001b[49m\u001b[38;5;124;43m'\u001b[39;49m\u001b[38;5;124;43m// Just for debugging purposes let\u001b[39;49m\u001b[38;5;130;43;01m\\'\u001b[39;49;00m\u001b[38;5;124;43ms check the same query directly from the database\u001b[39;49m\u001b[38;5;130;43;01m\\n\u001b[39;49;00m\u001b[38;5;124;43mMATCH (tom:Person \u001b[39;49m\u001b[38;5;124;43m{\u001b[39;49m\u001b[38;5;124;43mname:\u001b[39;49m\u001b[38;5;124;43m\"\u001b[39;49m\u001b[38;5;124;43mTom Hanks\u001b[39;49m\u001b[38;5;124;43m\"\u001b[39;49m\u001b[38;5;124;43m})-[:ACTED_IN]->(m)<-[:ACTED_IN]-(coActors),\u001b[39;49m\u001b[38;5;130;43;01m\\n\u001b[39;49;00m\u001b[38;5;124;43m  (coActors)-[:ACTED_IN]->(m2)<-[:ACTED_IN]-(cocoActors)\u001b[39;49m\u001b[38;5;130;43;01m\\n\u001b[39;49;00m\u001b[38;5;124;43mWHERE NOT (tom)-[:ACTED_IN]->()<-[:ACTED_IN]-(cocoActors)\u001b[39;49m\u001b[38;5;130;43;01m\\n\u001b[39;49;00m\u001b[38;5;124;43m  AND tom <> cocoActors\u001b[39;49m\u001b[38;5;130;43;01m\\n\u001b[39;49;00m\u001b[38;5;124;43mRETURN cocoActors.name AS Recommended, count(*) AS Strength\u001b[39;49m\u001b[38;5;130;43;01m\\n\u001b[39;49;00m\u001b[38;5;124;43mORDER BY Strength DESC\u001b[39;49m\u001b[38;5;130;43;01m\\n\u001b[39;49;00m\u001b[38;5;124;43mLIMIT 20\u001b[39;49m\u001b[38;5;130;43;01m\\n\u001b[39;49;00m\u001b[38;5;124;43m'\u001b[39;49m\u001b[43m)\u001b[49m\n",
      "File \u001b[0;32m/opt/conda/lib/python3.12/site-packages/IPython/core/interactiveshell.py:2541\u001b[0m, in \u001b[0;36mInteractiveShell.run_cell_magic\u001b[0;34m(self, magic_name, line, cell)\u001b[0m\n\u001b[1;32m   2539\u001b[0m \u001b[38;5;28;01mwith\u001b[39;00m \u001b[38;5;28mself\u001b[39m\u001b[38;5;241m.\u001b[39mbuiltin_trap:\n\u001b[1;32m   2540\u001b[0m     args \u001b[38;5;241m=\u001b[39m (magic_arg_s, cell)\n\u001b[0;32m-> 2541\u001b[0m     result \u001b[38;5;241m=\u001b[39m \u001b[43mfn\u001b[49m\u001b[43m(\u001b[49m\u001b[38;5;241;43m*\u001b[39;49m\u001b[43margs\u001b[49m\u001b[43m,\u001b[49m\u001b[43m \u001b[49m\u001b[38;5;241;43m*\u001b[39;49m\u001b[38;5;241;43m*\u001b[39;49m\u001b[43mkwargs\u001b[49m\u001b[43m)\u001b[49m\n\u001b[1;32m   2543\u001b[0m \u001b[38;5;66;03m# The code below prevents the output from being displayed\u001b[39;00m\n\u001b[1;32m   2544\u001b[0m \u001b[38;5;66;03m# when using magics with decorator @output_can_be_silenced\u001b[39;00m\n\u001b[1;32m   2545\u001b[0m \u001b[38;5;66;03m# when the last Python token in the expression is a ';'.\u001b[39;00m\n\u001b[1;32m   2546\u001b[0m \u001b[38;5;28;01mif\u001b[39;00m \u001b[38;5;28mgetattr\u001b[39m(fn, magic\u001b[38;5;241m.\u001b[39mMAGIC_OUTPUT_CAN_BE_SILENCED, \u001b[38;5;28;01mFalse\u001b[39;00m):\n",
      "File \u001b[0;32m/opt/conda/lib/python3.12/site-packages/cy2py/cy2.py:197\u001b[0m, in \u001b[0;36mCy2Py.cypher\u001b[0;34m(self, line, cell, local_ns)\u001b[0m\n\u001b[1;32m    194\u001b[0m \u001b[38;5;28;01mif\u001b[39;00m uri \u001b[38;5;129;01mnot\u001b[39;00m \u001b[38;5;129;01min\u001b[39;00m \u001b[38;5;28mself\u001b[39m\u001b[38;5;241m.\u001b[39mcypher_connections:\n\u001b[1;32m    195\u001b[0m     \u001b[38;5;28mself\u001b[39m\u001b[38;5;241m.\u001b[39mcypher_connections[uri] \u001b[38;5;241m=\u001b[39m GraphDatabase\u001b[38;5;241m.\u001b[39mdriver(uri, auth\u001b[38;5;241m=\u001b[39mauth)\n\u001b[0;32m--> 197\u001b[0m \u001b[38;5;28;01mreturn\u001b[39;00m \u001b[43mrun_query\u001b[49m\u001b[43m(\u001b[49m\u001b[38;5;28;43mself\u001b[39;49m\u001b[38;5;241;43m.\u001b[39;49m\u001b[43mcypher_connections\u001b[49m\u001b[43m[\u001b[49m\u001b[43muri\u001b[49m\u001b[43m]\u001b[49m\u001b[43m,\u001b[49m\u001b[43m \u001b[49m\u001b[43mcell\u001b[49m\u001b[43m,\u001b[49m\u001b[43m \u001b[49m\u001b[38;5;28;43mself\u001b[39;49m\u001b[38;5;241;43m.\u001b[39;49m\u001b[43mconfig_cache\u001b[49m\u001b[43m[\u001b[49m\u001b[43malias\u001b[49m\u001b[43m]\u001b[49m\u001b[43m,\u001b[49m\u001b[43m \u001b[49m\u001b[43mis_inline\u001b[49m\u001b[43m,\u001b[49m\u001b[43m \u001b[49m\u001b[43margs\u001b[49m\u001b[38;5;241;43m.\u001b[39;49m\u001b[43mparams\u001b[49m\u001b[43m)\u001b[49m\n",
      "File \u001b[0;32m/opt/conda/lib/python3.12/site-packages/cy2py/utils.py:114\u001b[0m, in \u001b[0;36mrun_query\u001b[0;34m(driver, query, cfg, is_inline, params)\u001b[0m\n\u001b[1;32m    112\u001b[0m     sub_query \u001b[38;5;241m=\u001b[39m sub_query\u001b[38;5;241m.\u001b[39mstrip()\n\u001b[1;32m    113\u001b[0m     \u001b[38;5;28;01mif\u001b[39;00m sub_query \u001b[38;5;241m!=\u001b[39m \u001b[38;5;124m'\u001b[39m\u001b[38;5;124m'\u001b[39m:\n\u001b[0;32m--> 114\u001b[0m         result \u001b[38;5;241m=\u001b[39m session\u001b[38;5;241m.\u001b[39mrun(sub_query, \u001b[38;5;241m*\u001b[39m\u001b[38;5;241m*\u001b[39mparams) \u001b[38;5;28;01mif\u001b[39;00m params \u001b[38;5;28;01melse\u001b[39;00m \u001b[43msession\u001b[49m\u001b[38;5;241;43m.\u001b[39;49m\u001b[43mrun\u001b[49m\u001b[43m(\u001b[49m\u001b[43msub_query\u001b[49m\u001b[43m)\u001b[49m\n\u001b[1;32m    116\u001b[0m graph \u001b[38;5;241m=\u001b[39m result\u001b[38;5;241m.\u001b[39mgraph()\n\u001b[1;32m    117\u001b[0m \u001b[38;5;28;01mif\u001b[39;00m \u001b[38;5;28mlen\u001b[39m(graph\u001b[38;5;241m.\u001b[39m_nodes) \u001b[38;5;241m>\u001b[39m \u001b[38;5;241m0\u001b[39m:\n",
      "File \u001b[0;32m/opt/conda/lib/python3.12/site-packages/neo4j/_sync/work/session.py:313\u001b[0m, in \u001b[0;36mSession.run\u001b[0;34m(self, query, parameters, **kwargs)\u001b[0m\n\u001b[1;32m    310\u001b[0m     \u001b[38;5;28mself\u001b[39m\u001b[38;5;241m.\u001b[39m_auto_result\u001b[38;5;241m.\u001b[39m_buffer_all()\n\u001b[1;32m    312\u001b[0m \u001b[38;5;28;01mif\u001b[39;00m \u001b[38;5;129;01mnot\u001b[39;00m \u001b[38;5;28mself\u001b[39m\u001b[38;5;241m.\u001b[39m_connection:\n\u001b[0;32m--> 313\u001b[0m     \u001b[38;5;28;43mself\u001b[39;49m\u001b[38;5;241;43m.\u001b[39;49m\u001b[43m_connect\u001b[49m\u001b[43m(\u001b[49m\u001b[38;5;28;43mself\u001b[39;49m\u001b[38;5;241;43m.\u001b[39;49m\u001b[43m_config\u001b[49m\u001b[38;5;241;43m.\u001b[39;49m\u001b[43mdefault_access_mode\u001b[49m\u001b[43m)\u001b[49m\n\u001b[1;32m    314\u001b[0m     \u001b[38;5;28;01massert\u001b[39;00m \u001b[38;5;28mself\u001b[39m\u001b[38;5;241m.\u001b[39m_connection \u001b[38;5;129;01mis\u001b[39;00m \u001b[38;5;129;01mnot\u001b[39;00m \u001b[38;5;28;01mNone\u001b[39;00m\n\u001b[1;32m    315\u001b[0m cx \u001b[38;5;241m=\u001b[39m \u001b[38;5;28mself\u001b[39m\u001b[38;5;241m.\u001b[39m_connection\n",
      "File \u001b[0;32m/opt/conda/lib/python3.12/site-packages/neo4j/_sync/work/session.py:136\u001b[0m, in \u001b[0;36mSession._connect\u001b[0;34m(self, access_mode, **acquire_kwargs)\u001b[0m\n\u001b[1;32m    134\u001b[0m     access_mode \u001b[38;5;241m=\u001b[39m \u001b[38;5;28mself\u001b[39m\u001b[38;5;241m.\u001b[39m_config\u001b[38;5;241m.\u001b[39mdefault_access_mode\n\u001b[1;32m    135\u001b[0m \u001b[38;5;28;01mtry\u001b[39;00m:\n\u001b[0;32m--> 136\u001b[0m     \u001b[38;5;28;43msuper\u001b[39;49m\u001b[43m(\u001b[49m\u001b[43m)\u001b[49m\u001b[38;5;241;43m.\u001b[39;49m\u001b[43m_connect\u001b[49m\u001b[43m(\u001b[49m\n\u001b[1;32m    137\u001b[0m \u001b[43m        \u001b[49m\u001b[43maccess_mode\u001b[49m\u001b[43m,\u001b[49m\u001b[43m \u001b[49m\u001b[43mauth\u001b[49m\u001b[38;5;241;43m=\u001b[39;49m\u001b[38;5;28;43mself\u001b[39;49m\u001b[38;5;241;43m.\u001b[39;49m\u001b[43m_config\u001b[49m\u001b[38;5;241;43m.\u001b[39;49m\u001b[43mauth\u001b[49m\u001b[43m,\u001b[49m\u001b[43m \u001b[49m\u001b[38;5;241;43m*\u001b[39;49m\u001b[38;5;241;43m*\u001b[39;49m\u001b[43macquire_kwargs\u001b[49m\n\u001b[1;32m    138\u001b[0m \u001b[43m    \u001b[49m\u001b[43m)\u001b[49m\n\u001b[1;32m    139\u001b[0m \u001b[38;5;28;01mexcept\u001b[39;00m asyncio\u001b[38;5;241m.\u001b[39mCancelledError:\n\u001b[1;32m    140\u001b[0m     \u001b[38;5;28mself\u001b[39m\u001b[38;5;241m.\u001b[39m_handle_cancellation(message\u001b[38;5;241m=\u001b[39m\u001b[38;5;124m\"\u001b[39m\u001b[38;5;124m_connect\u001b[39m\u001b[38;5;124m\"\u001b[39m)\n",
      "File \u001b[0;32m/opt/conda/lib/python3.12/site-packages/neo4j/_sync/work/workspace.py:186\u001b[0m, in \u001b[0;36mWorkspace._connect\u001b[0;34m(self, access_mode, auth, **acquire_kwargs)\u001b[0m\n\u001b[1;32m    183\u001b[0m     \u001b[38;5;28mself\u001b[39m\u001b[38;5;241m.\u001b[39m_disconnect()\n\u001b[1;32m    185\u001b[0m ssr_enabled \u001b[38;5;241m=\u001b[39m \u001b[38;5;28mself\u001b[39m\u001b[38;5;241m.\u001b[39m_pool\u001b[38;5;241m.\u001b[39mssr_enabled\n\u001b[0;32m--> 186\u001b[0m target_db \u001b[38;5;241m=\u001b[39m \u001b[38;5;28;43mself\u001b[39;49m\u001b[38;5;241;43m.\u001b[39;49m\u001b[43m_get_routing_target_database\u001b[49m\u001b[43m(\u001b[49m\n\u001b[1;32m    187\u001b[0m \u001b[43m    \u001b[49m\u001b[43macquire_auth\u001b[49m\u001b[43m,\u001b[49m\u001b[43m \u001b[49m\u001b[43mssr_enabled\u001b[49m\u001b[38;5;241;43m=\u001b[39;49m\u001b[43mssr_enabled\u001b[49m\n\u001b[1;32m    188\u001b[0m \u001b[43m\u001b[49m\u001b[43m)\u001b[49m\n\u001b[1;32m    189\u001b[0m acquire_kwargs_ \u001b[38;5;241m=\u001b[39m {\n\u001b[1;32m    190\u001b[0m     \u001b[38;5;124m\"\u001b[39m\u001b[38;5;124maccess_mode\u001b[39m\u001b[38;5;124m\"\u001b[39m: access_mode,\n\u001b[1;32m    191\u001b[0m     \u001b[38;5;124m\"\u001b[39m\u001b[38;5;124mtimeout\u001b[39m\u001b[38;5;124m\"\u001b[39m: acquisition_timeout,\n\u001b[0;32m   (...)\u001b[0m\n\u001b[1;32m    196\u001b[0m     \u001b[38;5;124m\"\u001b[39m\u001b[38;5;124mdatabase_callback\u001b[39m\u001b[38;5;124m\"\u001b[39m: \u001b[38;5;28mself\u001b[39m\u001b[38;5;241m.\u001b[39m_make_db_resolution_callback(),\n\u001b[1;32m    197\u001b[0m }\n\u001b[1;32m    198\u001b[0m acquire_kwargs_\u001b[38;5;241m.\u001b[39mupdate(acquire_kwargs)\n",
      "File \u001b[0;32m/opt/conda/lib/python3.12/site-packages/neo4j/_sync/work/workspace.py:260\u001b[0m, in \u001b[0;36mWorkspace._get_routing_target_database\u001b[0;34m(self, acquire_auth, ssr_enabled)\u001b[0m\n\u001b[1;32m    258\u001b[0m acquisition_timeout \u001b[38;5;241m=\u001b[39m \u001b[38;5;28mself\u001b[39m\u001b[38;5;241m.\u001b[39m_config\u001b[38;5;241m.\u001b[39mconnection_acquisition_timeout\n\u001b[1;32m    259\u001b[0m log\u001b[38;5;241m.\u001b[39mdebug(\u001b[38;5;124m\"\u001b[39m\u001b[38;5;124m[#0000]  _: <WORKSPACE> resolve home database\u001b[39m\u001b[38;5;124m\"\u001b[39m)\n\u001b[0;32m--> 260\u001b[0m \u001b[38;5;28;43mself\u001b[39;49m\u001b[38;5;241;43m.\u001b[39;49m\u001b[43m_pool\u001b[49m\u001b[38;5;241;43m.\u001b[39;49m\u001b[43mupdate_routing_table\u001b[49m\u001b[43m(\u001b[49m\n\u001b[1;32m    261\u001b[0m \u001b[43m    \u001b[49m\u001b[43mdatabase\u001b[49m\u001b[38;5;241;43m=\u001b[39;49m\u001b[38;5;28;43mself\u001b[39;49m\u001b[38;5;241;43m.\u001b[39;49m\u001b[43m_config\u001b[49m\u001b[38;5;241;43m.\u001b[39;49m\u001b[43mdatabase\u001b[49m\u001b[43m,\u001b[49m\n\u001b[1;32m    262\u001b[0m \u001b[43m    \u001b[49m\u001b[43mimp_user\u001b[49m\u001b[38;5;241;43m=\u001b[39;49m\u001b[38;5;28;43mself\u001b[39;49m\u001b[38;5;241;43m.\u001b[39;49m\u001b[43m_config\u001b[49m\u001b[38;5;241;43m.\u001b[39;49m\u001b[43mimpersonated_user\u001b[49m\u001b[43m,\u001b[49m\n\u001b[1;32m    263\u001b[0m \u001b[43m    \u001b[49m\u001b[43mbookmarks\u001b[49m\u001b[38;5;241;43m=\u001b[39;49m\u001b[38;5;28;43mself\u001b[39;49m\u001b[38;5;241;43m.\u001b[39;49m\u001b[43m_get_bookmarks\u001b[49m\u001b[43m(\u001b[49m\u001b[43m)\u001b[49m\u001b[43m,\u001b[49m\n\u001b[1;32m    264\u001b[0m \u001b[43m    \u001b[49m\u001b[43mauth\u001b[49m\u001b[38;5;241;43m=\u001b[39;49m\u001b[43macquire_auth\u001b[49m\u001b[43m,\u001b[49m\n\u001b[1;32m    265\u001b[0m \u001b[43m    \u001b[49m\u001b[43macquisition_timeout\u001b[49m\u001b[38;5;241;43m=\u001b[39;49m\u001b[43macquisition_timeout\u001b[49m\u001b[43m,\u001b[49m\n\u001b[1;32m    266\u001b[0m \u001b[43m    \u001b[49m\u001b[43mdatabase_callback\u001b[49m\u001b[38;5;241;43m=\u001b[39;49m\u001b[38;5;28;43mself\u001b[39;49m\u001b[38;5;241;43m.\u001b[39;49m\u001b[43m_make_db_resolution_callback\u001b[49m\u001b[43m(\u001b[49m\u001b[43m)\u001b[49m\u001b[43m,\u001b[49m\n\u001b[1;32m    267\u001b[0m \u001b[43m\u001b[49m\u001b[43m)\u001b[49m\n\u001b[1;32m    268\u001b[0m \u001b[38;5;28;01mreturn\u001b[39;00m AcquisitionDatabase(\u001b[38;5;28mself\u001b[39m\u001b[38;5;241m.\u001b[39m_config\u001b[38;5;241m.\u001b[39mdatabase)\n",
      "File \u001b[0;32m/opt/conda/lib/python3.12/site-packages/neo4j/_sync/io/_pool.py:971\u001b[0m, in \u001b[0;36mNeo4jPool.update_routing_table\u001b[0;34m(self, database, imp_user, bookmarks, auth, acquisition_timeout, database_callback)\u001b[0m\n\u001b[1;32m    964\u001b[0m     existing_routers \u001b[38;5;241m=\u001b[39m {\u001b[38;5;28mself\u001b[39m\u001b[38;5;241m.\u001b[39maddress}\n\u001b[1;32m    965\u001b[0m     prefer_initial_routing_address \u001b[38;5;241m=\u001b[39m \u001b[38;5;28;01mTrue\u001b[39;00m\n\u001b[1;32m    967\u001b[0m \u001b[38;5;28;01mif\u001b[39;00m (\n\u001b[1;32m    968\u001b[0m     prefer_initial_routing_address\n\u001b[1;32m    969\u001b[0m     \u001b[38;5;129;01mand\u001b[39;00m\n\u001b[1;32m    970\u001b[0m     \u001b[38;5;66;03m# TODO: Test this state\u001b[39;00m\n\u001b[0;32m--> 971\u001b[0m     \u001b[38;5;28;43mself\u001b[39;49m\u001b[38;5;241;43m.\u001b[39;49m\u001b[43m_update_routing_table_from\u001b[49m\u001b[43m(\u001b[49m\n\u001b[1;32m    972\u001b[0m \u001b[43m        \u001b[49m\u001b[38;5;28;43mself\u001b[39;49m\u001b[38;5;241;43m.\u001b[39;49m\u001b[43maddress\u001b[49m\u001b[43m,\u001b[49m\n\u001b[1;32m    973\u001b[0m \u001b[43m        \u001b[49m\u001b[43mdatabase\u001b[49m\u001b[38;5;241;43m=\u001b[39;49m\u001b[43mdatabase\u001b[49m\u001b[43m,\u001b[49m\n\u001b[1;32m    974\u001b[0m \u001b[43m        \u001b[49m\u001b[43mimp_user\u001b[49m\u001b[38;5;241;43m=\u001b[39;49m\u001b[43mimp_user\u001b[49m\u001b[43m,\u001b[49m\n\u001b[1;32m    975\u001b[0m \u001b[43m        \u001b[49m\u001b[43mbookmarks\u001b[49m\u001b[38;5;241;43m=\u001b[39;49m\u001b[43mbookmarks\u001b[49m\u001b[43m,\u001b[49m\n\u001b[1;32m    976\u001b[0m \u001b[43m        \u001b[49m\u001b[43mauth\u001b[49m\u001b[38;5;241;43m=\u001b[39;49m\u001b[43mauth\u001b[49m\u001b[43m,\u001b[49m\n\u001b[1;32m    977\u001b[0m \u001b[43m        \u001b[49m\u001b[43macquisition_timeout\u001b[49m\u001b[38;5;241;43m=\u001b[39;49m\u001b[43macquisition_timeout\u001b[49m\u001b[43m,\u001b[49m\n\u001b[1;32m    978\u001b[0m \u001b[43m        \u001b[49m\u001b[43mdatabase_callback\u001b[49m\u001b[38;5;241;43m=\u001b[39;49m\u001b[43mdatabase_callback\u001b[49m\u001b[43m,\u001b[49m\n\u001b[1;32m    979\u001b[0m \u001b[43m    \u001b[49m\u001b[43m)\u001b[49m\n\u001b[1;32m    980\u001b[0m ):\n\u001b[1;32m    981\u001b[0m     \u001b[38;5;66;03m# Why is only the first initial routing address used?\u001b[39;00m\n\u001b[1;32m    982\u001b[0m     \u001b[38;5;28;01mreturn\u001b[39;00m\n\u001b[1;32m    983\u001b[0m \u001b[38;5;28;01mif\u001b[39;00m \u001b[38;5;28mself\u001b[39m\u001b[38;5;241m.\u001b[39m_update_routing_table_from(\n\u001b[1;32m    984\u001b[0m     \u001b[38;5;241m*\u001b[39m(existing_routers \u001b[38;5;241m-\u001b[39m {\u001b[38;5;28mself\u001b[39m\u001b[38;5;241m.\u001b[39maddress}),\n\u001b[1;32m    985\u001b[0m     database\u001b[38;5;241m=\u001b[39mdatabase,\n\u001b[0;32m   (...)\u001b[0m\n\u001b[1;32m    990\u001b[0m     database_callback\u001b[38;5;241m=\u001b[39mdatabase_callback,\n\u001b[1;32m    991\u001b[0m ):\n",
      "File \u001b[0;32m/opt/conda/lib/python3.12/site-packages/neo4j/_sync/io/_pool.py:902\u001b[0m, in \u001b[0;36mNeo4jPool._update_routing_table_from\u001b[0;34m(self, database, imp_user, bookmarks, auth, acquisition_timeout, database_callback, *routers)\u001b[0m\n\u001b[1;32m    898\u001b[0m \u001b[38;5;28;01mfor\u001b[39;00m router \u001b[38;5;129;01min\u001b[39;00m routers:\n\u001b[1;32m    899\u001b[0m     \u001b[38;5;28;01mfor\u001b[39;00m address \u001b[38;5;129;01min\u001b[39;00m NetworkUtil\u001b[38;5;241m.\u001b[39mresolve_address(\n\u001b[1;32m    900\u001b[0m         router, resolver\u001b[38;5;241m=\u001b[39m\u001b[38;5;28mself\u001b[39m\u001b[38;5;241m.\u001b[39mpool_config\u001b[38;5;241m.\u001b[39mresolver\n\u001b[1;32m    901\u001b[0m     ):\n\u001b[0;32m--> 902\u001b[0m         new_routing_table \u001b[38;5;241m=\u001b[39m \u001b[38;5;28;43mself\u001b[39;49m\u001b[38;5;241;43m.\u001b[39;49m\u001b[43mfetch_routing_table\u001b[49m\u001b[43m(\u001b[49m\n\u001b[1;32m    903\u001b[0m \u001b[43m            \u001b[49m\u001b[43maddress\u001b[49m\u001b[38;5;241;43m=\u001b[39;49m\u001b[43maddress\u001b[49m\u001b[43m,\u001b[49m\n\u001b[1;32m    904\u001b[0m \u001b[43m            \u001b[49m\u001b[43macquisition_timeout\u001b[49m\u001b[38;5;241;43m=\u001b[39;49m\u001b[43macquisition_timeout\u001b[49m\u001b[43m,\u001b[49m\n\u001b[1;32m    905\u001b[0m \u001b[43m            \u001b[49m\u001b[43mdatabase\u001b[49m\u001b[38;5;241;43m=\u001b[39;49m\u001b[43mdatabase\u001b[49m\u001b[43m,\u001b[49m\n\u001b[1;32m    906\u001b[0m \u001b[43m            \u001b[49m\u001b[43mimp_user\u001b[49m\u001b[38;5;241;43m=\u001b[39;49m\u001b[43mimp_user\u001b[49m\u001b[43m,\u001b[49m\n\u001b[1;32m    907\u001b[0m \u001b[43m            \u001b[49m\u001b[43mbookmarks\u001b[49m\u001b[38;5;241;43m=\u001b[39;49m\u001b[43mbookmarks\u001b[49m\u001b[43m,\u001b[49m\n\u001b[1;32m    908\u001b[0m \u001b[43m            \u001b[49m\u001b[43mauth\u001b[49m\u001b[38;5;241;43m=\u001b[39;49m\u001b[43mauth\u001b[49m\u001b[43m,\u001b[49m\n\u001b[1;32m    909\u001b[0m \u001b[43m        \u001b[49m\u001b[43m)\u001b[49m\n\u001b[1;32m    910\u001b[0m         \u001b[38;5;28;01mif\u001b[39;00m new_routing_table \u001b[38;5;129;01mis\u001b[39;00m \u001b[38;5;129;01mnot\u001b[39;00m \u001b[38;5;28;01mNone\u001b[39;00m:\n\u001b[1;32m    911\u001b[0m             new_database \u001b[38;5;241m=\u001b[39m new_routing_table\u001b[38;5;241m.\u001b[39mdatabase\n",
      "File \u001b[0;32m/opt/conda/lib/python3.12/site-packages/neo4j/_sync/io/_pool.py:815\u001b[0m, in \u001b[0;36mNeo4jPool.fetch_routing_table\u001b[0;34m(self, address, acquisition_timeout, database, imp_user, bookmarks, auth)\u001b[0m\n\u001b[1;32m    813\u001b[0m new_routing_info \u001b[38;5;241m=\u001b[39m \u001b[38;5;28;01mNone\u001b[39;00m\n\u001b[1;32m    814\u001b[0m \u001b[38;5;28;01mtry\u001b[39;00m:\n\u001b[0;32m--> 815\u001b[0m     new_routing_info \u001b[38;5;241m=\u001b[39m \u001b[38;5;28;43mself\u001b[39;49m\u001b[38;5;241;43m.\u001b[39;49m\u001b[43mfetch_routing_info\u001b[49m\u001b[43m(\u001b[49m\n\u001b[1;32m    816\u001b[0m \u001b[43m        \u001b[49m\u001b[43maddress\u001b[49m\u001b[43m,\u001b[49m\n\u001b[1;32m    817\u001b[0m \u001b[43m        \u001b[49m\u001b[43mdatabase\u001b[49m\u001b[43m,\u001b[49m\n\u001b[1;32m    818\u001b[0m \u001b[43m        \u001b[49m\u001b[43mimp_user\u001b[49m\u001b[43m,\u001b[49m\n\u001b[1;32m    819\u001b[0m \u001b[43m        \u001b[49m\u001b[43mbookmarks\u001b[49m\u001b[43m,\u001b[49m\n\u001b[1;32m    820\u001b[0m \u001b[43m        \u001b[49m\u001b[43mauth\u001b[49m\u001b[43m,\u001b[49m\n\u001b[1;32m    821\u001b[0m \u001b[43m        \u001b[49m\u001b[43macquisition_timeout\u001b[49m\u001b[43m,\u001b[49m\n\u001b[1;32m    822\u001b[0m \u001b[43m    \u001b[49m\u001b[43m)\u001b[49m\n\u001b[1;32m    823\u001b[0m \u001b[38;5;28;01mexcept\u001b[39;00m Neo4jError \u001b[38;5;28;01mas\u001b[39;00m e:\n\u001b[1;32m    824\u001b[0m     \u001b[38;5;66;03m# checks if the code is an error that is caused by the client. In\u001b[39;00m\n\u001b[1;32m    825\u001b[0m     \u001b[38;5;66;03m# this case there is no sense in trying to fetch a RT from another\u001b[39;00m\n\u001b[1;32m    826\u001b[0m     \u001b[38;5;66;03m# router. Hence, the driver should fail fast during discovery.\u001b[39;00m\n\u001b[1;32m    827\u001b[0m     \u001b[38;5;28;01mif\u001b[39;00m e\u001b[38;5;241m.\u001b[39m_is_fatal_during_discovery():\n",
      "File \u001b[0;32m/opt/conda/lib/python3.12/site-packages/neo4j/_sync/io/_pool.py:776\u001b[0m, in \u001b[0;36mNeo4jPool.fetch_routing_info\u001b[0;34m(self, address, database, imp_user, bookmarks, auth, acquisition_timeout)\u001b[0m\n\u001b[1;32m    774\u001b[0m     auth \u001b[38;5;241m=\u001b[39m copy(auth)\n\u001b[1;32m    775\u001b[0m     auth\u001b[38;5;241m.\u001b[39mforce_auth \u001b[38;5;241m=\u001b[39m \u001b[38;5;28;01mFalse\u001b[39;00m\n\u001b[0;32m--> 776\u001b[0m cx \u001b[38;5;241m=\u001b[39m \u001b[38;5;28;43mself\u001b[39;49m\u001b[38;5;241;43m.\u001b[39;49m\u001b[43m_acquire\u001b[49m\u001b[43m(\u001b[49m\u001b[43maddress\u001b[49m\u001b[43m,\u001b[49m\u001b[43m \u001b[49m\u001b[43mauth\u001b[49m\u001b[43m,\u001b[49m\u001b[43m \u001b[49m\u001b[43mdeadline\u001b[49m\u001b[43m,\u001b[49m\u001b[43m \u001b[49m\u001b[38;5;28;43;01mNone\u001b[39;49;00m\u001b[43m)\u001b[49m\n\u001b[1;32m    777\u001b[0m \u001b[38;5;28;01mtry\u001b[39;00m:\n\u001b[1;32m    778\u001b[0m     routing_table \u001b[38;5;241m=\u001b[39m cx\u001b[38;5;241m.\u001b[39mroute(\n\u001b[1;32m    779\u001b[0m         database\u001b[38;5;241m=\u001b[39mdatabase \u001b[38;5;129;01mor\u001b[39;00m \u001b[38;5;28mself\u001b[39m\u001b[38;5;241m.\u001b[39mworkspace_config\u001b[38;5;241m.\u001b[39mdatabase,\n\u001b[1;32m    780\u001b[0m         imp_user\u001b[38;5;241m=\u001b[39mimp_user \u001b[38;5;129;01mor\u001b[39;00m \u001b[38;5;28mself\u001b[39m\u001b[38;5;241m.\u001b[39mworkspace_config\u001b[38;5;241m.\u001b[39mimpersonated_user,\n\u001b[1;32m    781\u001b[0m         bookmarks\u001b[38;5;241m=\u001b[39mbookmarks,\n\u001b[1;32m    782\u001b[0m     )\n",
      "File \u001b[0;32m/opt/conda/lib/python3.12/site-packages/neo4j/_sync/io/_pool.py:408\u001b[0m, in \u001b[0;36mIOPool._acquire\u001b[0;34m(self, address, auth, deadline, liveness_check_timeout)\u001b[0m\n\u001b[1;32m    403\u001b[0m             \u001b[38;5;28;01mraise\u001b[39;00m ClientError(\n\u001b[1;32m    404\u001b[0m                 \u001b[38;5;124m\"\u001b[39m\u001b[38;5;124mfailed to obtain a connection from the pool within \u001b[39m\u001b[38;5;124m\"\u001b[39m\n\u001b[1;32m    405\u001b[0m                 \u001b[38;5;124mf\u001b[39m\u001b[38;5;124m\"\u001b[39m\u001b[38;5;132;01m{\u001b[39;00mdeadline\u001b[38;5;241m.\u001b[39moriginal_timeout\u001b[38;5;132;01m!r}\u001b[39;00m\u001b[38;5;124ms (timeout)\u001b[39m\u001b[38;5;124m\"\u001b[39m\n\u001b[1;32m    406\u001b[0m             )\n\u001b[1;32m    407\u001b[0m log\u001b[38;5;241m.\u001b[39mdebug(\u001b[38;5;124m\"\u001b[39m\u001b[38;5;124m[#0000]  _: <POOL> trying to hand out new connection\u001b[39m\u001b[38;5;124m\"\u001b[39m)\n\u001b[0;32m--> 408\u001b[0m \u001b[38;5;28;01mreturn\u001b[39;00m \u001b[43mconnection_creator\u001b[49m\u001b[43m(\u001b[49m\u001b[43m)\u001b[49m\n",
      "File \u001b[0;32m/opt/conda/lib/python3.12/site-packages/neo4j/_sync/io/_pool.py:230\u001b[0m, in \u001b[0;36mIOPool._acquire_new_later.<locals>.connection_creator\u001b[0;34m()\u001b[0m\n\u001b[1;32m    228\u001b[0m \u001b[38;5;28;01mtry\u001b[39;00m:\n\u001b[1;32m    229\u001b[0m     \u001b[38;5;28;01mtry\u001b[39;00m:\n\u001b[0;32m--> 230\u001b[0m         connection \u001b[38;5;241m=\u001b[39m \u001b[38;5;28;43mself\u001b[39;49m\u001b[38;5;241;43m.\u001b[39;49m\u001b[43mopener\u001b[49m\u001b[43m(\u001b[49m\n\u001b[1;32m    231\u001b[0m \u001b[43m            \u001b[49m\u001b[43maddress\u001b[49m\u001b[43m,\u001b[49m\u001b[43m \u001b[49m\u001b[43mauth\u001b[49m\u001b[43m \u001b[49m\u001b[38;5;129;43;01mor\u001b[39;49;00m\u001b[43m \u001b[49m\u001b[38;5;28;43mself\u001b[39;49m\u001b[38;5;241;43m.\u001b[39;49m\u001b[43mpool_config\u001b[49m\u001b[38;5;241;43m.\u001b[39;49m\u001b[43mauth\u001b[49m\u001b[43m,\u001b[49m\u001b[43m \u001b[49m\u001b[43mdeadline\u001b[49m\n\u001b[1;32m    232\u001b[0m \u001b[43m        \u001b[49m\u001b[43m)\u001b[49m\n\u001b[1;32m    233\u001b[0m     \u001b[38;5;28;01mexcept\u001b[39;00m ServiceUnavailable:\n\u001b[1;32m    234\u001b[0m         \u001b[38;5;28mself\u001b[39m\u001b[38;5;241m.\u001b[39mdeactivate(address)\n",
      "File \u001b[0;32m/opt/conda/lib/python3.12/site-packages/neo4j/_sync/io/_pool.py:695\u001b[0m, in \u001b[0;36mNeo4jPool.open.<locals>.opener\u001b[0;34m(addr, auth_manager, deadline)\u001b[0m\n\u001b[1;32m    694\u001b[0m \u001b[38;5;28;01mdef\u001b[39;00m \u001b[38;5;21mopener\u001b[39m(addr, auth_manager, deadline):\n\u001b[0;32m--> 695\u001b[0m     \u001b[38;5;28;01mreturn\u001b[39;00m \u001b[43mBolt\u001b[49m\u001b[38;5;241;43m.\u001b[39;49m\u001b[43mopen\u001b[49m\u001b[43m(\u001b[49m\n\u001b[1;32m    696\u001b[0m \u001b[43m        \u001b[49m\u001b[43maddr\u001b[49m\u001b[43m,\u001b[49m\n\u001b[1;32m    697\u001b[0m \u001b[43m        \u001b[49m\u001b[43mauth_manager\u001b[49m\u001b[38;5;241;43m=\u001b[39;49m\u001b[43mauth_manager\u001b[49m\u001b[43m,\u001b[49m\n\u001b[1;32m    698\u001b[0m \u001b[43m        \u001b[49m\u001b[43mdeadline\u001b[49m\u001b[38;5;241;43m=\u001b[39;49m\u001b[43mdeadline\u001b[49m\u001b[43m,\u001b[49m\n\u001b[1;32m    699\u001b[0m \u001b[43m        \u001b[49m\u001b[43mrouting_context\u001b[49m\u001b[38;5;241;43m=\u001b[39;49m\u001b[43mrouting_context\u001b[49m\u001b[43m,\u001b[49m\n\u001b[1;32m    700\u001b[0m \u001b[43m        \u001b[49m\u001b[43mpool_config\u001b[49m\u001b[38;5;241;43m=\u001b[39;49m\u001b[43mpool_config\u001b[49m\u001b[43m,\u001b[49m\n\u001b[1;32m    701\u001b[0m \u001b[43m    \u001b[49m\u001b[43m)\u001b[49m\n",
      "File \u001b[0;32m/opt/conda/lib/python3.12/site-packages/neo4j/_sync/io/_bolt.py:430\u001b[0m, in \u001b[0;36mBolt.open\u001b[0;34m(cls, address, auth_manager, deadline, routing_context, pool_config)\u001b[0m\n\u001b[1;32m    428\u001b[0m connection\u001b[38;5;241m.\u001b[39msocket\u001b[38;5;241m.\u001b[39mset_deadline(deadline)\n\u001b[1;32m    429\u001b[0m \u001b[38;5;28;01mtry\u001b[39;00m:\n\u001b[0;32m--> 430\u001b[0m     \u001b[43mconnection\u001b[49m\u001b[38;5;241;43m.\u001b[39;49m\u001b[43mhello\u001b[49m\u001b[43m(\u001b[49m\u001b[43m)\u001b[49m\n\u001b[1;32m    431\u001b[0m \u001b[38;5;28;01mfinally\u001b[39;00m:\n\u001b[1;32m    432\u001b[0m     connection\u001b[38;5;241m.\u001b[39msocket\u001b[38;5;241m.\u001b[39mset_deadline(\u001b[38;5;28;01mNone\u001b[39;00m)\n",
      "File \u001b[0;32m/opt/conda/lib/python3.12/site-packages/neo4j/_sync/io/_bolt5.py:740\u001b[0m, in \u001b[0;36mBolt5x2.hello\u001b[0;34m(self, dehydration_hooks, hydration_hooks)\u001b[0m\n\u001b[1;32m    738\u001b[0m \u001b[38;5;28mself\u001b[39m\u001b[38;5;241m.\u001b[39mlogon(dehydration_hooks, hydration_hooks)\n\u001b[1;32m    739\u001b[0m \u001b[38;5;28mself\u001b[39m\u001b[38;5;241m.\u001b[39msend_all()\n\u001b[0;32m--> 740\u001b[0m \u001b[38;5;28;43mself\u001b[39;49m\u001b[38;5;241;43m.\u001b[39;49m\u001b[43mfetch_all\u001b[49m\u001b[43m(\u001b[49m\u001b[43m)\u001b[49m\n\u001b[1;32m    741\u001b[0m check_supported_server_product(\u001b[38;5;28mself\u001b[39m\u001b[38;5;241m.\u001b[39mserver_info\u001b[38;5;241m.\u001b[39magent)\n",
      "File \u001b[0;32m/opt/conda/lib/python3.12/site-packages/neo4j/_sync/io/_bolt.py:879\u001b[0m, in \u001b[0;36mBolt.fetch_all\u001b[0;34m(self)\u001b[0m\n\u001b[1;32m    877\u001b[0m response \u001b[38;5;241m=\u001b[39m \u001b[38;5;28mself\u001b[39m\u001b[38;5;241m.\u001b[39mresponses[\u001b[38;5;241m0\u001b[39m]\n\u001b[1;32m    878\u001b[0m \u001b[38;5;28;01mwhile\u001b[39;00m \u001b[38;5;129;01mnot\u001b[39;00m response\u001b[38;5;241m.\u001b[39mcomplete:\n\u001b[0;32m--> 879\u001b[0m     detail_delta, summary_delta \u001b[38;5;241m=\u001b[39m \u001b[38;5;28;43mself\u001b[39;49m\u001b[38;5;241;43m.\u001b[39;49m\u001b[43mfetch_message\u001b[49m\u001b[43m(\u001b[49m\u001b[43m)\u001b[49m\n\u001b[1;32m    880\u001b[0m     detail_count \u001b[38;5;241m+\u001b[39m\u001b[38;5;241m=\u001b[39m detail_delta\n\u001b[1;32m    881\u001b[0m     summary_count \u001b[38;5;241m+\u001b[39m\u001b[38;5;241m=\u001b[39m summary_delta\n",
      "File \u001b[0;32m/opt/conda/lib/python3.12/site-packages/neo4j/_sync/io/_bolt.py:864\u001b[0m, in \u001b[0;36mBolt.fetch_message\u001b[0;34m(self)\u001b[0m\n\u001b[1;32m    860\u001b[0m \u001b[38;5;66;03m# Receive exactly one message\u001b[39;00m\n\u001b[1;32m    861\u001b[0m tag, fields \u001b[38;5;241m=\u001b[39m \u001b[38;5;28mself\u001b[39m\u001b[38;5;241m.\u001b[39minbox\u001b[38;5;241m.\u001b[39mpop(\n\u001b[1;32m    862\u001b[0m     hydration_hooks\u001b[38;5;241m=\u001b[39m\u001b[38;5;28mself\u001b[39m\u001b[38;5;241m.\u001b[39mresponses[\u001b[38;5;241m0\u001b[39m]\u001b[38;5;241m.\u001b[39mhydration_hooks\n\u001b[1;32m    863\u001b[0m )\n\u001b[0;32m--> 864\u001b[0m res \u001b[38;5;241m=\u001b[39m \u001b[38;5;28;43mself\u001b[39;49m\u001b[38;5;241;43m.\u001b[39;49m\u001b[43m_process_message\u001b[49m\u001b[43m(\u001b[49m\u001b[43mtag\u001b[49m\u001b[43m,\u001b[49m\u001b[43m \u001b[49m\u001b[43mfields\u001b[49m\u001b[43m)\u001b[49m\n\u001b[1;32m    865\u001b[0m \u001b[38;5;28mself\u001b[39m\u001b[38;5;241m.\u001b[39midle_since \u001b[38;5;241m=\u001b[39m monotonic()\n\u001b[1;32m    866\u001b[0m \u001b[38;5;28;01mreturn\u001b[39;00m res\n",
      "File \u001b[0;32m/opt/conda/lib/python3.12/site-packages/neo4j/_sync/io/_bolt5.py:500\u001b[0m, in \u001b[0;36mBolt5x0._process_message\u001b[0;34m(self, tag, fields)\u001b[0m\n\u001b[1;32m    498\u001b[0m \u001b[38;5;28mself\u001b[39m\u001b[38;5;241m.\u001b[39m_server_state_manager\u001b[38;5;241m.\u001b[39mstate \u001b[38;5;241m=\u001b[39m \u001b[38;5;28mself\u001b[39m\u001b[38;5;241m.\u001b[39mbolt_states\u001b[38;5;241m.\u001b[39mFAILED\n\u001b[1;32m    499\u001b[0m \u001b[38;5;28;01mtry\u001b[39;00m:\n\u001b[0;32m--> 500\u001b[0m     \u001b[43mresponse\u001b[49m\u001b[38;5;241;43m.\u001b[39;49m\u001b[43mon_failure\u001b[49m\u001b[43m(\u001b[49m\u001b[43msummary_metadata\u001b[49m\u001b[43m \u001b[49m\u001b[38;5;129;43;01mor\u001b[39;49;00m\u001b[43m \u001b[49m\u001b[43m{\u001b[49m\u001b[43m}\u001b[49m\u001b[43m)\u001b[49m\n\u001b[1;32m    501\u001b[0m \u001b[38;5;28;01mexcept\u001b[39;00m (ServiceUnavailable, DatabaseUnavailable):\n\u001b[1;32m    502\u001b[0m     \u001b[38;5;28;01mif\u001b[39;00m \u001b[38;5;28mself\u001b[39m\u001b[38;5;241m.\u001b[39mpool:\n",
      "File \u001b[0;32m/opt/conda/lib/python3.12/site-packages/neo4j/_sync/io/_common.py:295\u001b[0m, in \u001b[0;36mLogonResponse.on_failure\u001b[0;34m(self, metadata)\u001b[0m\n\u001b[1;32m    293\u001b[0m handler \u001b[38;5;241m=\u001b[39m \u001b[38;5;28mself\u001b[39m\u001b[38;5;241m.\u001b[39mhandlers\u001b[38;5;241m.\u001b[39mget(\u001b[38;5;124m\"\u001b[39m\u001b[38;5;124mon_summary\u001b[39m\u001b[38;5;124m\"\u001b[39m)\n\u001b[1;32m    294\u001b[0m Util\u001b[38;5;241m.\u001b[39mcallback(handler)\n\u001b[0;32m--> 295\u001b[0m \u001b[38;5;28;01mraise\u001b[39;00m \u001b[38;5;28mself\u001b[39m\u001b[38;5;241m.\u001b[39m_hydrate_error(metadata)\n",
      "\u001b[0;31mAuthError\u001b[0m: {code: Neo.ClientError.Security.Unauthorized} {message: Unsupported authentication token, missing key `scheme`}"
     ]
    }
   ],
   "source": [
    "%%cypher\n",
    "// Just for debugging purposes let's check the same query directly from the database\n",
    "MATCH (tom:Person {name:\"Tom Hanks\"})-[:ACTED_IN]->(m)<-[:ACTED_IN]-(coActors),\n",
    "  (coActors)-[:ACTED_IN]->(m2)<-[:ACTED_IN]-(cocoActors)\n",
    "WHERE NOT (tom)-[:ACTED_IN]->()<-[:ACTED_IN]-(cocoActors)\n",
    "  AND tom <> cocoActors\n",
    "RETURN cocoActors.name AS Recommended, count(*) AS Strength\n",
    "ORDER BY Strength DESC\n",
    "LIMIT 20"
   ]
  },
  {
   "cell_type": "markdown",
   "metadata": {
    "id": "Hyq4KsKQegdE"
   },
   "source": [
    "### Exercise\n",
    "\n",
    "Return all the actors that have also directed a movie.\n",
    "\n",
    "The returned DataFrame must have 3 columns:\n",
    "\n",
    "* `name` the actor name\n",
    "* `acted_in` a list of unique films (title) where he acted in\n",
    "* `directed` a list of unique films (title) where he was a director"
   ]
  },
  {
   "cell_type": "code",
   "execution_count": 21,
   "metadata": {
    "id": "0h1FFuYxej2f"
   },
   "outputs": [],
   "source": [
    "your_cypher_df = (spark.read\n",
    "            .format('org.neo4j.spark.DataSource')\n",
    "            .option('query', '''\n",
    "              MATCH (p:Person)\n",
    "              MATCH p-[:ACTED_IN]->(m:Movie)\n",
    "              MATCH p-[:DIRECTED]->(m2:Movie)\n",
    "              RETURN p.name AS name, collect(m.title) as acted_in, collect(m2.title) as directed\n",
    "            ''')\n",
    "            .load())"
   ]
  },
  {
   "cell_type": "markdown",
   "metadata": {
    "id": "CQncCY52lCxv"
   },
   "source": [
    "<details>\n",
    "<summary>\n",
    "Show a possible solution\n",
    "</summary>\n",
    "\n",
    "```python\n",
    "your_cypher_df = (spark.read\n",
    "            .format('org.neo4j.spark.DataSource')\n",
    "            .option('query', '''\n",
    "              MATCH (p:Person)\n",
    "              MATCH (p)-[:ACTED_IN]->(m:Movie)\n",
    "              MATCH (p)-[:DIRECTED]->(m1:Movie)\n",
    "              RETURN p.name AS name, collect(m.title) AS acted_in, collect(m1.title) AS directed\n",
    "            ''')\n",
    "            .load())\n",
    "```\n",
    "\n",
    "</details>"
   ]
  },
  {
   "cell_type": "code",
   "execution_count": 22,
   "metadata": {
    "id": "xG_7Wy-_go5V"
   },
   "outputs": [
    {
     "ename": "IllegalArgumentException",
     "evalue": "Please provide a valid READ query",
     "output_type": "error",
     "traceback": [
      "\u001b[0;31m---------------------------------------------------------------------------\u001b[0m",
      "\u001b[0;31mIllegalArgumentException\u001b[0m                  Traceback (most recent call last)",
      "Cell \u001b[0;32mIn[22], line 7\u001b[0m\n\u001b[1;32m      1\u001b[0m \u001b[38;5;124;03m\"\"\"\u001b[39;00m\n\u001b[1;32m      2\u001b[0m \u001b[38;5;124;03m This paragraph is for validating the code the you\u001b[39;00m\n\u001b[1;32m      3\u001b[0m \u001b[38;5;124;03m wrote above, please execute it after you\u001b[39;00m\n\u001b[1;32m      4\u001b[0m \u001b[38;5;124;03m created the your_cypher_df\u001b[39;00m\n\u001b[1;32m      5\u001b[0m \u001b[38;5;124;03m\"\"\"\u001b[39;00m\n\u001b[0;32m----> 7\u001b[0m \u001b[38;5;28;01massert\u001b[39;00m \u001b[43myour_cypher_df\u001b[49m\u001b[38;5;241;43m.\u001b[39;49m\u001b[43mcount\u001b[49m\u001b[43m(\u001b[49m\u001b[43m)\u001b[49m \u001b[38;5;241m==\u001b[39m \u001b[38;5;241m5\u001b[39m\n\u001b[1;32m      8\u001b[0m \u001b[38;5;28;01massert\u001b[39;00m your_cypher_df\u001b[38;5;241m.\u001b[39mschema\u001b[38;5;241m.\u001b[39mfieldNames() \u001b[38;5;241m==\u001b[39m [\u001b[38;5;124m'\u001b[39m\u001b[38;5;124mname\u001b[39m\u001b[38;5;124m'\u001b[39m, \u001b[38;5;124m'\u001b[39m\u001b[38;5;124macted_in\u001b[39m\u001b[38;5;124m'\u001b[39m, \u001b[38;5;124m'\u001b[39m\u001b[38;5;124mdirected\u001b[39m\u001b[38;5;124m'\u001b[39m]\n\u001b[1;32m      9\u001b[0m your_cypher_df_collect \u001b[38;5;241m=\u001b[39m your_cypher_df\u001b[38;5;241m.\u001b[39mcollect()\n",
      "File \u001b[0;32m/opt/conda/lib/python3.12/site-packages/pyspark/sql/dataframe.py:1240\u001b[0m, in \u001b[0;36mDataFrame.count\u001b[0;34m(self)\u001b[0m\n\u001b[1;32m   1217\u001b[0m \u001b[38;5;28;01mdef\u001b[39;00m \u001b[38;5;21mcount\u001b[39m(\u001b[38;5;28mself\u001b[39m) \u001b[38;5;241m-\u001b[39m\u001b[38;5;241m>\u001b[39m \u001b[38;5;28mint\u001b[39m:\n\u001b[1;32m   1218\u001b[0m \u001b[38;5;250m    \u001b[39m\u001b[38;5;124;03m\"\"\"Returns the number of rows in this :class:`DataFrame`.\u001b[39;00m\n\u001b[1;32m   1219\u001b[0m \n\u001b[1;32m   1220\u001b[0m \u001b[38;5;124;03m    .. versionadded:: 1.3.0\u001b[39;00m\n\u001b[0;32m   (...)\u001b[0m\n\u001b[1;32m   1238\u001b[0m \u001b[38;5;124;03m    3\u001b[39;00m\n\u001b[1;32m   1239\u001b[0m \u001b[38;5;124;03m    \"\"\"\u001b[39;00m\n\u001b[0;32m-> 1240\u001b[0m     \u001b[38;5;28;01mreturn\u001b[39;00m \u001b[38;5;28mint\u001b[39m(\u001b[38;5;28;43mself\u001b[39;49m\u001b[38;5;241;43m.\u001b[39;49m\u001b[43m_jdf\u001b[49m\u001b[38;5;241;43m.\u001b[39;49m\u001b[43mcount\u001b[49m\u001b[43m(\u001b[49m\u001b[43m)\u001b[49m)\n",
      "File \u001b[0;32m/opt/conda/lib/python3.12/site-packages/py4j/java_gateway.py:1322\u001b[0m, in \u001b[0;36mJavaMember.__call__\u001b[0;34m(self, *args)\u001b[0m\n\u001b[1;32m   1316\u001b[0m command \u001b[38;5;241m=\u001b[39m proto\u001b[38;5;241m.\u001b[39mCALL_COMMAND_NAME \u001b[38;5;241m+\u001b[39m\\\n\u001b[1;32m   1317\u001b[0m     \u001b[38;5;28mself\u001b[39m\u001b[38;5;241m.\u001b[39mcommand_header \u001b[38;5;241m+\u001b[39m\\\n\u001b[1;32m   1318\u001b[0m     args_command \u001b[38;5;241m+\u001b[39m\\\n\u001b[1;32m   1319\u001b[0m     proto\u001b[38;5;241m.\u001b[39mEND_COMMAND_PART\n\u001b[1;32m   1321\u001b[0m answer \u001b[38;5;241m=\u001b[39m \u001b[38;5;28mself\u001b[39m\u001b[38;5;241m.\u001b[39mgateway_client\u001b[38;5;241m.\u001b[39msend_command(command)\n\u001b[0;32m-> 1322\u001b[0m return_value \u001b[38;5;241m=\u001b[39m \u001b[43mget_return_value\u001b[49m\u001b[43m(\u001b[49m\n\u001b[1;32m   1323\u001b[0m \u001b[43m    \u001b[49m\u001b[43manswer\u001b[49m\u001b[43m,\u001b[49m\u001b[43m \u001b[49m\u001b[38;5;28;43mself\u001b[39;49m\u001b[38;5;241;43m.\u001b[39;49m\u001b[43mgateway_client\u001b[49m\u001b[43m,\u001b[49m\u001b[43m \u001b[49m\u001b[38;5;28;43mself\u001b[39;49m\u001b[38;5;241;43m.\u001b[39;49m\u001b[43mtarget_id\u001b[49m\u001b[43m,\u001b[49m\u001b[43m \u001b[49m\u001b[38;5;28;43mself\u001b[39;49m\u001b[38;5;241;43m.\u001b[39;49m\u001b[43mname\u001b[49m\u001b[43m)\u001b[49m\n\u001b[1;32m   1325\u001b[0m \u001b[38;5;28;01mfor\u001b[39;00m temp_arg \u001b[38;5;129;01min\u001b[39;00m temp_args:\n\u001b[1;32m   1326\u001b[0m     \u001b[38;5;28;01mif\u001b[39;00m \u001b[38;5;28mhasattr\u001b[39m(temp_arg, \u001b[38;5;124m\"\u001b[39m\u001b[38;5;124m_detach\u001b[39m\u001b[38;5;124m\"\u001b[39m):\n",
      "File \u001b[0;32m/opt/conda/lib/python3.12/site-packages/pyspark/errors/exceptions/captured.py:185\u001b[0m, in \u001b[0;36mcapture_sql_exception.<locals>.deco\u001b[0;34m(*a, **kw)\u001b[0m\n\u001b[1;32m    181\u001b[0m converted \u001b[38;5;241m=\u001b[39m convert_exception(e\u001b[38;5;241m.\u001b[39mjava_exception)\n\u001b[1;32m    182\u001b[0m \u001b[38;5;28;01mif\u001b[39;00m \u001b[38;5;129;01mnot\u001b[39;00m \u001b[38;5;28misinstance\u001b[39m(converted, UnknownException):\n\u001b[1;32m    183\u001b[0m     \u001b[38;5;66;03m# Hide where the exception came from that shows a non-Pythonic\u001b[39;00m\n\u001b[1;32m    184\u001b[0m     \u001b[38;5;66;03m# JVM exception message.\u001b[39;00m\n\u001b[0;32m--> 185\u001b[0m     \u001b[38;5;28;01mraise\u001b[39;00m converted \u001b[38;5;28;01mfrom\u001b[39;00m \u001b[38;5;28;01mNone\u001b[39;00m\n\u001b[1;32m    186\u001b[0m \u001b[38;5;28;01melse\u001b[39;00m:\n\u001b[1;32m    187\u001b[0m     \u001b[38;5;28;01mraise\u001b[39;00m\n",
      "\u001b[0;31mIllegalArgumentException\u001b[0m: Please provide a valid READ query"
     ]
    }
   ],
   "source": [
    "\"\"\"\n",
    " This paragraph is for validating the code the you\n",
    " wrote above, please execute it after you\n",
    " created the your_cypher_df\n",
    "\"\"\"\n",
    "\n",
    "assert your_cypher_df.count() == 5\n",
    "assert your_cypher_df.schema.fieldNames() == ['name', 'acted_in', 'directed']\n",
    "your_cypher_df_collect = your_cypher_df.collect()\n",
    "assert frozenset(map(lambda row: row['name'], your_cypher_df_collect)) == frozenset(['Clint Eastwood',\n",
    " 'Danny DeVito',\n",
    " 'James Marshall',\n",
    " 'Werner Herzog',\n",
    " 'Tom Hanks'])\n",
    "assert frozenset(map(lambda row: frozenset(row['acted_in']), your_cypher_df_collect)) == set([\n",
    "      frozenset([\"Apollo 13\", \"You've Got Mail\", \"A League of Their Own\", \"Joe Versus the Volcano\", \"That Thing You Do\", \"The Da Vinci Code\", \"Cloud Atlas\", \"Cast Away\", \"The Green Mile\", \"Sleepless in Seattle\", \"The Polar Express\", \"Charlie Wilson's War\"]),\n",
    "      frozenset([\"What Dreams May Come\"]),\n",
    "      frozenset([\"Unforgiven\"]),\n",
    "      frozenset([\"A Few Good Men\"]),\n",
    "      frozenset([\"Hoffa\", \"One Flew Over the Cuckoo's Nest\"])\n",
    "    ])\n",
    "assert frozenset(map(lambda row: frozenset(row['directed']), your_cypher_df_collect)) == set([\n",
    "      frozenset([\"That Thing You Do\"]),\n",
    "      frozenset([\"RescueDawn\"]),\n",
    "      frozenset([\"Unforgiven\"]),\n",
    "      frozenset([\"V for Vendetta\", \"Ninja Assassin\"]),\n",
    "      frozenset([\"Hoffa\"])\n",
    "    ])\n",
    "print(\"All assertion are successfuly satisfied. Congrats you created your first cypher dataframe\")"
   ]
  },
  {
   "cell_type": "code",
   "execution_count": null,
   "metadata": {},
   "outputs": [
    {
     "ename": "IllegalArgumentException",
     "evalue": "Please provide a valid READ query",
     "output_type": "error",
     "traceback": [
      "\u001b[0;31m---------------------------------------------------------------------------\u001b[0m",
      "\u001b[0;31mIllegalArgumentException\u001b[0m                  Traceback (most recent call last)",
      "File \u001b[0;32m/opt/conda/lib/python3.12/site-packages/IPython/core/formatters.py:711\u001b[0m, in \u001b[0;36mPlainTextFormatter.__call__\u001b[0;34m(self, obj)\u001b[0m\n\u001b[1;32m    704\u001b[0m stream \u001b[38;5;241m=\u001b[39m StringIO()\n\u001b[1;32m    705\u001b[0m printer \u001b[38;5;241m=\u001b[39m pretty\u001b[38;5;241m.\u001b[39mRepresentationPrinter(stream, \u001b[38;5;28mself\u001b[39m\u001b[38;5;241m.\u001b[39mverbose,\n\u001b[1;32m    706\u001b[0m     \u001b[38;5;28mself\u001b[39m\u001b[38;5;241m.\u001b[39mmax_width, \u001b[38;5;28mself\u001b[39m\u001b[38;5;241m.\u001b[39mnewline,\n\u001b[1;32m    707\u001b[0m     max_seq_length\u001b[38;5;241m=\u001b[39m\u001b[38;5;28mself\u001b[39m\u001b[38;5;241m.\u001b[39mmax_seq_length,\n\u001b[1;32m    708\u001b[0m     singleton_pprinters\u001b[38;5;241m=\u001b[39m\u001b[38;5;28mself\u001b[39m\u001b[38;5;241m.\u001b[39msingleton_printers,\n\u001b[1;32m    709\u001b[0m     type_pprinters\u001b[38;5;241m=\u001b[39m\u001b[38;5;28mself\u001b[39m\u001b[38;5;241m.\u001b[39mtype_printers,\n\u001b[1;32m    710\u001b[0m     deferred_pprinters\u001b[38;5;241m=\u001b[39m\u001b[38;5;28mself\u001b[39m\u001b[38;5;241m.\u001b[39mdeferred_printers)\n\u001b[0;32m--> 711\u001b[0m \u001b[43mprinter\u001b[49m\u001b[38;5;241;43m.\u001b[39;49m\u001b[43mpretty\u001b[49m\u001b[43m(\u001b[49m\u001b[43mobj\u001b[49m\u001b[43m)\u001b[49m\n\u001b[1;32m    712\u001b[0m printer\u001b[38;5;241m.\u001b[39mflush()\n\u001b[1;32m    713\u001b[0m \u001b[38;5;28;01mreturn\u001b[39;00m stream\u001b[38;5;241m.\u001b[39mgetvalue()\n",
      "File \u001b[0;32m/opt/conda/lib/python3.12/site-packages/IPython/lib/pretty.py:419\u001b[0m, in \u001b[0;36mRepresentationPrinter.pretty\u001b[0;34m(self, obj)\u001b[0m\n\u001b[1;32m    408\u001b[0m                         \u001b[38;5;28;01mreturn\u001b[39;00m meth(obj, \u001b[38;5;28mself\u001b[39m, cycle)\n\u001b[1;32m    409\u001b[0m                 \u001b[38;5;28;01mif\u001b[39;00m (\n\u001b[1;32m    410\u001b[0m                     \u001b[38;5;28mcls\u001b[39m \u001b[38;5;129;01mis\u001b[39;00m \u001b[38;5;129;01mnot\u001b[39;00m \u001b[38;5;28mobject\u001b[39m\n\u001b[1;32m    411\u001b[0m                     \u001b[38;5;66;03m# check if cls defines __repr__\u001b[39;00m\n\u001b[0;32m   (...)\u001b[0m\n\u001b[1;32m    417\u001b[0m                     \u001b[38;5;129;01mand\u001b[39;00m \u001b[38;5;28mcallable\u001b[39m(_safe_getattr(\u001b[38;5;28mcls\u001b[39m, \u001b[38;5;124m\"\u001b[39m\u001b[38;5;124m__repr__\u001b[39m\u001b[38;5;124m\"\u001b[39m, \u001b[38;5;28;01mNone\u001b[39;00m))\n\u001b[1;32m    418\u001b[0m                 ):\n\u001b[0;32m--> 419\u001b[0m                     \u001b[38;5;28;01mreturn\u001b[39;00m \u001b[43m_repr_pprint\u001b[49m\u001b[43m(\u001b[49m\u001b[43mobj\u001b[49m\u001b[43m,\u001b[49m\u001b[43m \u001b[49m\u001b[38;5;28;43mself\u001b[39;49m\u001b[43m,\u001b[49m\u001b[43m \u001b[49m\u001b[43mcycle\u001b[49m\u001b[43m)\u001b[49m\n\u001b[1;32m    421\u001b[0m     \u001b[38;5;28;01mreturn\u001b[39;00m _default_pprint(obj, \u001b[38;5;28mself\u001b[39m, cycle)\n\u001b[1;32m    422\u001b[0m \u001b[38;5;28;01mfinally\u001b[39;00m:\n",
      "File \u001b[0;32m/opt/conda/lib/python3.12/site-packages/IPython/lib/pretty.py:794\u001b[0m, in \u001b[0;36m_repr_pprint\u001b[0;34m(obj, p, cycle)\u001b[0m\n\u001b[1;32m    792\u001b[0m \u001b[38;5;250m\u001b[39m\u001b[38;5;124;03m\"\"\"A pprint that just redirects to the normal repr function.\"\"\"\u001b[39;00m\n\u001b[1;32m    793\u001b[0m \u001b[38;5;66;03m# Find newlines and replace them with p.break_()\u001b[39;00m\n\u001b[0;32m--> 794\u001b[0m output \u001b[38;5;241m=\u001b[39m \u001b[38;5;28;43mrepr\u001b[39;49m\u001b[43m(\u001b[49m\u001b[43mobj\u001b[49m\u001b[43m)\u001b[49m\n\u001b[1;32m    795\u001b[0m lines \u001b[38;5;241m=\u001b[39m output\u001b[38;5;241m.\u001b[39msplitlines()\n\u001b[1;32m    796\u001b[0m \u001b[38;5;28;01mwith\u001b[39;00m p\u001b[38;5;241m.\u001b[39mgroup():\n",
      "File \u001b[0;32m/opt/conda/lib/python3.12/site-packages/pyspark/sql/dataframe.py:983\u001b[0m, in \u001b[0;36mDataFrame.__repr__\u001b[0;34m(self)\u001b[0m\n\u001b[1;32m    981\u001b[0m \u001b[38;5;28;01mif\u001b[39;00m \u001b[38;5;129;01mnot\u001b[39;00m \u001b[38;5;28mself\u001b[39m\u001b[38;5;241m.\u001b[39m_support_repr_html \u001b[38;5;129;01mand\u001b[39;00m \u001b[38;5;28mself\u001b[39m\u001b[38;5;241m.\u001b[39msparkSession\u001b[38;5;241m.\u001b[39m_jconf\u001b[38;5;241m.\u001b[39misReplEagerEvalEnabled():\n\u001b[1;32m    982\u001b[0m     vertical \u001b[38;5;241m=\u001b[39m \u001b[38;5;28;01mFalse\u001b[39;00m\n\u001b[0;32m--> 983\u001b[0m     \u001b[38;5;28;01mreturn\u001b[39;00m \u001b[38;5;28;43mself\u001b[39;49m\u001b[38;5;241;43m.\u001b[39;49m\u001b[43m_jdf\u001b[49m\u001b[38;5;241;43m.\u001b[39;49m\u001b[43mshowString\u001b[49m\u001b[43m(\u001b[49m\n\u001b[1;32m    984\u001b[0m \u001b[43m        \u001b[49m\u001b[38;5;28;43mself\u001b[39;49m\u001b[38;5;241;43m.\u001b[39;49m\u001b[43msparkSession\u001b[49m\u001b[38;5;241;43m.\u001b[39;49m\u001b[43m_jconf\u001b[49m\u001b[38;5;241;43m.\u001b[39;49m\u001b[43mreplEagerEvalMaxNumRows\u001b[49m\u001b[43m(\u001b[49m\u001b[43m)\u001b[49m\u001b[43m,\u001b[49m\n\u001b[1;32m    985\u001b[0m \u001b[43m        \u001b[49m\u001b[38;5;28;43mself\u001b[39;49m\u001b[38;5;241;43m.\u001b[39;49m\u001b[43msparkSession\u001b[49m\u001b[38;5;241;43m.\u001b[39;49m\u001b[43m_jconf\u001b[49m\u001b[38;5;241;43m.\u001b[39;49m\u001b[43mreplEagerEvalTruncate\u001b[49m\u001b[43m(\u001b[49m\u001b[43m)\u001b[49m\u001b[43m,\u001b[49m\n\u001b[1;32m    986\u001b[0m \u001b[43m        \u001b[49m\u001b[43mvertical\u001b[49m\u001b[43m,\u001b[49m\n\u001b[1;32m    987\u001b[0m \u001b[43m    \u001b[49m\u001b[43m)\u001b[49m\n\u001b[1;32m    988\u001b[0m \u001b[38;5;28;01melse\u001b[39;00m:\n\u001b[1;32m    989\u001b[0m     \u001b[38;5;28;01mreturn\u001b[39;00m \u001b[38;5;124m\"\u001b[39m\u001b[38;5;124mDataFrame[\u001b[39m\u001b[38;5;132;01m%s\u001b[39;00m\u001b[38;5;124m]\u001b[39m\u001b[38;5;124m\"\u001b[39m \u001b[38;5;241m%\u001b[39m (\u001b[38;5;124m\"\u001b[39m\u001b[38;5;124m, \u001b[39m\u001b[38;5;124m\"\u001b[39m\u001b[38;5;241m.\u001b[39mjoin(\u001b[38;5;124m\"\u001b[39m\u001b[38;5;132;01m%s\u001b[39;00m\u001b[38;5;124m: \u001b[39m\u001b[38;5;132;01m%s\u001b[39;00m\u001b[38;5;124m\"\u001b[39m \u001b[38;5;241m%\u001b[39m c \u001b[38;5;28;01mfor\u001b[39;00m c \u001b[38;5;129;01min\u001b[39;00m \u001b[38;5;28mself\u001b[39m\u001b[38;5;241m.\u001b[39mdtypes))\n",
      "File \u001b[0;32m/opt/conda/lib/python3.12/site-packages/py4j/java_gateway.py:1322\u001b[0m, in \u001b[0;36mJavaMember.__call__\u001b[0;34m(self, *args)\u001b[0m\n\u001b[1;32m   1316\u001b[0m command \u001b[38;5;241m=\u001b[39m proto\u001b[38;5;241m.\u001b[39mCALL_COMMAND_NAME \u001b[38;5;241m+\u001b[39m\\\n\u001b[1;32m   1317\u001b[0m     \u001b[38;5;28mself\u001b[39m\u001b[38;5;241m.\u001b[39mcommand_header \u001b[38;5;241m+\u001b[39m\\\n\u001b[1;32m   1318\u001b[0m     args_command \u001b[38;5;241m+\u001b[39m\\\n\u001b[1;32m   1319\u001b[0m     proto\u001b[38;5;241m.\u001b[39mEND_COMMAND_PART\n\u001b[1;32m   1321\u001b[0m answer \u001b[38;5;241m=\u001b[39m \u001b[38;5;28mself\u001b[39m\u001b[38;5;241m.\u001b[39mgateway_client\u001b[38;5;241m.\u001b[39msend_command(command)\n\u001b[0;32m-> 1322\u001b[0m return_value \u001b[38;5;241m=\u001b[39m \u001b[43mget_return_value\u001b[49m\u001b[43m(\u001b[49m\n\u001b[1;32m   1323\u001b[0m \u001b[43m    \u001b[49m\u001b[43manswer\u001b[49m\u001b[43m,\u001b[49m\u001b[43m \u001b[49m\u001b[38;5;28;43mself\u001b[39;49m\u001b[38;5;241;43m.\u001b[39;49m\u001b[43mgateway_client\u001b[49m\u001b[43m,\u001b[49m\u001b[43m \u001b[49m\u001b[38;5;28;43mself\u001b[39;49m\u001b[38;5;241;43m.\u001b[39;49m\u001b[43mtarget_id\u001b[49m\u001b[43m,\u001b[49m\u001b[43m \u001b[49m\u001b[38;5;28;43mself\u001b[39;49m\u001b[38;5;241;43m.\u001b[39;49m\u001b[43mname\u001b[49m\u001b[43m)\u001b[49m\n\u001b[1;32m   1325\u001b[0m \u001b[38;5;28;01mfor\u001b[39;00m temp_arg \u001b[38;5;129;01min\u001b[39;00m temp_args:\n\u001b[1;32m   1326\u001b[0m     \u001b[38;5;28;01mif\u001b[39;00m \u001b[38;5;28mhasattr\u001b[39m(temp_arg, \u001b[38;5;124m\"\u001b[39m\u001b[38;5;124m_detach\u001b[39m\u001b[38;5;124m\"\u001b[39m):\n",
      "File \u001b[0;32m/opt/conda/lib/python3.12/site-packages/pyspark/errors/exceptions/captured.py:185\u001b[0m, in \u001b[0;36mcapture_sql_exception.<locals>.deco\u001b[0;34m(*a, **kw)\u001b[0m\n\u001b[1;32m    181\u001b[0m converted \u001b[38;5;241m=\u001b[39m convert_exception(e\u001b[38;5;241m.\u001b[39mjava_exception)\n\u001b[1;32m    182\u001b[0m \u001b[38;5;28;01mif\u001b[39;00m \u001b[38;5;129;01mnot\u001b[39;00m \u001b[38;5;28misinstance\u001b[39m(converted, UnknownException):\n\u001b[1;32m    183\u001b[0m     \u001b[38;5;66;03m# Hide where the exception came from that shows a non-Pythonic\u001b[39;00m\n\u001b[1;32m    184\u001b[0m     \u001b[38;5;66;03m# JVM exception message.\u001b[39;00m\n\u001b[0;32m--> 185\u001b[0m     \u001b[38;5;28;01mraise\u001b[39;00m converted \u001b[38;5;28;01mfrom\u001b[39;00m \u001b[38;5;28;01mNone\u001b[39;00m\n\u001b[1;32m    186\u001b[0m \u001b[38;5;28;01melse\u001b[39;00m:\n\u001b[1;32m    187\u001b[0m     \u001b[38;5;28;01mraise\u001b[39;00m\n",
      "\u001b[0;31mIllegalArgumentException\u001b[0m: Please provide a valid READ query"
     ]
    },
    {
     "ename": "IllegalArgumentException",
     "evalue": "Please provide a valid READ query",
     "output_type": "error",
     "traceback": [
      "\u001b[0;31m---------------------------------------------------------------------------\u001b[0m",
      "\u001b[0;31mIllegalArgumentException\u001b[0m                  Traceback (most recent call last)",
      "File \u001b[0;32m/opt/conda/lib/python3.12/site-packages/IPython/core/formatters.py:347\u001b[0m, in \u001b[0;36mBaseFormatter.__call__\u001b[0;34m(self, obj)\u001b[0m\n\u001b[1;32m    345\u001b[0m     method \u001b[38;5;241m=\u001b[39m get_real_method(obj, \u001b[38;5;28mself\u001b[39m\u001b[38;5;241m.\u001b[39mprint_method)\n\u001b[1;32m    346\u001b[0m     \u001b[38;5;28;01mif\u001b[39;00m method \u001b[38;5;129;01mis\u001b[39;00m \u001b[38;5;129;01mnot\u001b[39;00m \u001b[38;5;28;01mNone\u001b[39;00m:\n\u001b[0;32m--> 347\u001b[0m         \u001b[38;5;28;01mreturn\u001b[39;00m \u001b[43mmethod\u001b[49m\u001b[43m(\u001b[49m\u001b[43m)\u001b[49m\n\u001b[1;32m    348\u001b[0m     \u001b[38;5;28;01mreturn\u001b[39;00m \u001b[38;5;28;01mNone\u001b[39;00m\n\u001b[1;32m    349\u001b[0m \u001b[38;5;28;01melse\u001b[39;00m:\n",
      "File \u001b[0;32m/opt/conda/lib/python3.12/site-packages/pyspark/sql/dataframe.py:999\u001b[0m, in \u001b[0;36mDataFrame._repr_html_\u001b[0;34m(self)\u001b[0m\n\u001b[1;32m    997\u001b[0m     \u001b[38;5;28mself\u001b[39m\u001b[38;5;241m.\u001b[39m_support_repr_html \u001b[38;5;241m=\u001b[39m \u001b[38;5;28;01mTrue\u001b[39;00m\n\u001b[1;32m    998\u001b[0m \u001b[38;5;28;01mif\u001b[39;00m \u001b[38;5;28mself\u001b[39m\u001b[38;5;241m.\u001b[39msparkSession\u001b[38;5;241m.\u001b[39m_jconf\u001b[38;5;241m.\u001b[39misReplEagerEvalEnabled():\n\u001b[0;32m--> 999\u001b[0m     \u001b[38;5;28;01mreturn\u001b[39;00m \u001b[38;5;28;43mself\u001b[39;49m\u001b[38;5;241;43m.\u001b[39;49m\u001b[43m_jdf\u001b[49m\u001b[38;5;241;43m.\u001b[39;49m\u001b[43mhtmlString\u001b[49m\u001b[43m(\u001b[49m\n\u001b[1;32m   1000\u001b[0m \u001b[43m        \u001b[49m\u001b[38;5;28;43mself\u001b[39;49m\u001b[38;5;241;43m.\u001b[39;49m\u001b[43msparkSession\u001b[49m\u001b[38;5;241;43m.\u001b[39;49m\u001b[43m_jconf\u001b[49m\u001b[38;5;241;43m.\u001b[39;49m\u001b[43mreplEagerEvalMaxNumRows\u001b[49m\u001b[43m(\u001b[49m\u001b[43m)\u001b[49m\u001b[43m,\u001b[49m\n\u001b[1;32m   1001\u001b[0m \u001b[43m        \u001b[49m\u001b[38;5;28;43mself\u001b[39;49m\u001b[38;5;241;43m.\u001b[39;49m\u001b[43msparkSession\u001b[49m\u001b[38;5;241;43m.\u001b[39;49m\u001b[43m_jconf\u001b[49m\u001b[38;5;241;43m.\u001b[39;49m\u001b[43mreplEagerEvalTruncate\u001b[49m\u001b[43m(\u001b[49m\u001b[43m)\u001b[49m\u001b[43m,\u001b[49m\n\u001b[1;32m   1002\u001b[0m \u001b[43m    \u001b[49m\u001b[43m)\u001b[49m\n\u001b[1;32m   1003\u001b[0m \u001b[38;5;28;01melse\u001b[39;00m:\n\u001b[1;32m   1004\u001b[0m     \u001b[38;5;28;01mreturn\u001b[39;00m \u001b[38;5;28;01mNone\u001b[39;00m\n",
      "File \u001b[0;32m/opt/conda/lib/python3.12/site-packages/py4j/java_gateway.py:1322\u001b[0m, in \u001b[0;36mJavaMember.__call__\u001b[0;34m(self, *args)\u001b[0m\n\u001b[1;32m   1316\u001b[0m command \u001b[38;5;241m=\u001b[39m proto\u001b[38;5;241m.\u001b[39mCALL_COMMAND_NAME \u001b[38;5;241m+\u001b[39m\\\n\u001b[1;32m   1317\u001b[0m     \u001b[38;5;28mself\u001b[39m\u001b[38;5;241m.\u001b[39mcommand_header \u001b[38;5;241m+\u001b[39m\\\n\u001b[1;32m   1318\u001b[0m     args_command \u001b[38;5;241m+\u001b[39m\\\n\u001b[1;32m   1319\u001b[0m     proto\u001b[38;5;241m.\u001b[39mEND_COMMAND_PART\n\u001b[1;32m   1321\u001b[0m answer \u001b[38;5;241m=\u001b[39m \u001b[38;5;28mself\u001b[39m\u001b[38;5;241m.\u001b[39mgateway_client\u001b[38;5;241m.\u001b[39msend_command(command)\n\u001b[0;32m-> 1322\u001b[0m return_value \u001b[38;5;241m=\u001b[39m \u001b[43mget_return_value\u001b[49m\u001b[43m(\u001b[49m\n\u001b[1;32m   1323\u001b[0m \u001b[43m    \u001b[49m\u001b[43manswer\u001b[49m\u001b[43m,\u001b[49m\u001b[43m \u001b[49m\u001b[38;5;28;43mself\u001b[39;49m\u001b[38;5;241;43m.\u001b[39;49m\u001b[43mgateway_client\u001b[49m\u001b[43m,\u001b[49m\u001b[43m \u001b[49m\u001b[38;5;28;43mself\u001b[39;49m\u001b[38;5;241;43m.\u001b[39;49m\u001b[43mtarget_id\u001b[49m\u001b[43m,\u001b[49m\u001b[43m \u001b[49m\u001b[38;5;28;43mself\u001b[39;49m\u001b[38;5;241;43m.\u001b[39;49m\u001b[43mname\u001b[49m\u001b[43m)\u001b[49m\n\u001b[1;32m   1325\u001b[0m \u001b[38;5;28;01mfor\u001b[39;00m temp_arg \u001b[38;5;129;01min\u001b[39;00m temp_args:\n\u001b[1;32m   1326\u001b[0m     \u001b[38;5;28;01mif\u001b[39;00m \u001b[38;5;28mhasattr\u001b[39m(temp_arg, \u001b[38;5;124m\"\u001b[39m\u001b[38;5;124m_detach\u001b[39m\u001b[38;5;124m\"\u001b[39m):\n",
      "File \u001b[0;32m/opt/conda/lib/python3.12/site-packages/pyspark/errors/exceptions/captured.py:185\u001b[0m, in \u001b[0;36mcapture_sql_exception.<locals>.deco\u001b[0;34m(*a, **kw)\u001b[0m\n\u001b[1;32m    181\u001b[0m converted \u001b[38;5;241m=\u001b[39m convert_exception(e\u001b[38;5;241m.\u001b[39mjava_exception)\n\u001b[1;32m    182\u001b[0m \u001b[38;5;28;01mif\u001b[39;00m \u001b[38;5;129;01mnot\u001b[39;00m \u001b[38;5;28misinstance\u001b[39m(converted, UnknownException):\n\u001b[1;32m    183\u001b[0m     \u001b[38;5;66;03m# Hide where the exception came from that shows a non-Pythonic\u001b[39;00m\n\u001b[1;32m    184\u001b[0m     \u001b[38;5;66;03m# JVM exception message.\u001b[39;00m\n\u001b[0;32m--> 185\u001b[0m     \u001b[38;5;28;01mraise\u001b[39;00m converted \u001b[38;5;28;01mfrom\u001b[39;00m \u001b[38;5;28;01mNone\u001b[39;00m\n\u001b[1;32m    186\u001b[0m \u001b[38;5;28;01melse\u001b[39;00m:\n\u001b[1;32m    187\u001b[0m     \u001b[38;5;28;01mraise\u001b[39;00m\n",
      "\u001b[0;31mIllegalArgumentException\u001b[0m: Please provide a valid READ query"
     ]
    }
   ],
   "source": [
    "your_cypher_df"
   ]
  },
  {
   "attachments": {},
   "cell_type": "markdown",
   "metadata": {},
   "source": [
    "# Manipulate data backed by Neo4j using the GraphFrames API\n",
    "\n",
    "First we will transform the previously defined dataframes into a graphframes-enabled dataframe. \n",
    "\n",
    "## Exercise:\n",
    "\n",
    "You should create a cleaned dataframe containing both movies and persons (you can reuse the dataframe `movies_df` defined about). \n",
    "You can use whatever method (with cypher or only with dataframe filtering/transforming).\n",
    "    \n",
    "The resulting dataframe should also be transformed to conform to the GraphFrames requirements (see the documentation linked at the top of the notebook). \n",
    "You should rename column names: all fields with '<','>', and '.' characters are forbidden and should be replaced. \n",
    "Also, to ease the next step use the same column name for both movie titles and person names. \n",
    "\n"
   ]
  },
  {
   "cell_type": "code",
   "execution_count": 23,
   "metadata": {},
   "outputs": [
    {
     "name": "stderr",
     "output_type": "stream",
     "text": [
      "25/03/04 15:28:34 WARN SchemaService: Switching to query schema resolution\n",
      "25/03/04 15:28:34 WARN SchemaService: Switching to query schema resolution\n"
     ]
    },
    {
     "data": {
      "text/html": [
       "<table border='1'>\n",
       "<tr><th>id</th><th>labels</th><th>name</th></tr>\n",
       "<tr><td>1</td><td>[Person]</td><td>Keanu Reeves</td></tr>\n",
       "<tr><td>2</td><td>[Person]</td><td>Carrie-Anne Moss</td></tr>\n",
       "<tr><td>3</td><td>[Person]</td><td>Laurence Fishburne</td></tr>\n",
       "<tr><td>4</td><td>[Person]</td><td>Hugo Weaving</td></tr>\n",
       "<tr><td>5</td><td>[Person]</td><td>Lilly Wachowski</td></tr>\n",
       "<tr><td>6</td><td>[Person]</td><td>Lana Wachowski</td></tr>\n",
       "<tr><td>7</td><td>[Person]</td><td>Joel Silver</td></tr>\n",
       "<tr><td>8</td><td>[Person]</td><td>Emil Eifrem</td></tr>\n",
       "<tr><td>12</td><td>[Person]</td><td>Charlize Theron</td></tr>\n",
       "<tr><td>13</td><td>[Person]</td><td>Al Pacino</td></tr>\n",
       "<tr><td>14</td><td>[Person]</td><td>Taylor Hackford</td></tr>\n",
       "<tr><td>16</td><td>[Person]</td><td>Tom Cruise</td></tr>\n",
       "<tr><td>17</td><td>[Person]</td><td>Jack Nicholson</td></tr>\n",
       "<tr><td>18</td><td>[Person]</td><td>Demi Moore</td></tr>\n",
       "<tr><td>19</td><td>[Person]</td><td>Kevin Bacon</td></tr>\n",
       "<tr><td>20</td><td>[Person]</td><td>Kiefer Sutherland</td></tr>\n",
       "<tr><td>21</td><td>[Person]</td><td>Noah Wyle</td></tr>\n",
       "<tr><td>22</td><td>[Person]</td><td>Cuba Gooding Jr.</td></tr>\n",
       "<tr><td>23</td><td>[Person]</td><td>Kevin Pollak</td></tr>\n",
       "<tr><td>24</td><td>[Person]</td><td>J.T. Walsh</td></tr>\n",
       "</table>\n",
       "only showing top 20 rows\n"
      ],
      "text/plain": [
       "+---+--------+------------------+\n",
       "| id|  labels|              name|\n",
       "+---+--------+------------------+\n",
       "|  1|[Person]|      Keanu Reeves|\n",
       "|  2|[Person]|  Carrie-Anne Moss|\n",
       "|  3|[Person]|Laurence Fishburne|\n",
       "|  4|[Person]|      Hugo Weaving|\n",
       "|  5|[Person]|   Lilly Wachowski|\n",
       "|  6|[Person]|    Lana Wachowski|\n",
       "|  7|[Person]|       Joel Silver|\n",
       "|  8|[Person]|       Emil Eifrem|\n",
       "| 12|[Person]|   Charlize Theron|\n",
       "| 13|[Person]|         Al Pacino|\n",
       "| 14|[Person]|   Taylor Hackford|\n",
       "| 16|[Person]|        Tom Cruise|\n",
       "| 17|[Person]|    Jack Nicholson|\n",
       "| 18|[Person]|        Demi Moore|\n",
       "| 19|[Person]|       Kevin Bacon|\n",
       "| 20|[Person]| Kiefer Sutherland|\n",
       "| 21|[Person]|         Noah Wyle|\n",
       "| 22|[Person]|  Cuba Gooding Jr.|\n",
       "| 23|[Person]|      Kevin Pollak|\n",
       "| 24|[Person]|        J.T. Walsh|\n",
       "+---+--------+------------------+\n",
       "only showing top 20 rows"
      ]
     },
     "execution_count": 23,
     "metadata": {},
     "output_type": "execute_result"
    }
   ],
   "source": [
    "movies_df = (spark.read\n",
    "            .format('org.neo4j.spark.DataSource')\n",
    "            .option('labels', ':Movie')\n",
    "            .load())\n",
    "\n",
    "new_movies_df = movies_df.withColumnsRenamed({'<id>': 'id', '<labels>': 'labels', 'title': 'name'}).select('id', 'labels', 'name')\n",
    "\n",
    "person_df = (spark.read\n",
    "            .format('org.neo4j.spark.DataSource')\n",
    "            .option('labels', ':Person')\n",
    "            .load())\n",
    "\n",
    "\n",
    "new_person_df = person_df.withColumnsRenamed({'<id>': 'id', '<labels>': 'labels'}).select('id', 'labels', 'name')\n",
    "\n",
    "person_movie_df = new_person_df.union(new_movies_df)\n",
    "\n",
    "person_movie_df"
   ]
  },
  {
   "cell_type": "markdown",
   "metadata": {},
   "source": [
    "#Possible solution with dataframes:\n",
    "\n",
    "<details>\n",
    "<summary>\n",
    "Show a possible solution\n",
    "</summary>\n",
    "\n",
    "```python\n",
    "person_and_movies_df = (spark.read\n",
    "            .format('org.neo4j.spark.DataSource')\n",
    "            .option('labels', ':Person')\n",
    "            #.option('labels', ':Person')\n",
    "            .load())\n",
    "#person_and_movies_df.tail(350)\n",
    "person_df = (spark.read\n",
    "  .format('org.neo4j.spark.DataSource')\n",
    "  .option('labels', ':Person')\n",
    "  .load())\n",
    "\n",
    "persons_id_df = person_df.withColumnsRenamed({'<id>': 'id', '<labels>': 'labels'}).select('id','name','labels')\n",
    "movies_id_df = movies_df.withColumnsRenamed({'<id>': 'id', 'title':'name', '<labels>': 'labels'}).select('id','name','labels')\n",
    "\n",
    "\n",
    "persons_id_df.show()\n",
    "movies_id_df.show()\n",
    "person_and_movies_df = persons_id_df.union(movies_id_df)\n",
    "\n",
    "person_and_movies_df.tail(10)\n",
    "```\n",
    "\n",
    "</details>"
   ]
  },
  {
   "cell_type": "markdown",
   "metadata": {},
   "source": [
    "Now do the same with the relationships between movies and actors. We will use the `acted_in` dataframe defined above "
   ]
  },
  {
   "cell_type": "code",
   "execution_count": 24,
   "metadata": {},
   "outputs": [
    {
     "data": {
      "text/html": [
       "<table border='1'>\n",
       "<tr><th>id</th><th>relationship</th><th>src</th><th>sourcel_labels</th><th>source_name</th><th>source_born</th><th>dst</th><th>target_labels</th><th>target_title</th><th>target_tagline</th><th>target_released</th><th>rel_roles</th></tr>\n",
       "<tr><td>7</td><td>ACTED_IN</td><td>8</td><td>[Person]</td><td>Emil Eifrem</td><td>1978</td><td>0</td><td>[Movie]</td><td>The Matrix</td><td>Welcome to the Re...</td><td>1999</td><td>[Emil]</td></tr>\n",
       "<tr><td>3</td><td>ACTED_IN</td><td>4</td><td>[Person]</td><td>Hugo Weaving</td><td>1960</td><td>0</td><td>[Movie]</td><td>The Matrix</td><td>Welcome to the Re...</td><td>1999</td><td>[Agent Smith]</td></tr>\n",
       "<tr><td>2</td><td>ACTED_IN</td><td>3</td><td>[Person]</td><td>Laurence Fishburne</td><td>1961</td><td>0</td><td>[Movie]</td><td>The Matrix</td><td>Welcome to the Re...</td><td>1999</td><td>[Morpheus]</td></tr>\n",
       "<tr><td>1</td><td>ACTED_IN</td><td>2</td><td>[Person]</td><td>Carrie-Anne Moss</td><td>1967</td><td>0</td><td>[Movie]</td><td>The Matrix</td><td>Welcome to the Re...</td><td>1999</td><td>[Trinity]</td></tr>\n",
       "<tr><td>0</td><td>ACTED_IN</td><td>1</td><td>[Person]</td><td>Keanu Reeves</td><td>1964</td><td>0</td><td>[Movie]</td><td>The Matrix</td><td>Welcome to the Re...</td><td>1999</td><td>[Neo]</td></tr>\n",
       "<tr><td>11</td><td>ACTED_IN</td><td>4</td><td>[Person]</td><td>Hugo Weaving</td><td>1960</td><td>9</td><td>[Movie]</td><td>The Matrix Reloaded</td><td>Free your mind</td><td>2003</td><td>[Agent Smith]</td></tr>\n",
       "<tr><td>10</td><td>ACTED_IN</td><td>3</td><td>[Person]</td><td>Laurence Fishburne</td><td>1961</td><td>9</td><td>[Movie]</td><td>The Matrix Reloaded</td><td>Free your mind</td><td>2003</td><td>[Morpheus]</td></tr>\n",
       "<tr><td>9</td><td>ACTED_IN</td><td>2</td><td>[Person]</td><td>Carrie-Anne Moss</td><td>1967</td><td>9</td><td>[Movie]</td><td>The Matrix Reloaded</td><td>Free your mind</td><td>2003</td><td>[Trinity]</td></tr>\n",
       "<tr><td>8</td><td>ACTED_IN</td><td>1</td><td>[Person]</td><td>Keanu Reeves</td><td>1964</td><td>9</td><td>[Movie]</td><td>The Matrix Reloaded</td><td>Free your mind</td><td>2003</td><td>[Neo]</td></tr>\n",
       "<tr><td>18</td><td>ACTED_IN</td><td>4</td><td>[Person]</td><td>Hugo Weaving</td><td>1960</td><td>10</td><td>[Movie]</td><td>The Matrix Revolu...</td><td>Everything that h...</td><td>2003</td><td>[Agent Smith]</td></tr>\n",
       "<tr><td>17</td><td>ACTED_IN</td><td>3</td><td>[Person]</td><td>Laurence Fishburne</td><td>1961</td><td>10</td><td>[Movie]</td><td>The Matrix Revolu...</td><td>Everything that h...</td><td>2003</td><td>[Morpheus]</td></tr>\n",
       "<tr><td>16</td><td>ACTED_IN</td><td>2</td><td>[Person]</td><td>Carrie-Anne Moss</td><td>1967</td><td>10</td><td>[Movie]</td><td>The Matrix Revolu...</td><td>Everything that h...</td><td>2003</td><td>[Trinity]</td></tr>\n",
       "<tr><td>15</td><td>ACTED_IN</td><td>1</td><td>[Person]</td><td>Keanu Reeves</td><td>1964</td><td>10</td><td>[Movie]</td><td>The Matrix Revolu...</td><td>Everything that h...</td><td>2003</td><td>[Neo]</td></tr>\n",
       "<tr><td>24</td><td>ACTED_IN</td><td>13</td><td>[Person]</td><td>Al Pacino</td><td>1940</td><td>11</td><td>[Movie]</td><td>The Devil's Advocate</td><td>Evil has its winn...</td><td>1997</td><td>[John Milton]</td></tr>\n",
       "<tr><td>23</td><td>ACTED_IN</td><td>12</td><td>[Person]</td><td>Charlize Theron</td><td>1975</td><td>11</td><td>[Movie]</td><td>The Devil's Advocate</td><td>Evil has its winn...</td><td>1997</td><td>[Mary Ann Lomax]</td></tr>\n",
       "<tr><td>22</td><td>ACTED_IN</td><td>1</td><td>[Person]</td><td>Keanu Reeves</td><td>1964</td><td>11</td><td>[Movie]</td><td>The Devil's Advocate</td><td>Evil has its winn...</td><td>1997</td><td>[Kevin Lomax]</td></tr>\n",
       "<tr><td>35</td><td>ACTED_IN</td><td>25</td><td>[Person]</td><td>James Marshall</td><td>1967</td><td>15</td><td>[Movie]</td><td>A Few Good Men</td><td>In the heart of t...</td><td>1992</td><td>[Pfc. Louden Downey]</td></tr>\n",
       "<tr><td>33</td><td>ACTED_IN</td><td>23</td><td>[Person]</td><td>Kevin Pollak</td><td>1957</td><td>15</td><td>[Movie]</td><td>A Few Good Men</td><td>In the heart of t...</td><td>1992</td><td>[Lt. Sam Weinberg]</td></tr>\n",
       "<tr><td>34</td><td>ACTED_IN</td><td>24</td><td>[Person]</td><td>J.T. Walsh</td><td>1943</td><td>15</td><td>[Movie]</td><td>A Few Good Men</td><td>In the heart of t...</td><td>1992</td><td>[Lt. Col. Matthew...</td></tr>\n",
       "<tr><td>37</td><td>ACTED_IN</td><td>28</td><td>[Person]</td><td>Aaron Sorkin</td><td>1961</td><td>15</td><td>[Movie]</td><td>A Few Good Men</td><td>In the heart of t...</td><td>1992</td><td>[Man in Bar]</td></tr>\n",
       "</table>\n",
       "only showing top 20 rows\n"
      ],
      "text/plain": [
       "+---+------------+---+--------------+------------------+-----------+---+-------------+--------------------+--------------------+---------------+--------------------+\n",
       "| id|relationship|src|sourcel_labels|       source_name|source_born|dst|target_labels|        target_title|      target_tagline|target_released|           rel_roles|\n",
       "+---+------------+---+--------------+------------------+-----------+---+-------------+--------------------+--------------------+---------------+--------------------+\n",
       "|  7|    ACTED_IN|  8|      [Person]|       Emil Eifrem|       1978|  0|      [Movie]|          The Matrix|Welcome to the Re...|           1999|              [Emil]|\n",
       "|  3|    ACTED_IN|  4|      [Person]|      Hugo Weaving|       1960|  0|      [Movie]|          The Matrix|Welcome to the Re...|           1999|       [Agent Smith]|\n",
       "|  2|    ACTED_IN|  3|      [Person]|Laurence Fishburne|       1961|  0|      [Movie]|          The Matrix|Welcome to the Re...|           1999|          [Morpheus]|\n",
       "|  1|    ACTED_IN|  2|      [Person]|  Carrie-Anne Moss|       1967|  0|      [Movie]|          The Matrix|Welcome to the Re...|           1999|           [Trinity]|\n",
       "|  0|    ACTED_IN|  1|      [Person]|      Keanu Reeves|       1964|  0|      [Movie]|          The Matrix|Welcome to the Re...|           1999|               [Neo]|\n",
       "| 11|    ACTED_IN|  4|      [Person]|      Hugo Weaving|       1960|  9|      [Movie]| The Matrix Reloaded|      Free your mind|           2003|       [Agent Smith]|\n",
       "| 10|    ACTED_IN|  3|      [Person]|Laurence Fishburne|       1961|  9|      [Movie]| The Matrix Reloaded|      Free your mind|           2003|          [Morpheus]|\n",
       "|  9|    ACTED_IN|  2|      [Person]|  Carrie-Anne Moss|       1967|  9|      [Movie]| The Matrix Reloaded|      Free your mind|           2003|           [Trinity]|\n",
       "|  8|    ACTED_IN|  1|      [Person]|      Keanu Reeves|       1964|  9|      [Movie]| The Matrix Reloaded|      Free your mind|           2003|               [Neo]|\n",
       "| 18|    ACTED_IN|  4|      [Person]|      Hugo Weaving|       1960| 10|      [Movie]|The Matrix Revolu...|Everything that h...|           2003|       [Agent Smith]|\n",
       "| 17|    ACTED_IN|  3|      [Person]|Laurence Fishburne|       1961| 10|      [Movie]|The Matrix Revolu...|Everything that h...|           2003|          [Morpheus]|\n",
       "| 16|    ACTED_IN|  2|      [Person]|  Carrie-Anne Moss|       1967| 10|      [Movie]|The Matrix Revolu...|Everything that h...|           2003|           [Trinity]|\n",
       "| 15|    ACTED_IN|  1|      [Person]|      Keanu Reeves|       1964| 10|      [Movie]|The Matrix Revolu...|Everything that h...|           2003|               [Neo]|\n",
       "| 24|    ACTED_IN| 13|      [Person]|         Al Pacino|       1940| 11|      [Movie]|The Devil's Advocate|Evil has its winn...|           1997|       [John Milton]|\n",
       "| 23|    ACTED_IN| 12|      [Person]|   Charlize Theron|       1975| 11|      [Movie]|The Devil's Advocate|Evil has its winn...|           1997|    [Mary Ann Lomax]|\n",
       "| 22|    ACTED_IN|  1|      [Person]|      Keanu Reeves|       1964| 11|      [Movie]|The Devil's Advocate|Evil has its winn...|           1997|       [Kevin Lomax]|\n",
       "| 35|    ACTED_IN| 25|      [Person]|    James Marshall|       1967| 15|      [Movie]|      A Few Good Men|In the heart of t...|           1992|[Pfc. Louden Downey]|\n",
       "| 33|    ACTED_IN| 23|      [Person]|      Kevin Pollak|       1957| 15|      [Movie]|      A Few Good Men|In the heart of t...|           1992|  [Lt. Sam Weinberg]|\n",
       "| 34|    ACTED_IN| 24|      [Person]|        J.T. Walsh|       1943| 15|      [Movie]|      A Few Good Men|In the heart of t...|           1992|[Lt. Col. Matthew...|\n",
       "| 37|    ACTED_IN| 28|      [Person]|      Aaron Sorkin|       1961| 15|      [Movie]|      A Few Good Men|In the heart of t...|           1992|        [Man in Bar]|\n",
       "+---+------------+---+--------------+------------------+-----------+---+-------------+--------------------+--------------------+---------------+--------------------+\n",
       "only showing top 20 rows"
      ]
     },
     "execution_count": 24,
     "metadata": {},
     "output_type": "execute_result"
    }
   ],
   "source": [
    "from graphframes import *\n",
    "\n",
    "actedin_graph_df = actedin_df.withColumnsRenamed({'<source.id>': 'src', \n",
    "                                                  '<target.id>': 'dst', \n",
    "                                                  '<rel.type>': 'relationship', \n",
    "                                                  '<rel.id>': 'id', \n",
    "                                                  '<source.labels>':'sourcel_labels', \n",
    "                                                  '<target.labels>':'target_labels', \n",
    "                                                  'source.name':'source_name',\n",
    "                                                  'source.born':'source_born',\n",
    "                                                  'target.released':'target_released',\n",
    "                                                  'target.tagline': 'target_tagline',\n",
    "                                                  'target.title': 'target_title',\n",
    "                                                  'rel.roles':'rel_roles'})\n",
    "\n",
    "actedin_graph_df"
   ]
  },
  {
   "cell_type": "markdown",
   "metadata": {},
   "source": [
    "## Exercise : \n",
    "Create a graphframe from your two predefined dataframes (one for nodes with movies and persons, one for relationships between them)"
   ]
  },
  {
   "cell_type": "code",
   "execution_count": 25,
   "metadata": {},
   "outputs": [],
   "source": [
    "from graphframes import GraphFrame\n",
    "\n",
    "## your graphframe code here\n",
    "g = GraphFrame(person_movie_df, actedin_graph_df)"
   ]
  },
  {
   "cell_type": "markdown",
   "metadata": {},
   "source": [
    "<details>\n",
    "<summary>\n",
    "Show a possible solution\n",
    "</summary>\n",
    "\n",
    "```python\n",
    "g = GraphFrame(person_and_movies_df, actedin_graph_df)\n",
    "```\n",
    "\n",
    "</details>"
   ]
  },
  {
   "cell_type": "markdown",
   "metadata": {},
   "source": [
    "## Exercice : \n",
    "Using your graphframe, find the outDegrees of all nodes and sort them by descending order. You should also include the id of the corresponding node"
   ]
  },
  {
   "cell_type": "code",
   "execution_count": 26,
   "metadata": {},
   "outputs": [
    {
     "name": "stderr",
     "output_type": "stream",
     "text": [
      "                                                                                \r"
     ]
    },
    {
     "name": "stdout",
     "output_type": "stream",
     "text": [
      "+---+---------+--------+------------------+\n",
      "| id|outDegree|  labels|              name|\n",
      "+---+---------+--------+------------------+\n",
      "| 71|       12|[Person]|         Tom Hanks|\n",
      "|242|       12|[Person]|         Tom Hanks|\n",
      "|  1|        7|[Person]|      Keanu Reeves|\n",
      "|172|        7|[Person]|      Keanu Reeves|\n",
      "| 34|        5|[Person]|          Meg Ryan|\n",
      "|188|        5|[Person]|    Jack Nicholson|\n",
      "| 17|        5|[Person]|    Jack Nicholson|\n",
      "|205|        5|[Person]|          Meg Ryan|\n",
      "|175|        5|[Person]|      Hugo Weaving|\n",
      "|  4|        5|[Person]|      Hugo Weaving|\n",
      "| 22|        4|[Person]|  Cuba Gooding Jr.|\n",
      "|193|        4|[Person]|  Cuba Gooding Jr.|\n",
      "| 19|        3|[Person]|       Kevin Bacon|\n",
      "|224|        3|[Person]|        Helen Hunt|\n",
      "|190|        3|[Person]|       Kevin Bacon|\n",
      "|187|        3|[Person]|        Tom Cruise|\n",
      "|146|        3|[Person]|       Bill Paxton|\n",
      "|174|        3|[Person]|Laurence Fishburne|\n",
      "|120|        3|[Person]|         Ben Miles|\n",
      "| 89|        3|[Person]|      Gene Hackman|\n",
      "+---+---------+--------+------------------+\n",
      "only showing top 20 rows\n",
      "\n"
     ]
    }
   ],
   "source": [
    "# outDegree code here\n",
    "from pyspark.sql.functions import desc, asc\n",
    "vertices_degree = g.outDegrees\n",
    "joined = vertices_degree.join(g.vertices, \"id\")\n",
    "joined.sort(desc(\"outDegree\")).show()"
   ]
  },
  {
   "cell_type": "markdown",
   "metadata": {},
   "source": [
    "<details>\n",
    "<summary>\n",
    "Show a possible solution\n",
    "</summary>\n",
    "\n",
    "```python\n",
    "from pyspark.sql.functions import desc, asc\n",
    "vertices_degree = g.outDegrees\n",
    "joined = vertices_degree.join(g.vertices, \"id\")\n",
    "joined.sort(desc(\"outDegree\")).show()\n",
    "```\n",
    "\n",
    "</details>"
   ]
  },
  {
   "cell_type": "markdown",
   "metadata": {},
   "source": [
    "Alternatively, if you would like to know the movies with the highest number of persons involved, you would do the opposite:"
   ]
  },
  {
   "cell_type": "markdown",
   "metadata": {},
   "source": [
    "<details>\n",
    "<summary>\n",
    "Show a possible solution\n",
    "</summary>\n",
    "\n",
    "```python\n",
    "from pyspark.sql.functions import desc, asc\n",
    "vertices_degree = g.inDegrees\n",
    "joined = vertices_degree.join(g.vertices, \"id\")\n",
    "joined.sort(desc(\"inDegree\")).show()\n",
    "```\n",
    "\n",
    "</details>"
   ]
  },
  {
   "cell_type": "markdown",
   "metadata": {},
   "source": [
    "Now we will try to to pattern matching as in cypher but using the graphframes API, see \"Motif finding\" in the documentation. "
   ]
  },
  {
   "cell_type": "markdown",
   "metadata": {},
   "source": [
    "## Exercise :\n",
    "Starting from Jack Nicholson's corresponding node, find persons that have an indirect relationship with him (2 edges) using pattern matching."
   ]
  },
  {
   "cell_type": "code",
   "execution_count": 27,
   "metadata": {},
   "outputs": [
    {
     "name": "stderr",
     "output_type": "stream",
     "text": [
      "                                                                                \r"
     ]
    },
    {
     "name": "stdout",
     "output_type": "stream",
     "text": [
      "+--------------------+--------------------+--------------------+--------------------+--------------------+\n",
      "|                   a|                   e|                   b|                  a2|                  e2|\n",
      "+--------------------+--------------------+--------------------+--------------------+--------------------+\n",
      "|{188, [Person], J...|{472, ACTED_IN, 1...|{325, [Movie], So...|{172, [Person], K...|{474, ACTED_IN, 1...|\n",
      "|{188, [Person], J...|{472, ACTED_IN, 1...|{325, [Movie], So...|{326, [Person], D...|{473, ACTED_IN, 3...|\n",
      "|{188, [Person], J...|{469, ACTED_IN, 1...|{323, [Movie], On...|{313, [Person], D...|{470, ACTED_IN, 3...|\n",
      "|{188, [Person], J...|{450, ACTED_IN, 1...|{312, [Movie], Ho...|{313, [Person], D...|{451, ACTED_IN, 3...|\n",
      "|{188, [Person], J...|{450, ACTED_IN, 1...|{312, [Movie], Ho...|{195, [Person], J...|{452, ACTED_IN, 1...|\n",
      "|{188, [Person], J...|{450, ACTED_IN, 1...|{312, [Movie], Ho...|{314, [Person], J...|{453, ACTED_IN, 3...|\n",
      "|{188, [Person], J...|{321, ACTED_IN, 1...|{223, [Movie], As...|{225, [Person], G...|{323, ACTED_IN, 2...|\n",
      "|{188, [Person], J...|{321, ACTED_IN, 1...|{223, [Movie], As...|{193, [Person], C...|{324, ACTED_IN, 1...|\n",
      "|{188, [Person], J...|{321, ACTED_IN, 1...|{223, [Movie], As...|{224, [Person], H...|{322, ACTED_IN, 2...|\n",
      "|{188, [Person], J...|{280, ACTED_IN, 1...|{186, [Movie], A ...|{189, [Person], D...|{281, ACTED_IN, 1...|\n",
      "|{188, [Person], J...|{280, ACTED_IN, 1...|{186, [Movie], A ...|{187, [Person], T...|{279, ACTED_IN, 1...|\n",
      "|{188, [Person], J...|{280, ACTED_IN, 1...|{186, [Movie], A ...|{190, [Person], K...|{282, ACTED_IN, 1...|\n",
      "|{188, [Person], J...|{280, ACTED_IN, 1...|{186, [Movie], A ...|{199, [Person], A...|{290, ACTED_IN, 1...|\n",
      "|{188, [Person], J...|{280, ACTED_IN, 1...|{186, [Movie], A ...|{192, [Person], N...|{284, ACTED_IN, 1...|\n",
      "|{188, [Person], J...|{280, ACTED_IN, 1...|{186, [Movie], A ...|{196, [Person], J...|{288, ACTED_IN, 1...|\n",
      "|{188, [Person], J...|{280, ACTED_IN, 1...|{186, [Movie], A ...|{193, [Person], C...|{285, ACTED_IN, 1...|\n",
      "|{188, [Person], J...|{280, ACTED_IN, 1...|{186, [Movie], A ...|{194, [Person], K...|{286, ACTED_IN, 1...|\n",
      "|{188, [Person], J...|{280, ACTED_IN, 1...|{186, [Movie], A ...|{197, [Person], C...|{289, ACTED_IN, 1...|\n",
      "|{188, [Person], J...|{280, ACTED_IN, 1...|{186, [Movie], A ...|{191, [Person], K...|{283, ACTED_IN, 1...|\n",
      "|{188, [Person], J...|{280, ACTED_IN, 1...|{186, [Movie], A ...|{195, [Person], J...|{287, ACTED_IN, 1...|\n",
      "+--------------------+--------------------+--------------------+--------------------+--------------------+\n",
      "only showing top 20 rows\n",
      "\n"
     ]
    }
   ],
   "source": [
    "## motif/pattern matching code here\n",
    "motifs = g.find(\"(a)-[e]->(b); (a2)-[e2]->(b)\")\n",
    "motifs.filter(\"a.name == \\\"Jack Nicholson\\\"\").filter(\"a != a2\").show()\n"
   ]
  },
  {
   "cell_type": "markdown",
   "metadata": {},
   "source": [
    "<details>\n",
    "<summary>\n",
    "Show a possible solution\n",
    "</summary>\n",
    "\n",
    "```python\n",
    "\n",
    "motifs = g.find(\"(a)-[e]->(b); (a2)-[e2]->(b)\")\n",
    "motifs.filter(\"a.name == \\\"Jack Nicholson\\\"\").filter(\"a != a2\").show()\n",
    "\n",
    "```\n",
    "\n",
    "</details>"
   ]
  },
  {
   "cell_type": "markdown",
   "metadata": {},
   "source": [
    "Finally we will demonstrate the use of graph algorithms. First, we will try to run the [pageRank](https://en.wikipedia.org/wiki/PageRank) algorithm on our graph. \n",
    "The PageRank algorithm was introduced by Google to measure the importance of webpages. In the graph context, the pageRank \n",
    "is statistically linked to its out/in degree. What do you expect using this algorithm on our movie graph ? "
   ]
  },
  {
   "cell_type": "markdown",
   "metadata": {},
   "source": [
    "## Exercise :\n",
    "Use the pageRank algorithm on our graph and extract the top ten movies sorted by pageRank. \n",
    "You should notice a similarity between the movies ranked by inDegrees earlier, and this new dataframe"
   ]
  },
  {
   "cell_type": "code",
   "execution_count": 28,
   "metadata": {},
   "outputs": [
    {
     "name": "stderr",
     "output_type": "stream",
     "text": [
      "                                                                                \r"
     ]
    }
   ],
   "source": [
    "# run page rank here\n",
    "results = g.pageRank(resetProbability=0.15, maxIter=100)"
   ]
  },
  {
   "cell_type": "markdown",
   "metadata": {},
   "source": [
    "<details>\n",
    "<summary>\n",
    "Show a possible solution\n",
    "</summary>\n",
    "\n",
    "```python\n",
    "results = g.pageRank(resetProbability=0.15, maxIter=100)\n",
    "```\n",
    "\n",
    "</details>"
   ]
  },
  {
   "cell_type": "code",
   "execution_count": 30,
   "metadata": {},
   "outputs": [
    {
     "ename": "Py4JJavaError",
     "evalue": "An error occurred while calling o235.collectToPython.\n: java.net.UnknownHostException: neo4j: Temporary failure in name resolution\n\tat org.neo4j.driver.internal.util.Futures.blockingGet(Futures.java:111)\n\tat org.neo4j.driver.internal.InternalSession.run(InternalSession.java:62)\n\tat org.neo4j.driver.internal.InternalSession.run(InternalSession.java:47)\n\tat org.neo4j.driver.internal.AbstractQueryRunner.run(AbstractQueryRunner.java:34)\n\tat org.neo4j.driver.internal.AbstractQueryRunner.run(AbstractQueryRunner.java:49)\n\tat org.neo4j.spark.util.ValidateConnection.validate(Validations.scala:98)\n\tat org.neo4j.spark.util.ValidateRead.validate(Validations.scala:197)\n\tat org.neo4j.spark.util.Validations$.$anonfun$validate$1(Validations.scala:15)\n\tat org.neo4j.spark.util.Validations$.$anonfun$validate$1$adapted(Validations.scala:15)\n\tat scala.collection.immutable.Set$Set1.foreach(Set.scala:141)\n\tat org.neo4j.spark.util.Validations$.validate(Validations.scala:15)\n\tat org.neo4j.spark.Neo4jTable.newScanBuilder(Neo4jTable.scala:38)\n\tat org.neo4j.spark.Neo4jTable.newScanBuilder(Neo4jTable.scala:16)\n\tat org.apache.spark.sql.execution.datasources.v2.V2ScanRelationPushDown$$anonfun$createScanBuilder$1.applyOrElse(V2ScanRelationPushDown.scala:58)\n\tat org.apache.spark.sql.execution.datasources.v2.V2ScanRelationPushDown$$anonfun$createScanBuilder$1.applyOrElse(V2ScanRelationPushDown.scala:56)\n\tat org.apache.spark.sql.catalyst.trees.TreeNode.$anonfun$transformDownWithPruning$1(TreeNode.scala:461)\n\tat org.apache.spark.sql.catalyst.trees.CurrentOrigin$.withOrigin(origin.scala:76)\n\tat org.apache.spark.sql.catalyst.trees.TreeNode.transformDownWithPruning(TreeNode.scala:461)\n\tat org.apache.spark.sql.catalyst.plans.logical.LogicalPlan.org$apache$spark$sql$catalyst$plans$logical$AnalysisHelper$$super$transformDownWithPruning(LogicalPlan.scala:32)\n\tat org.apache.spark.sql.catalyst.plans.logical.AnalysisHelper.transformDownWithPruning(AnalysisHelper.scala:267)\n\tat org.apache.spark.sql.catalyst.plans.logical.AnalysisHelper.transformDownWithPruning$(AnalysisHelper.scala:263)\n\tat org.apache.spark.sql.catalyst.plans.logical.LogicalPlan.transformDownWithPruning(LogicalPlan.scala:32)\n\tat org.apache.spark.sql.catalyst.plans.logical.LogicalPlan.transformDownWithPruning(LogicalPlan.scala:32)\n\tat org.apache.spark.sql.catalyst.trees.TreeNode.$anonfun$transformDownWithPruning$3(TreeNode.scala:466)\n\tat org.apache.spark.sql.catalyst.trees.UnaryLike.mapChildren(TreeNode.scala:1216)\n\tat org.apache.spark.sql.catalyst.trees.UnaryLike.mapChildren$(TreeNode.scala:1215)\n\tat org.apache.spark.sql.catalyst.plans.logical.Filter.mapChildren(basicLogicalOperators.scala:316)\n\tat org.apache.spark.sql.catalyst.trees.TreeNode.transformDownWithPruning(TreeNode.scala:466)\n\tat org.apache.spark.sql.catalyst.plans.logical.LogicalPlan.org$apache$spark$sql$catalyst$plans$logical$AnalysisHelper$$super$transformDownWithPruning(LogicalPlan.scala:32)\n\tat org.apache.spark.sql.catalyst.plans.logical.AnalysisHelper.transformDownWithPruning(AnalysisHelper.scala:267)\n\tat org.apache.spark.sql.catalyst.plans.logical.AnalysisHelper.transformDownWithPruning$(AnalysisHelper.scala:263)\n\tat org.apache.spark.sql.catalyst.plans.logical.LogicalPlan.transformDownWithPruning(LogicalPlan.scala:32)\n\tat org.apache.spark.sql.catalyst.plans.logical.LogicalPlan.transformDownWithPruning(LogicalPlan.scala:32)\n\tat org.apache.spark.sql.catalyst.trees.TreeNode.$anonfun$transformDownWithPruning$3(TreeNode.scala:466)\n\tat org.apache.spark.sql.catalyst.trees.UnaryLike.mapChildren(TreeNode.scala:1216)\n\tat org.apache.spark.sql.catalyst.trees.UnaryLike.mapChildren$(TreeNode.scala:1215)\n\tat org.apache.spark.sql.catalyst.plans.logical.Project.mapChildren(basicLogicalOperators.scala:71)\n\tat org.apache.spark.sql.catalyst.trees.TreeNode.transformDownWithPruning(TreeNode.scala:466)\n\tat org.apache.spark.sql.catalyst.plans.logical.LogicalPlan.org$apache$spark$sql$catalyst$plans$logical$AnalysisHelper$$super$transformDownWithPruning(LogicalPlan.scala:32)\n\tat org.apache.spark.sql.catalyst.plans.logical.AnalysisHelper.transformDownWithPruning(AnalysisHelper.scala:267)\n\tat org.apache.spark.sql.catalyst.plans.logical.AnalysisHelper.transformDownWithPruning$(AnalysisHelper.scala:263)\n\tat org.apache.spark.sql.catalyst.plans.logical.LogicalPlan.transformDownWithPruning(LogicalPlan.scala:32)\n\tat org.apache.spark.sql.catalyst.plans.logical.LogicalPlan.transformDownWithPruning(LogicalPlan.scala:32)\n\tat org.apache.spark.sql.catalyst.trees.TreeNode.$anonfun$transformDownWithPruning$3(TreeNode.scala:466)\n\tat scala.collection.TraversableLike.$anonfun$map$1(TraversableLike.scala:286)\n\tat scala.collection.mutable.ResizableArray.foreach(ResizableArray.scala:62)\n\tat scala.collection.mutable.ResizableArray.foreach$(ResizableArray.scala:55)\n\tat scala.collection.mutable.ArrayBuffer.foreach(ArrayBuffer.scala:49)\n\tat scala.collection.TraversableLike.map(TraversableLike.scala:286)\n\tat scala.collection.TraversableLike.map$(TraversableLike.scala:279)\n\tat scala.collection.AbstractTraversable.map(Traversable.scala:108)\n\tat org.apache.spark.sql.catalyst.trees.TreeNode.mapChildren(TreeNode.scala:699)\n\tat org.apache.spark.sql.catalyst.trees.TreeNode.transformDownWithPruning(TreeNode.scala:466)\n\tat org.apache.spark.sql.catalyst.plans.logical.LogicalPlan.org$apache$spark$sql$catalyst$plans$logical$AnalysisHelper$$super$transformDownWithPruning(LogicalPlan.scala:32)\n\tat org.apache.spark.sql.catalyst.plans.logical.AnalysisHelper.transformDownWithPruning(AnalysisHelper.scala:267)\n\tat org.apache.spark.sql.catalyst.plans.logical.AnalysisHelper.transformDownWithPruning$(AnalysisHelper.scala:263)\n\tat org.apache.spark.sql.catalyst.plans.logical.LogicalPlan.transformDownWithPruning(LogicalPlan.scala:32)\n\tat org.apache.spark.sql.catalyst.plans.logical.LogicalPlan.transformDownWithPruning(LogicalPlan.scala:32)\n\tat org.apache.spark.sql.catalyst.trees.TreeNode.$anonfun$transformDownWithPruning$3(TreeNode.scala:466)\n\tat org.apache.spark.sql.catalyst.trees.BinaryLike.mapChildren(TreeNode.scala:1242)\n\tat org.apache.spark.sql.catalyst.trees.BinaryLike.mapChildren$(TreeNode.scala:1241)\n\tat org.apache.spark.sql.catalyst.plans.logical.Join.mapChildren(basicLogicalOperators.scala:543)\n\tat org.apache.spark.sql.catalyst.trees.TreeNode.transformDownWithPruning(TreeNode.scala:466)\n\tat org.apache.spark.sql.catalyst.plans.logical.LogicalPlan.org$apache$spark$sql$catalyst$plans$logical$AnalysisHelper$$super$transformDownWithPruning(LogicalPlan.scala:32)\n\tat org.apache.spark.sql.catalyst.plans.logical.AnalysisHelper.transformDownWithPruning(AnalysisHelper.scala:267)\n\tat org.apache.spark.sql.catalyst.plans.logical.AnalysisHelper.transformDownWithPruning$(AnalysisHelper.scala:263)\n\tat org.apache.spark.sql.catalyst.plans.logical.LogicalPlan.transformDownWithPruning(LogicalPlan.scala:32)\n\tat org.apache.spark.sql.catalyst.plans.logical.LogicalPlan.transformDownWithPruning(LogicalPlan.scala:32)\n\tat org.apache.spark.sql.catalyst.trees.TreeNode.$anonfun$transformDownWithPruning$3(TreeNode.scala:466)\n\tat org.apache.spark.sql.catalyst.trees.UnaryLike.mapChildren(TreeNode.scala:1216)\n\tat org.apache.spark.sql.catalyst.trees.UnaryLike.mapChildren$(TreeNode.scala:1215)\n\tat org.apache.spark.sql.catalyst.plans.logical.Project.mapChildren(basicLogicalOperators.scala:71)\n\tat org.apache.spark.sql.catalyst.trees.TreeNode.transformDownWithPruning(TreeNode.scala:466)\n\tat org.apache.spark.sql.catalyst.plans.logical.LogicalPlan.org$apache$spark$sql$catalyst$plans$logical$AnalysisHelper$$super$transformDownWithPruning(LogicalPlan.scala:32)\n\tat org.apache.spark.sql.catalyst.plans.logical.AnalysisHelper.transformDownWithPruning(AnalysisHelper.scala:267)\n\tat org.apache.spark.sql.catalyst.plans.logical.AnalysisHelper.transformDownWithPruning$(AnalysisHelper.scala:263)\n\tat org.apache.spark.sql.catalyst.plans.logical.LogicalPlan.transformDownWithPruning(LogicalPlan.scala:32)\n\tat org.apache.spark.sql.catalyst.plans.logical.LogicalPlan.transformDownWithPruning(LogicalPlan.scala:32)\n\tat org.apache.spark.sql.catalyst.trees.TreeNode.$anonfun$transformDownWithPruning$3(TreeNode.scala:466)\n\tat org.apache.spark.sql.catalyst.trees.UnaryLike.mapChildren(TreeNode.scala:1216)\n\tat org.apache.spark.sql.catalyst.trees.UnaryLike.mapChildren$(TreeNode.scala:1215)\n\tat org.apache.spark.sql.catalyst.plans.logical.Sort.mapChildren(basicLogicalOperators.scala:920)\n\tat org.apache.spark.sql.catalyst.trees.TreeNode.transformDownWithPruning(TreeNode.scala:466)\n\tat org.apache.spark.sql.catalyst.plans.logical.LogicalPlan.org$apache$spark$sql$catalyst$plans$logical$AnalysisHelper$$super$transformDownWithPruning(LogicalPlan.scala:32)\n\tat org.apache.spark.sql.catalyst.plans.logical.AnalysisHelper.transformDownWithPruning(AnalysisHelper.scala:267)\n\tat org.apache.spark.sql.catalyst.plans.logical.AnalysisHelper.transformDownWithPruning$(AnalysisHelper.scala:263)\n\tat org.apache.spark.sql.catalyst.plans.logical.LogicalPlan.transformDownWithPruning(LogicalPlan.scala:32)\n\tat org.apache.spark.sql.catalyst.plans.logical.LogicalPlan.transformDownWithPruning(LogicalPlan.scala:32)\n\tat org.apache.spark.sql.catalyst.trees.TreeNode.$anonfun$transformDownWithPruning$3(TreeNode.scala:466)\n\tat org.apache.spark.sql.catalyst.trees.UnaryLike.mapChildren(TreeNode.scala:1216)\n\tat org.apache.spark.sql.catalyst.trees.UnaryLike.mapChildren$(TreeNode.scala:1215)\n\tat org.apache.spark.sql.catalyst.plans.logical.LocalLimit.mapChildren(basicLogicalOperators.scala:1608)\n\tat org.apache.spark.sql.catalyst.trees.TreeNode.transformDownWithPruning(TreeNode.scala:466)\n\tat org.apache.spark.sql.catalyst.plans.logical.LogicalPlan.org$apache$spark$sql$catalyst$plans$logical$AnalysisHelper$$super$transformDownWithPruning(LogicalPlan.scala:32)\n\tat org.apache.spark.sql.catalyst.plans.logical.AnalysisHelper.transformDownWithPruning(AnalysisHelper.scala:267)\n\tat org.apache.spark.sql.catalyst.plans.logical.AnalysisHelper.transformDownWithPruning$(AnalysisHelper.scala:263)\n\tat org.apache.spark.sql.catalyst.plans.logical.LogicalPlan.transformDownWithPruning(LogicalPlan.scala:32)\n\tat org.apache.spark.sql.catalyst.plans.logical.LogicalPlan.transformDownWithPruning(LogicalPlan.scala:32)\n\tat org.apache.spark.sql.catalyst.trees.TreeNode.$anonfun$transformDownWithPruning$3(TreeNode.scala:466)\n\tat org.apache.spark.sql.catalyst.trees.UnaryLike.mapChildren(TreeNode.scala:1216)\n\tat org.apache.spark.sql.catalyst.trees.UnaryLike.mapChildren$(TreeNode.scala:1215)\n\tat org.apache.spark.sql.catalyst.plans.logical.GlobalLimit.mapChildren(basicLogicalOperators.scala:1587)\n\tat org.apache.spark.sql.catalyst.trees.TreeNode.transformDownWithPruning(TreeNode.scala:466)\n\tat org.apache.spark.sql.catalyst.plans.logical.LogicalPlan.org$apache$spark$sql$catalyst$plans$logical$AnalysisHelper$$super$transformDownWithPruning(LogicalPlan.scala:32)\n\tat org.apache.spark.sql.catalyst.plans.logical.AnalysisHelper.transformDownWithPruning(AnalysisHelper.scala:267)\n\tat org.apache.spark.sql.catalyst.plans.logical.AnalysisHelper.transformDownWithPruning$(AnalysisHelper.scala:263)\n\tat org.apache.spark.sql.catalyst.plans.logical.LogicalPlan.transformDownWithPruning(LogicalPlan.scala:32)\n\tat org.apache.spark.sql.catalyst.plans.logical.LogicalPlan.transformDownWithPruning(LogicalPlan.scala:32)\n\tat org.apache.spark.sql.catalyst.trees.TreeNode.transformDown(TreeNode.scala:437)\n\tat org.apache.spark.sql.catalyst.trees.TreeNode.transform(TreeNode.scala:405)\n\tat org.apache.spark.sql.execution.datasources.v2.V2ScanRelationPushDown$.createScanBuilder(V2ScanRelationPushDown.scala:56)\n\tat org.apache.spark.sql.execution.datasources.v2.V2ScanRelationPushDown$.$anonfun$apply$1(V2ScanRelationPushDown.scala:43)\n\tat org.apache.spark.sql.execution.datasources.v2.V2ScanRelationPushDown$.$anonfun$apply$8(V2ScanRelationPushDown.scala:52)\n\tat scala.collection.LinearSeqOptimized.foldLeft(LinearSeqOptimized.scala:126)\n\tat scala.collection.LinearSeqOptimized.foldLeft$(LinearSeqOptimized.scala:122)\n\tat scala.collection.immutable.List.foldLeft(List.scala:91)\n\tat org.apache.spark.sql.execution.datasources.v2.V2ScanRelationPushDown$.apply(V2ScanRelationPushDown.scala:51)\n\tat org.apache.spark.sql.execution.datasources.v2.V2ScanRelationPushDown$.apply(V2ScanRelationPushDown.scala:38)\n\tat org.apache.spark.sql.catalyst.rules.RuleExecutor.$anonfun$execute$2(RuleExecutor.scala:222)\n\tat scala.collection.LinearSeqOptimized.foldLeft(LinearSeqOptimized.scala:126)\n\tat scala.collection.LinearSeqOptimized.foldLeft$(LinearSeqOptimized.scala:122)\n\tat scala.collection.immutable.List.foldLeft(List.scala:91)\n\tat org.apache.spark.sql.catalyst.rules.RuleExecutor.$anonfun$execute$1(RuleExecutor.scala:219)\n\tat org.apache.spark.sql.catalyst.rules.RuleExecutor.$anonfun$execute$1$adapted(RuleExecutor.scala:211)\n\tat scala.collection.immutable.List.foreach(List.scala:431)\n\tat org.apache.spark.sql.catalyst.rules.RuleExecutor.execute(RuleExecutor.scala:211)\n\tat org.apache.spark.sql.catalyst.rules.RuleExecutor.$anonfun$executeAndTrack$1(RuleExecutor.scala:182)\n\tat org.apache.spark.sql.catalyst.QueryPlanningTracker$.withTracker(QueryPlanningTracker.scala:89)\n\tat org.apache.spark.sql.catalyst.rules.RuleExecutor.executeAndTrack(RuleExecutor.scala:182)\n\tat org.apache.spark.sql.execution.QueryExecution.$anonfun$optimizedPlan$1(QueryExecution.scala:152)\n\tat org.apache.spark.sql.catalyst.QueryPlanningTracker.measurePhase(QueryPlanningTracker.scala:138)\n\tat org.apache.spark.sql.execution.QueryExecution.$anonfun$executePhase$2(QueryExecution.scala:219)\n\tat org.apache.spark.sql.execution.QueryExecution$.withInternalError(QueryExecution.scala:546)\n\tat org.apache.spark.sql.execution.QueryExecution.$anonfun$executePhase$1(QueryExecution.scala:219)\n\tat org.apache.spark.sql.SparkSession.withActive(SparkSession.scala:900)\n\tat org.apache.spark.sql.execution.QueryExecution.executePhase(QueryExecution.scala:218)\n\tat org.apache.spark.sql.execution.QueryExecution.optimizedPlan$lzycompute(QueryExecution.scala:148)\n\tat org.apache.spark.sql.execution.QueryExecution.optimizedPlan(QueryExecution.scala:144)\n\tat org.apache.spark.sql.execution.QueryExecution.assertOptimized(QueryExecution.scala:162)\n\tat org.apache.spark.sql.execution.QueryExecution.executedPlan$lzycompute(QueryExecution.scala:182)\n\tat org.apache.spark.sql.execution.QueryExecution.executedPlan(QueryExecution.scala:179)\n\tat org.apache.spark.sql.execution.QueryExecution.simpleString(QueryExecution.scala:238)\n\tat org.apache.spark.sql.execution.QueryExecution.org$apache$spark$sql$execution$QueryExecution$$explainString(QueryExecution.scala:284)\n\tat org.apache.spark.sql.execution.QueryExecution.explainString(QueryExecution.scala:252)\n\tat org.apache.spark.sql.execution.SQLExecution$.$anonfun$withNewExecutionId$6(SQLExecution.scala:117)\n\tat org.apache.spark.sql.execution.SQLExecution$.withSQLConfPropagated(SQLExecution.scala:201)\n\tat org.apache.spark.sql.execution.SQLExecution$.$anonfun$withNewExecutionId$1(SQLExecution.scala:108)\n\tat org.apache.spark.sql.SparkSession.withActive(SparkSession.scala:900)\n\tat org.apache.spark.sql.execution.SQLExecution$.withNewExecutionId(SQLExecution.scala:66)\n\tat org.apache.spark.sql.Dataset.withAction(Dataset.scala:4321)\n\tat org.apache.spark.sql.Dataset.collectToPython(Dataset.scala:4146)\n\tat java.base/jdk.internal.reflect.NativeMethodAccessorImpl.invoke0(Native Method)\n\tat java.base/jdk.internal.reflect.NativeMethodAccessorImpl.invoke(NativeMethodAccessorImpl.java:77)\n\tat java.base/jdk.internal.reflect.DelegatingMethodAccessorImpl.invoke(DelegatingMethodAccessorImpl.java:43)\n\tat java.base/java.lang.reflect.Method.invoke(Method.java:569)\n\tat py4j.reflection.MethodInvoker.invoke(MethodInvoker.java:244)\n\tat py4j.reflection.ReflectionEngine.invoke(ReflectionEngine.java:374)\n\tat py4j.Gateway.invoke(Gateway.java:282)\n\tat py4j.commands.AbstractCommand.invokeMethod(AbstractCommand.java:132)\n\tat py4j.commands.CallCommand.execute(CallCommand.java:79)\n\tat py4j.ClientServerConnection.waitForCommands(ClientServerConnection.java:182)\n\tat py4j.ClientServerConnection.run(ClientServerConnection.java:106)\n\tat java.base/java.lang.Thread.run(Thread.java:840)\n\tSuppressed: org.neo4j.driver.internal.util.ErrorUtil$InternalExceptionCause\n\t\tat java.base/java.net.Inet4AddressImpl.lookupAllHostAddr(Native Method)\n\t\tat java.base/java.net.InetAddress$PlatformNameService.lookupAllHostAddr(InetAddress.java:934)\n\t\tat java.base/java.net.InetAddress.getAddressesFromNameService(InetAddress.java:1543)\n\t\tat java.base/java.net.InetAddress$NameServiceAddresses.get(InetAddress.java:852)\n\t\tat java.base/java.net.InetAddress.getAllByName0(InetAddress.java:1533)\n\t\tat java.base/java.net.InetAddress.getAllByName(InetAddress.java:1385)\n\t\tat java.base/java.net.InetAddress.getAllByName(InetAddress.java:1306)\n\t\tat org.neo4j.driver.internal.DefaultDomainNameResolver.resolve(DefaultDomainNameResolver.java:35)\n\t\tat org.neo4j.driver.internal.cluster.RediscoveryImpl.resolveAllByDomainName(RediscoveryImpl.java:380)\n\t\tat org.neo4j.driver.internal.cluster.RediscoveryImpl.resolve(RediscoveryImpl.java:337)\n\t\tat org.neo4j.driver.internal.cluster.RediscoveryImpl.lookupOnInitialRouter(RediscoveryImpl.java:246)\n\t\tat org.neo4j.driver.internal.cluster.RediscoveryImpl.lookupOnInitialRouterThenOnKnownRouters(RediscoveryImpl.java:198)\n\t\tat org.neo4j.driver.internal.cluster.RediscoveryImpl.lookup(RediscoveryImpl.java:164)\n\t\tat org.neo4j.driver.internal.cluster.RediscoveryImpl.lookupClusterComposition(RediscoveryImpl.java:121)\n\t\tat org.neo4j.driver.internal.cluster.RediscoveryImpl.lookupClusterComposition(RediscoveryImpl.java:108)\n\t\tat org.neo4j.driver.internal.cluster.RoutingTableRegistryImpl.ensureDatabaseNameIsCompleted(RoutingTableRegistryImpl.java:121)\n\t\tat org.neo4j.driver.internal.cluster.RoutingTableRegistryImpl.ensureRoutingTable(RoutingTableRegistryImpl.java:86)\n\t\tat org.neo4j.driver.internal.cluster.loadbalancing.LoadBalancer.acquireConnection(LoadBalancer.java:137)\n\t\tat org.neo4j.driver.internal.async.NetworkSession.lambda$acquireConnection$23(NetworkSession.java:267)\n\t\tat java.base/java.util.concurrent.CompletableFuture.uniComposeStage(CompletableFuture.java:1187)\n\t\tat java.base/java.util.concurrent.CompletableFuture.thenCompose(CompletableFuture.java:2309)\n\t\tat java.base/java.util.concurrent.CompletableFuture.thenCompose(CompletableFuture.java:144)\n\t\tat org.neo4j.driver.internal.async.NetworkSession.acquireConnection(NetworkSession.java:262)\n\t\tat org.neo4j.driver.internal.async.NetworkSession.lambda$buildResultCursorFactory$17(NetworkSession.java:222)\n\t\tat java.base/java.util.concurrent.CompletableFuture.uniComposeStage(CompletableFuture.java:1187)\n\t\tat java.base/java.util.concurrent.CompletableFuture.thenCompose(CompletableFuture.java:2309)\n\t\tat java.base/java.util.concurrent.CompletableFuture.thenCompose(CompletableFuture.java:144)\n\t\tat org.neo4j.driver.internal.async.NetworkSession.buildResultCursorFactory(NetworkSession.java:222)\n\t\tat org.neo4j.driver.internal.async.NetworkSession.runAsync(NetworkSession.java:90)\n\t\tat org.neo4j.driver.internal.InternalSession.run(InternalSession.java:63)\n\t\t... 161 more\n",
     "output_type": "error",
     "traceback": [
      "\u001b[0;31m---------------------------------------------------------------------------\u001b[0m",
      "\u001b[0;31mPy4JJavaError\u001b[0m                             Traceback (most recent call last)",
      "Cell \u001b[0;32mIn[30], line 8\u001b[0m\n\u001b[1;32m      5\u001b[0m is_movie \u001b[38;5;241m=\u001b[39m \u001b[38;5;28;01mlambda\u001b[39;00m x: x \u001b[38;5;241m==\u001b[39m \u001b[38;5;124m\"\u001b[39m\u001b[38;5;124mMovie\u001b[39m\u001b[38;5;124m\"\u001b[39m\n\u001b[1;32m      6\u001b[0m res \u001b[38;5;241m=\u001b[39m graph_df\u001b[38;5;241m.\u001b[39mfilter(exists(col(\u001b[38;5;124m\"\u001b[39m\u001b[38;5;124mlabels\u001b[39m\u001b[38;5;124m\"\u001b[39m), is_movie))\u001b[38;5;241m.\u001b[39msort(desc(\u001b[38;5;124m\"\u001b[39m\u001b[38;5;124mpagerank\u001b[39m\u001b[38;5;124m\"\u001b[39m))\u001b[38;5;241m.\u001b[39mselect(\u001b[38;5;124m\"\u001b[39m\u001b[38;5;124mname\u001b[39m\u001b[38;5;124m\"\u001b[39m, \u001b[38;5;124m\"\u001b[39m\u001b[38;5;124mpagerank\u001b[39m\u001b[38;5;124m\"\u001b[39m)\n\u001b[0;32m----> 8\u001b[0m \u001b[43mres\u001b[49m\u001b[38;5;241;43m.\u001b[39;49m\u001b[43mhead\u001b[49m\u001b[43m(\u001b[49m\u001b[38;5;241;43m10\u001b[39;49m\u001b[43m)\u001b[49m\n",
      "File \u001b[0;32m/opt/conda/lib/python3.12/site-packages/pyspark/sql/dataframe.py:2975\u001b[0m, in \u001b[0;36mDataFrame.head\u001b[0;34m(self, n)\u001b[0m\n\u001b[1;32m   2973\u001b[0m     rs \u001b[38;5;241m=\u001b[39m \u001b[38;5;28mself\u001b[39m\u001b[38;5;241m.\u001b[39mhead(\u001b[38;5;241m1\u001b[39m)\n\u001b[1;32m   2974\u001b[0m     \u001b[38;5;28;01mreturn\u001b[39;00m rs[\u001b[38;5;241m0\u001b[39m] \u001b[38;5;28;01mif\u001b[39;00m rs \u001b[38;5;28;01melse\u001b[39;00m \u001b[38;5;28;01mNone\u001b[39;00m\n\u001b[0;32m-> 2975\u001b[0m \u001b[38;5;28;01mreturn\u001b[39;00m \u001b[38;5;28;43mself\u001b[39;49m\u001b[38;5;241;43m.\u001b[39;49m\u001b[43mtake\u001b[49m\u001b[43m(\u001b[49m\u001b[43mn\u001b[49m\u001b[43m)\u001b[49m\n",
      "File \u001b[0;32m/opt/conda/lib/python3.12/site-packages/pyspark/sql/dataframe.py:1407\u001b[0m, in \u001b[0;36mDataFrame.take\u001b[0;34m(self, num)\u001b[0m\n\u001b[1;32m   1378\u001b[0m \u001b[38;5;28;01mdef\u001b[39;00m \u001b[38;5;21mtake\u001b[39m(\u001b[38;5;28mself\u001b[39m, num: \u001b[38;5;28mint\u001b[39m) \u001b[38;5;241m-\u001b[39m\u001b[38;5;241m>\u001b[39m List[Row]:\n\u001b[1;32m   1379\u001b[0m \u001b[38;5;250m    \u001b[39m\u001b[38;5;124;03m\"\"\"Returns the first ``num`` rows as a :class:`list` of :class:`Row`.\u001b[39;00m\n\u001b[1;32m   1380\u001b[0m \n\u001b[1;32m   1381\u001b[0m \u001b[38;5;124;03m    .. versionadded:: 1.3.0\u001b[39;00m\n\u001b[0;32m   (...)\u001b[0m\n\u001b[1;32m   1405\u001b[0m \u001b[38;5;124;03m    [Row(age=14, name='Tom'), Row(age=23, name='Alice')]\u001b[39;00m\n\u001b[1;32m   1406\u001b[0m \u001b[38;5;124;03m    \"\"\"\u001b[39;00m\n\u001b[0;32m-> 1407\u001b[0m     \u001b[38;5;28;01mreturn\u001b[39;00m \u001b[38;5;28;43mself\u001b[39;49m\u001b[38;5;241;43m.\u001b[39;49m\u001b[43mlimit\u001b[49m\u001b[43m(\u001b[49m\u001b[43mnum\u001b[49m\u001b[43m)\u001b[49m\u001b[38;5;241;43m.\u001b[39;49m\u001b[43mcollect\u001b[49m\u001b[43m(\u001b[49m\u001b[43m)\u001b[49m\n",
      "File \u001b[0;32m/opt/conda/lib/python3.12/site-packages/pyspark/sql/dataframe.py:1263\u001b[0m, in \u001b[0;36mDataFrame.collect\u001b[0;34m(self)\u001b[0m\n\u001b[1;32m   1243\u001b[0m \u001b[38;5;250m\u001b[39m\u001b[38;5;124;03m\"\"\"Returns all the records as a list of :class:`Row`.\u001b[39;00m\n\u001b[1;32m   1244\u001b[0m \n\u001b[1;32m   1245\u001b[0m \u001b[38;5;124;03m.. versionadded:: 1.3.0\u001b[39;00m\n\u001b[0;32m   (...)\u001b[0m\n\u001b[1;32m   1260\u001b[0m \u001b[38;5;124;03m[Row(age=14, name='Tom'), Row(age=23, name='Alice'), Row(age=16, name='Bob')]\u001b[39;00m\n\u001b[1;32m   1261\u001b[0m \u001b[38;5;124;03m\"\"\"\u001b[39;00m\n\u001b[1;32m   1262\u001b[0m \u001b[38;5;28;01mwith\u001b[39;00m SCCallSiteSync(\u001b[38;5;28mself\u001b[39m\u001b[38;5;241m.\u001b[39m_sc):\n\u001b[0;32m-> 1263\u001b[0m     sock_info \u001b[38;5;241m=\u001b[39m \u001b[38;5;28;43mself\u001b[39;49m\u001b[38;5;241;43m.\u001b[39;49m\u001b[43m_jdf\u001b[49m\u001b[38;5;241;43m.\u001b[39;49m\u001b[43mcollectToPython\u001b[49m\u001b[43m(\u001b[49m\u001b[43m)\u001b[49m\n\u001b[1;32m   1264\u001b[0m \u001b[38;5;28;01mreturn\u001b[39;00m \u001b[38;5;28mlist\u001b[39m(_load_from_socket(sock_info, BatchedSerializer(CPickleSerializer())))\n",
      "File \u001b[0;32m/opt/conda/lib/python3.12/site-packages/py4j/java_gateway.py:1322\u001b[0m, in \u001b[0;36mJavaMember.__call__\u001b[0;34m(self, *args)\u001b[0m\n\u001b[1;32m   1316\u001b[0m command \u001b[38;5;241m=\u001b[39m proto\u001b[38;5;241m.\u001b[39mCALL_COMMAND_NAME \u001b[38;5;241m+\u001b[39m\\\n\u001b[1;32m   1317\u001b[0m     \u001b[38;5;28mself\u001b[39m\u001b[38;5;241m.\u001b[39mcommand_header \u001b[38;5;241m+\u001b[39m\\\n\u001b[1;32m   1318\u001b[0m     args_command \u001b[38;5;241m+\u001b[39m\\\n\u001b[1;32m   1319\u001b[0m     proto\u001b[38;5;241m.\u001b[39mEND_COMMAND_PART\n\u001b[1;32m   1321\u001b[0m answer \u001b[38;5;241m=\u001b[39m \u001b[38;5;28mself\u001b[39m\u001b[38;5;241m.\u001b[39mgateway_client\u001b[38;5;241m.\u001b[39msend_command(command)\n\u001b[0;32m-> 1322\u001b[0m return_value \u001b[38;5;241m=\u001b[39m \u001b[43mget_return_value\u001b[49m\u001b[43m(\u001b[49m\n\u001b[1;32m   1323\u001b[0m \u001b[43m    \u001b[49m\u001b[43manswer\u001b[49m\u001b[43m,\u001b[49m\u001b[43m \u001b[49m\u001b[38;5;28;43mself\u001b[39;49m\u001b[38;5;241;43m.\u001b[39;49m\u001b[43mgateway_client\u001b[49m\u001b[43m,\u001b[49m\u001b[43m \u001b[49m\u001b[38;5;28;43mself\u001b[39;49m\u001b[38;5;241;43m.\u001b[39;49m\u001b[43mtarget_id\u001b[49m\u001b[43m,\u001b[49m\u001b[43m \u001b[49m\u001b[38;5;28;43mself\u001b[39;49m\u001b[38;5;241;43m.\u001b[39;49m\u001b[43mname\u001b[49m\u001b[43m)\u001b[49m\n\u001b[1;32m   1325\u001b[0m \u001b[38;5;28;01mfor\u001b[39;00m temp_arg \u001b[38;5;129;01min\u001b[39;00m temp_args:\n\u001b[1;32m   1326\u001b[0m     \u001b[38;5;28;01mif\u001b[39;00m \u001b[38;5;28mhasattr\u001b[39m(temp_arg, \u001b[38;5;124m\"\u001b[39m\u001b[38;5;124m_detach\u001b[39m\u001b[38;5;124m\"\u001b[39m):\n",
      "File \u001b[0;32m/opt/conda/lib/python3.12/site-packages/pyspark/errors/exceptions/captured.py:179\u001b[0m, in \u001b[0;36mcapture_sql_exception.<locals>.deco\u001b[0;34m(*a, **kw)\u001b[0m\n\u001b[1;32m    177\u001b[0m \u001b[38;5;28;01mdef\u001b[39;00m \u001b[38;5;21mdeco\u001b[39m(\u001b[38;5;241m*\u001b[39ma: Any, \u001b[38;5;241m*\u001b[39m\u001b[38;5;241m*\u001b[39mkw: Any) \u001b[38;5;241m-\u001b[39m\u001b[38;5;241m>\u001b[39m Any:\n\u001b[1;32m    178\u001b[0m     \u001b[38;5;28;01mtry\u001b[39;00m:\n\u001b[0;32m--> 179\u001b[0m         \u001b[38;5;28;01mreturn\u001b[39;00m \u001b[43mf\u001b[49m\u001b[43m(\u001b[49m\u001b[38;5;241;43m*\u001b[39;49m\u001b[43ma\u001b[49m\u001b[43m,\u001b[49m\u001b[43m \u001b[49m\u001b[38;5;241;43m*\u001b[39;49m\u001b[38;5;241;43m*\u001b[39;49m\u001b[43mkw\u001b[49m\u001b[43m)\u001b[49m\n\u001b[1;32m    180\u001b[0m     \u001b[38;5;28;01mexcept\u001b[39;00m Py4JJavaError \u001b[38;5;28;01mas\u001b[39;00m e:\n\u001b[1;32m    181\u001b[0m         converted \u001b[38;5;241m=\u001b[39m convert_exception(e\u001b[38;5;241m.\u001b[39mjava_exception)\n",
      "File \u001b[0;32m/opt/conda/lib/python3.12/site-packages/py4j/protocol.py:326\u001b[0m, in \u001b[0;36mget_return_value\u001b[0;34m(answer, gateway_client, target_id, name)\u001b[0m\n\u001b[1;32m    324\u001b[0m value \u001b[38;5;241m=\u001b[39m OUTPUT_CONVERTER[\u001b[38;5;28mtype\u001b[39m](answer[\u001b[38;5;241m2\u001b[39m:], gateway_client)\n\u001b[1;32m    325\u001b[0m \u001b[38;5;28;01mif\u001b[39;00m answer[\u001b[38;5;241m1\u001b[39m] \u001b[38;5;241m==\u001b[39m REFERENCE_TYPE:\n\u001b[0;32m--> 326\u001b[0m     \u001b[38;5;28;01mraise\u001b[39;00m Py4JJavaError(\n\u001b[1;32m    327\u001b[0m         \u001b[38;5;124m\"\u001b[39m\u001b[38;5;124mAn error occurred while calling \u001b[39m\u001b[38;5;132;01m{0}\u001b[39;00m\u001b[38;5;132;01m{1}\u001b[39;00m\u001b[38;5;132;01m{2}\u001b[39;00m\u001b[38;5;124m.\u001b[39m\u001b[38;5;130;01m\\n\u001b[39;00m\u001b[38;5;124m\"\u001b[39m\u001b[38;5;241m.\u001b[39m\n\u001b[1;32m    328\u001b[0m         \u001b[38;5;28mformat\u001b[39m(target_id, \u001b[38;5;124m\"\u001b[39m\u001b[38;5;124m.\u001b[39m\u001b[38;5;124m\"\u001b[39m, name), value)\n\u001b[1;32m    329\u001b[0m \u001b[38;5;28;01melse\u001b[39;00m:\n\u001b[1;32m    330\u001b[0m     \u001b[38;5;28;01mraise\u001b[39;00m Py4JError(\n\u001b[1;32m    331\u001b[0m         \u001b[38;5;124m\"\u001b[39m\u001b[38;5;124mAn error occurred while calling \u001b[39m\u001b[38;5;132;01m{0}\u001b[39;00m\u001b[38;5;132;01m{1}\u001b[39;00m\u001b[38;5;132;01m{2}\u001b[39;00m\u001b[38;5;124m. Trace:\u001b[39m\u001b[38;5;130;01m\\n\u001b[39;00m\u001b[38;5;132;01m{3}\u001b[39;00m\u001b[38;5;130;01m\\n\u001b[39;00m\u001b[38;5;124m\"\u001b[39m\u001b[38;5;241m.\u001b[39m\n\u001b[1;32m    332\u001b[0m         \u001b[38;5;28mformat\u001b[39m(target_id, \u001b[38;5;124m\"\u001b[39m\u001b[38;5;124m.\u001b[39m\u001b[38;5;124m\"\u001b[39m, name, value))\n",
      "\u001b[0;31mPy4JJavaError\u001b[0m: An error occurred while calling o235.collectToPython.\n: java.net.UnknownHostException: neo4j: Temporary failure in name resolution\n\tat org.neo4j.driver.internal.util.Futures.blockingGet(Futures.java:111)\n\tat org.neo4j.driver.internal.InternalSession.run(InternalSession.java:62)\n\tat org.neo4j.driver.internal.InternalSession.run(InternalSession.java:47)\n\tat org.neo4j.driver.internal.AbstractQueryRunner.run(AbstractQueryRunner.java:34)\n\tat org.neo4j.driver.internal.AbstractQueryRunner.run(AbstractQueryRunner.java:49)\n\tat org.neo4j.spark.util.ValidateConnection.validate(Validations.scala:98)\n\tat org.neo4j.spark.util.ValidateRead.validate(Validations.scala:197)\n\tat org.neo4j.spark.util.Validations$.$anonfun$validate$1(Validations.scala:15)\n\tat org.neo4j.spark.util.Validations$.$anonfun$validate$1$adapted(Validations.scala:15)\n\tat scala.collection.immutable.Set$Set1.foreach(Set.scala:141)\n\tat org.neo4j.spark.util.Validations$.validate(Validations.scala:15)\n\tat org.neo4j.spark.Neo4jTable.newScanBuilder(Neo4jTable.scala:38)\n\tat org.neo4j.spark.Neo4jTable.newScanBuilder(Neo4jTable.scala:16)\n\tat org.apache.spark.sql.execution.datasources.v2.V2ScanRelationPushDown$$anonfun$createScanBuilder$1.applyOrElse(V2ScanRelationPushDown.scala:58)\n\tat org.apache.spark.sql.execution.datasources.v2.V2ScanRelationPushDown$$anonfun$createScanBuilder$1.applyOrElse(V2ScanRelationPushDown.scala:56)\n\tat org.apache.spark.sql.catalyst.trees.TreeNode.$anonfun$transformDownWithPruning$1(TreeNode.scala:461)\n\tat org.apache.spark.sql.catalyst.trees.CurrentOrigin$.withOrigin(origin.scala:76)\n\tat org.apache.spark.sql.catalyst.trees.TreeNode.transformDownWithPruning(TreeNode.scala:461)\n\tat org.apache.spark.sql.catalyst.plans.logical.LogicalPlan.org$apache$spark$sql$catalyst$plans$logical$AnalysisHelper$$super$transformDownWithPruning(LogicalPlan.scala:32)\n\tat org.apache.spark.sql.catalyst.plans.logical.AnalysisHelper.transformDownWithPruning(AnalysisHelper.scala:267)\n\tat org.apache.spark.sql.catalyst.plans.logical.AnalysisHelper.transformDownWithPruning$(AnalysisHelper.scala:263)\n\tat org.apache.spark.sql.catalyst.plans.logical.LogicalPlan.transformDownWithPruning(LogicalPlan.scala:32)\n\tat org.apache.spark.sql.catalyst.plans.logical.LogicalPlan.transformDownWithPruning(LogicalPlan.scala:32)\n\tat org.apache.spark.sql.catalyst.trees.TreeNode.$anonfun$transformDownWithPruning$3(TreeNode.scala:466)\n\tat org.apache.spark.sql.catalyst.trees.UnaryLike.mapChildren(TreeNode.scala:1216)\n\tat org.apache.spark.sql.catalyst.trees.UnaryLike.mapChildren$(TreeNode.scala:1215)\n\tat org.apache.spark.sql.catalyst.plans.logical.Filter.mapChildren(basicLogicalOperators.scala:316)\n\tat org.apache.spark.sql.catalyst.trees.TreeNode.transformDownWithPruning(TreeNode.scala:466)\n\tat org.apache.spark.sql.catalyst.plans.logical.LogicalPlan.org$apache$spark$sql$catalyst$plans$logical$AnalysisHelper$$super$transformDownWithPruning(LogicalPlan.scala:32)\n\tat org.apache.spark.sql.catalyst.plans.logical.AnalysisHelper.transformDownWithPruning(AnalysisHelper.scala:267)\n\tat org.apache.spark.sql.catalyst.plans.logical.AnalysisHelper.transformDownWithPruning$(AnalysisHelper.scala:263)\n\tat org.apache.spark.sql.catalyst.plans.logical.LogicalPlan.transformDownWithPruning(LogicalPlan.scala:32)\n\tat org.apache.spark.sql.catalyst.plans.logical.LogicalPlan.transformDownWithPruning(LogicalPlan.scala:32)\n\tat org.apache.spark.sql.catalyst.trees.TreeNode.$anonfun$transformDownWithPruning$3(TreeNode.scala:466)\n\tat org.apache.spark.sql.catalyst.trees.UnaryLike.mapChildren(TreeNode.scala:1216)\n\tat org.apache.spark.sql.catalyst.trees.UnaryLike.mapChildren$(TreeNode.scala:1215)\n\tat org.apache.spark.sql.catalyst.plans.logical.Project.mapChildren(basicLogicalOperators.scala:71)\n\tat org.apache.spark.sql.catalyst.trees.TreeNode.transformDownWithPruning(TreeNode.scala:466)\n\tat org.apache.spark.sql.catalyst.plans.logical.LogicalPlan.org$apache$spark$sql$catalyst$plans$logical$AnalysisHelper$$super$transformDownWithPruning(LogicalPlan.scala:32)\n\tat org.apache.spark.sql.catalyst.plans.logical.AnalysisHelper.transformDownWithPruning(AnalysisHelper.scala:267)\n\tat org.apache.spark.sql.catalyst.plans.logical.AnalysisHelper.transformDownWithPruning$(AnalysisHelper.scala:263)\n\tat org.apache.spark.sql.catalyst.plans.logical.LogicalPlan.transformDownWithPruning(LogicalPlan.scala:32)\n\tat org.apache.spark.sql.catalyst.plans.logical.LogicalPlan.transformDownWithPruning(LogicalPlan.scala:32)\n\tat org.apache.spark.sql.catalyst.trees.TreeNode.$anonfun$transformDownWithPruning$3(TreeNode.scala:466)\n\tat scala.collection.TraversableLike.$anonfun$map$1(TraversableLike.scala:286)\n\tat scala.collection.mutable.ResizableArray.foreach(ResizableArray.scala:62)\n\tat scala.collection.mutable.ResizableArray.foreach$(ResizableArray.scala:55)\n\tat scala.collection.mutable.ArrayBuffer.foreach(ArrayBuffer.scala:49)\n\tat scala.collection.TraversableLike.map(TraversableLike.scala:286)\n\tat scala.collection.TraversableLike.map$(TraversableLike.scala:279)\n\tat scala.collection.AbstractTraversable.map(Traversable.scala:108)\n\tat org.apache.spark.sql.catalyst.trees.TreeNode.mapChildren(TreeNode.scala:699)\n\tat org.apache.spark.sql.catalyst.trees.TreeNode.transformDownWithPruning(TreeNode.scala:466)\n\tat org.apache.spark.sql.catalyst.plans.logical.LogicalPlan.org$apache$spark$sql$catalyst$plans$logical$AnalysisHelper$$super$transformDownWithPruning(LogicalPlan.scala:32)\n\tat org.apache.spark.sql.catalyst.plans.logical.AnalysisHelper.transformDownWithPruning(AnalysisHelper.scala:267)\n\tat org.apache.spark.sql.catalyst.plans.logical.AnalysisHelper.transformDownWithPruning$(AnalysisHelper.scala:263)\n\tat org.apache.spark.sql.catalyst.plans.logical.LogicalPlan.transformDownWithPruning(LogicalPlan.scala:32)\n\tat org.apache.spark.sql.catalyst.plans.logical.LogicalPlan.transformDownWithPruning(LogicalPlan.scala:32)\n\tat org.apache.spark.sql.catalyst.trees.TreeNode.$anonfun$transformDownWithPruning$3(TreeNode.scala:466)\n\tat org.apache.spark.sql.catalyst.trees.BinaryLike.mapChildren(TreeNode.scala:1242)\n\tat org.apache.spark.sql.catalyst.trees.BinaryLike.mapChildren$(TreeNode.scala:1241)\n\tat org.apache.spark.sql.catalyst.plans.logical.Join.mapChildren(basicLogicalOperators.scala:543)\n\tat org.apache.spark.sql.catalyst.trees.TreeNode.transformDownWithPruning(TreeNode.scala:466)\n\tat org.apache.spark.sql.catalyst.plans.logical.LogicalPlan.org$apache$spark$sql$catalyst$plans$logical$AnalysisHelper$$super$transformDownWithPruning(LogicalPlan.scala:32)\n\tat org.apache.spark.sql.catalyst.plans.logical.AnalysisHelper.transformDownWithPruning(AnalysisHelper.scala:267)\n\tat org.apache.spark.sql.catalyst.plans.logical.AnalysisHelper.transformDownWithPruning$(AnalysisHelper.scala:263)\n\tat org.apache.spark.sql.catalyst.plans.logical.LogicalPlan.transformDownWithPruning(LogicalPlan.scala:32)\n\tat org.apache.spark.sql.catalyst.plans.logical.LogicalPlan.transformDownWithPruning(LogicalPlan.scala:32)\n\tat org.apache.spark.sql.catalyst.trees.TreeNode.$anonfun$transformDownWithPruning$3(TreeNode.scala:466)\n\tat org.apache.spark.sql.catalyst.trees.UnaryLike.mapChildren(TreeNode.scala:1216)\n\tat org.apache.spark.sql.catalyst.trees.UnaryLike.mapChildren$(TreeNode.scala:1215)\n\tat org.apache.spark.sql.catalyst.plans.logical.Project.mapChildren(basicLogicalOperators.scala:71)\n\tat org.apache.spark.sql.catalyst.trees.TreeNode.transformDownWithPruning(TreeNode.scala:466)\n\tat org.apache.spark.sql.catalyst.plans.logical.LogicalPlan.org$apache$spark$sql$catalyst$plans$logical$AnalysisHelper$$super$transformDownWithPruning(LogicalPlan.scala:32)\n\tat org.apache.spark.sql.catalyst.plans.logical.AnalysisHelper.transformDownWithPruning(AnalysisHelper.scala:267)\n\tat org.apache.spark.sql.catalyst.plans.logical.AnalysisHelper.transformDownWithPruning$(AnalysisHelper.scala:263)\n\tat org.apache.spark.sql.catalyst.plans.logical.LogicalPlan.transformDownWithPruning(LogicalPlan.scala:32)\n\tat org.apache.spark.sql.catalyst.plans.logical.LogicalPlan.transformDownWithPruning(LogicalPlan.scala:32)\n\tat org.apache.spark.sql.catalyst.trees.TreeNode.$anonfun$transformDownWithPruning$3(TreeNode.scala:466)\n\tat org.apache.spark.sql.catalyst.trees.UnaryLike.mapChildren(TreeNode.scala:1216)\n\tat org.apache.spark.sql.catalyst.trees.UnaryLike.mapChildren$(TreeNode.scala:1215)\n\tat org.apache.spark.sql.catalyst.plans.logical.Sort.mapChildren(basicLogicalOperators.scala:920)\n\tat org.apache.spark.sql.catalyst.trees.TreeNode.transformDownWithPruning(TreeNode.scala:466)\n\tat org.apache.spark.sql.catalyst.plans.logical.LogicalPlan.org$apache$spark$sql$catalyst$plans$logical$AnalysisHelper$$super$transformDownWithPruning(LogicalPlan.scala:32)\n\tat org.apache.spark.sql.catalyst.plans.logical.AnalysisHelper.transformDownWithPruning(AnalysisHelper.scala:267)\n\tat org.apache.spark.sql.catalyst.plans.logical.AnalysisHelper.transformDownWithPruning$(AnalysisHelper.scala:263)\n\tat org.apache.spark.sql.catalyst.plans.logical.LogicalPlan.transformDownWithPruning(LogicalPlan.scala:32)\n\tat org.apache.spark.sql.catalyst.plans.logical.LogicalPlan.transformDownWithPruning(LogicalPlan.scala:32)\n\tat org.apache.spark.sql.catalyst.trees.TreeNode.$anonfun$transformDownWithPruning$3(TreeNode.scala:466)\n\tat org.apache.spark.sql.catalyst.trees.UnaryLike.mapChildren(TreeNode.scala:1216)\n\tat org.apache.spark.sql.catalyst.trees.UnaryLike.mapChildren$(TreeNode.scala:1215)\n\tat org.apache.spark.sql.catalyst.plans.logical.LocalLimit.mapChildren(basicLogicalOperators.scala:1608)\n\tat org.apache.spark.sql.catalyst.trees.TreeNode.transformDownWithPruning(TreeNode.scala:466)\n\tat org.apache.spark.sql.catalyst.plans.logical.LogicalPlan.org$apache$spark$sql$catalyst$plans$logical$AnalysisHelper$$super$transformDownWithPruning(LogicalPlan.scala:32)\n\tat org.apache.spark.sql.catalyst.plans.logical.AnalysisHelper.transformDownWithPruning(AnalysisHelper.scala:267)\n\tat org.apache.spark.sql.catalyst.plans.logical.AnalysisHelper.transformDownWithPruning$(AnalysisHelper.scala:263)\n\tat org.apache.spark.sql.catalyst.plans.logical.LogicalPlan.transformDownWithPruning(LogicalPlan.scala:32)\n\tat org.apache.spark.sql.catalyst.plans.logical.LogicalPlan.transformDownWithPruning(LogicalPlan.scala:32)\n\tat org.apache.spark.sql.catalyst.trees.TreeNode.$anonfun$transformDownWithPruning$3(TreeNode.scala:466)\n\tat org.apache.spark.sql.catalyst.trees.UnaryLike.mapChildren(TreeNode.scala:1216)\n\tat org.apache.spark.sql.catalyst.trees.UnaryLike.mapChildren$(TreeNode.scala:1215)\n\tat org.apache.spark.sql.catalyst.plans.logical.GlobalLimit.mapChildren(basicLogicalOperators.scala:1587)\n\tat org.apache.spark.sql.catalyst.trees.TreeNode.transformDownWithPruning(TreeNode.scala:466)\n\tat org.apache.spark.sql.catalyst.plans.logical.LogicalPlan.org$apache$spark$sql$catalyst$plans$logical$AnalysisHelper$$super$transformDownWithPruning(LogicalPlan.scala:32)\n\tat org.apache.spark.sql.catalyst.plans.logical.AnalysisHelper.transformDownWithPruning(AnalysisHelper.scala:267)\n\tat org.apache.spark.sql.catalyst.plans.logical.AnalysisHelper.transformDownWithPruning$(AnalysisHelper.scala:263)\n\tat org.apache.spark.sql.catalyst.plans.logical.LogicalPlan.transformDownWithPruning(LogicalPlan.scala:32)\n\tat org.apache.spark.sql.catalyst.plans.logical.LogicalPlan.transformDownWithPruning(LogicalPlan.scala:32)\n\tat org.apache.spark.sql.catalyst.trees.TreeNode.transformDown(TreeNode.scala:437)\n\tat org.apache.spark.sql.catalyst.trees.TreeNode.transform(TreeNode.scala:405)\n\tat org.apache.spark.sql.execution.datasources.v2.V2ScanRelationPushDown$.createScanBuilder(V2ScanRelationPushDown.scala:56)\n\tat org.apache.spark.sql.execution.datasources.v2.V2ScanRelationPushDown$.$anonfun$apply$1(V2ScanRelationPushDown.scala:43)\n\tat org.apache.spark.sql.execution.datasources.v2.V2ScanRelationPushDown$.$anonfun$apply$8(V2ScanRelationPushDown.scala:52)\n\tat scala.collection.LinearSeqOptimized.foldLeft(LinearSeqOptimized.scala:126)\n\tat scala.collection.LinearSeqOptimized.foldLeft$(LinearSeqOptimized.scala:122)\n\tat scala.collection.immutable.List.foldLeft(List.scala:91)\n\tat org.apache.spark.sql.execution.datasources.v2.V2ScanRelationPushDown$.apply(V2ScanRelationPushDown.scala:51)\n\tat org.apache.spark.sql.execution.datasources.v2.V2ScanRelationPushDown$.apply(V2ScanRelationPushDown.scala:38)\n\tat org.apache.spark.sql.catalyst.rules.RuleExecutor.$anonfun$execute$2(RuleExecutor.scala:222)\n\tat scala.collection.LinearSeqOptimized.foldLeft(LinearSeqOptimized.scala:126)\n\tat scala.collection.LinearSeqOptimized.foldLeft$(LinearSeqOptimized.scala:122)\n\tat scala.collection.immutable.List.foldLeft(List.scala:91)\n\tat org.apache.spark.sql.catalyst.rules.RuleExecutor.$anonfun$execute$1(RuleExecutor.scala:219)\n\tat org.apache.spark.sql.catalyst.rules.RuleExecutor.$anonfun$execute$1$adapted(RuleExecutor.scala:211)\n\tat scala.collection.immutable.List.foreach(List.scala:431)\n\tat org.apache.spark.sql.catalyst.rules.RuleExecutor.execute(RuleExecutor.scala:211)\n\tat org.apache.spark.sql.catalyst.rules.RuleExecutor.$anonfun$executeAndTrack$1(RuleExecutor.scala:182)\n\tat org.apache.spark.sql.catalyst.QueryPlanningTracker$.withTracker(QueryPlanningTracker.scala:89)\n\tat org.apache.spark.sql.catalyst.rules.RuleExecutor.executeAndTrack(RuleExecutor.scala:182)\n\tat org.apache.spark.sql.execution.QueryExecution.$anonfun$optimizedPlan$1(QueryExecution.scala:152)\n\tat org.apache.spark.sql.catalyst.QueryPlanningTracker.measurePhase(QueryPlanningTracker.scala:138)\n\tat org.apache.spark.sql.execution.QueryExecution.$anonfun$executePhase$2(QueryExecution.scala:219)\n\tat org.apache.spark.sql.execution.QueryExecution$.withInternalError(QueryExecution.scala:546)\n\tat org.apache.spark.sql.execution.QueryExecution.$anonfun$executePhase$1(QueryExecution.scala:219)\n\tat org.apache.spark.sql.SparkSession.withActive(SparkSession.scala:900)\n\tat org.apache.spark.sql.execution.QueryExecution.executePhase(QueryExecution.scala:218)\n\tat org.apache.spark.sql.execution.QueryExecution.optimizedPlan$lzycompute(QueryExecution.scala:148)\n\tat org.apache.spark.sql.execution.QueryExecution.optimizedPlan(QueryExecution.scala:144)\n\tat org.apache.spark.sql.execution.QueryExecution.assertOptimized(QueryExecution.scala:162)\n\tat org.apache.spark.sql.execution.QueryExecution.executedPlan$lzycompute(QueryExecution.scala:182)\n\tat org.apache.spark.sql.execution.QueryExecution.executedPlan(QueryExecution.scala:179)\n\tat org.apache.spark.sql.execution.QueryExecution.simpleString(QueryExecution.scala:238)\n\tat org.apache.spark.sql.execution.QueryExecution.org$apache$spark$sql$execution$QueryExecution$$explainString(QueryExecution.scala:284)\n\tat org.apache.spark.sql.execution.QueryExecution.explainString(QueryExecution.scala:252)\n\tat org.apache.spark.sql.execution.SQLExecution$.$anonfun$withNewExecutionId$6(SQLExecution.scala:117)\n\tat org.apache.spark.sql.execution.SQLExecution$.withSQLConfPropagated(SQLExecution.scala:201)\n\tat org.apache.spark.sql.execution.SQLExecution$.$anonfun$withNewExecutionId$1(SQLExecution.scala:108)\n\tat org.apache.spark.sql.SparkSession.withActive(SparkSession.scala:900)\n\tat org.apache.spark.sql.execution.SQLExecution$.withNewExecutionId(SQLExecution.scala:66)\n\tat org.apache.spark.sql.Dataset.withAction(Dataset.scala:4321)\n\tat org.apache.spark.sql.Dataset.collectToPython(Dataset.scala:4146)\n\tat java.base/jdk.internal.reflect.NativeMethodAccessorImpl.invoke0(Native Method)\n\tat java.base/jdk.internal.reflect.NativeMethodAccessorImpl.invoke(NativeMethodAccessorImpl.java:77)\n\tat java.base/jdk.internal.reflect.DelegatingMethodAccessorImpl.invoke(DelegatingMethodAccessorImpl.java:43)\n\tat java.base/java.lang.reflect.Method.invoke(Method.java:569)\n\tat py4j.reflection.MethodInvoker.invoke(MethodInvoker.java:244)\n\tat py4j.reflection.ReflectionEngine.invoke(ReflectionEngine.java:374)\n\tat py4j.Gateway.invoke(Gateway.java:282)\n\tat py4j.commands.AbstractCommand.invokeMethod(AbstractCommand.java:132)\n\tat py4j.commands.CallCommand.execute(CallCommand.java:79)\n\tat py4j.ClientServerConnection.waitForCommands(ClientServerConnection.java:182)\n\tat py4j.ClientServerConnection.run(ClientServerConnection.java:106)\n\tat java.base/java.lang.Thread.run(Thread.java:840)\n\tSuppressed: org.neo4j.driver.internal.util.ErrorUtil$InternalExceptionCause\n\t\tat java.base/java.net.Inet4AddressImpl.lookupAllHostAddr(Native Method)\n\t\tat java.base/java.net.InetAddress$PlatformNameService.lookupAllHostAddr(InetAddress.java:934)\n\t\tat java.base/java.net.InetAddress.getAddressesFromNameService(InetAddress.java:1543)\n\t\tat java.base/java.net.InetAddress$NameServiceAddresses.get(InetAddress.java:852)\n\t\tat java.base/java.net.InetAddress.getAllByName0(InetAddress.java:1533)\n\t\tat java.base/java.net.InetAddress.getAllByName(InetAddress.java:1385)\n\t\tat java.base/java.net.InetAddress.getAllByName(InetAddress.java:1306)\n\t\tat org.neo4j.driver.internal.DefaultDomainNameResolver.resolve(DefaultDomainNameResolver.java:35)\n\t\tat org.neo4j.driver.internal.cluster.RediscoveryImpl.resolveAllByDomainName(RediscoveryImpl.java:380)\n\t\tat org.neo4j.driver.internal.cluster.RediscoveryImpl.resolve(RediscoveryImpl.java:337)\n\t\tat org.neo4j.driver.internal.cluster.RediscoveryImpl.lookupOnInitialRouter(RediscoveryImpl.java:246)\n\t\tat org.neo4j.driver.internal.cluster.RediscoveryImpl.lookupOnInitialRouterThenOnKnownRouters(RediscoveryImpl.java:198)\n\t\tat org.neo4j.driver.internal.cluster.RediscoveryImpl.lookup(RediscoveryImpl.java:164)\n\t\tat org.neo4j.driver.internal.cluster.RediscoveryImpl.lookupClusterComposition(RediscoveryImpl.java:121)\n\t\tat org.neo4j.driver.internal.cluster.RediscoveryImpl.lookupClusterComposition(RediscoveryImpl.java:108)\n\t\tat org.neo4j.driver.internal.cluster.RoutingTableRegistryImpl.ensureDatabaseNameIsCompleted(RoutingTableRegistryImpl.java:121)\n\t\tat org.neo4j.driver.internal.cluster.RoutingTableRegistryImpl.ensureRoutingTable(RoutingTableRegistryImpl.java:86)\n\t\tat org.neo4j.driver.internal.cluster.loadbalancing.LoadBalancer.acquireConnection(LoadBalancer.java:137)\n\t\tat org.neo4j.driver.internal.async.NetworkSession.lambda$acquireConnection$23(NetworkSession.java:267)\n\t\tat java.base/java.util.concurrent.CompletableFuture.uniComposeStage(CompletableFuture.java:1187)\n\t\tat java.base/java.util.concurrent.CompletableFuture.thenCompose(CompletableFuture.java:2309)\n\t\tat java.base/java.util.concurrent.CompletableFuture.thenCompose(CompletableFuture.java:144)\n\t\tat org.neo4j.driver.internal.async.NetworkSession.acquireConnection(NetworkSession.java:262)\n\t\tat org.neo4j.driver.internal.async.NetworkSession.lambda$buildResultCursorFactory$17(NetworkSession.java:222)\n\t\tat java.base/java.util.concurrent.CompletableFuture.uniComposeStage(CompletableFuture.java:1187)\n\t\tat java.base/java.util.concurrent.CompletableFuture.thenCompose(CompletableFuture.java:2309)\n\t\tat java.base/java.util.concurrent.CompletableFuture.thenCompose(CompletableFuture.java:144)\n\t\tat org.neo4j.driver.internal.async.NetworkSession.buildResultCursorFactory(NetworkSession.java:222)\n\t\tat org.neo4j.driver.internal.async.NetworkSession.runAsync(NetworkSession.java:90)\n\t\tat org.neo4j.driver.internal.InternalSession.run(InternalSession.java:63)\n\t\t... 161 more\n"
     ]
    }
   ],
   "source": [
    "# extract only the movies and sort the pagerank results by descending order, code here\n",
    "from pyspark.sql.functions import desc, asc, filter, array_contains, col, exists\n",
    "\n",
    "graph_df = results.vertices\n",
    "is_movie = lambda x: x == \"Movie\"\n",
    "res = graph_df.filter(exists(col(\"labels\"), is_movie)).sort(desc(\"pagerank\")).select(\"name\", \"pagerank\")\n",
    "\n",
    "res.head(10)"
   ]
  },
  {
   "cell_type": "markdown",
   "metadata": {},
   "source": [
    "<details>\n",
    "<summary>\n",
    "Show a possible solution\n",
    "</summary>\n",
    "\n",
    "```python\n",
    "from pyspark.sql.functions import desc, asc, filter, array_contains, col, exists\n",
    "\n",
    "graph_df = results.vertices\n",
    "is_movie = lambda x: x == \"Movie\"\n",
    "res = graph_df.filter(exists(col(\"labels\"), is_movie)).sort(desc(\"pagerank\")).select(\"name\", \"pagerank\")\n",
    "\n",
    "res.head(10)\n",
    "```\n",
    "\n",
    "</details>"
   ]
  },
  {
   "cell_type": "markdown",
   "metadata": {
    "id": "hFpA11aK8ADf"
   },
   "source": [
    "# Write data from Spark to Neo4j"
   ]
  },
  {
   "cell_type": "markdown",
   "metadata": {
    "id": "Mx84Qi1PcHF_"
   },
   "source": [
    "## The graph model\n",
    "\n",
    "Our goal is to create this simple graph model\n",
    "\n",
    "<img src=\"https://dist.neo4j.com/wp-content/uploads/developer-desktop-csv-import-data_model.svg\" >"
   ]
  },
  {
   "cell_type": "markdown",
   "metadata": {
    "id": "Trt-L_9pMQf1"
   },
   "source": [
    "### Download The Dataset"
   ]
  },
  {
   "cell_type": "code",
   "execution_count": null,
   "metadata": {
    "id": "h4o07NpuJmaG"
   },
   "outputs": [],
   "source": [
    "!wget -q https://s3.amazonaws.com/dev.assets.neo4j.com/wp-content/uploads/desktop-csv-import.zip"
   ]
  },
  {
   "cell_type": "markdown",
   "metadata": {
    "id": "KKfl_ZyhYYWj"
   },
   "source": [
    "The zip is composed of three files:\n",
    "* products.csv: describes the products and has three columns (and no header)\n",
    "* orders.csv: has three columns (with the header) and describe the order\n",
    "* order-details.csv: is the \"join\" table between orders and products; it has three columns with header"
   ]
  },
  {
   "cell_type": "code",
   "execution_count": null,
   "metadata": {
    "id": "nduIG7H_J0-A"
   },
   "outputs": [],
   "source": [
    "!unzip desktop-csv-import.zip"
   ]
  },
  {
   "cell_type": "markdown",
   "metadata": {
    "id": "w5kaTPoEQNkT"
   },
   "source": [
    "### Explore the Dataset"
   ]
  },
  {
   "cell_type": "code",
   "execution_count": null,
   "metadata": {
    "id": "L0TZgi_E1gAv"
   },
   "outputs": [],
   "source": [
    "products_df = (spark.read\n",
    "      .format('csv')\n",
    "      .option('inferSchema', True)\n",
    "      .option('path', '/content/desktop-csv-import/products.csv')\n",
    "      .load())"
   ]
  },
  {
   "cell_type": "code",
   "execution_count": null,
   "metadata": {
    "id": "0tptDEUn2WO6"
   },
   "outputs": [],
   "source": [
    "products_df.printSchema()"
   ]
  },
  {
   "cell_type": "code",
   "execution_count": null,
   "metadata": {
    "id": "ZSW40PxjKvgf"
   },
   "outputs": [],
   "source": [
    "products_df"
   ]
  },
  {
   "cell_type": "markdown",
   "metadata": {
    "id": "VrKERh4uXu8J"
   },
   "source": [
    "As you can see in the schema, colums have no name, just a generic `_c` prefix concatenated with an index.\n",
    "The three columns describe:\n",
    "* `_c0` is the `id` of the product\n",
    "* `_c1` is the `name`\n",
    "* `_c2` is the `price`\n",
    "\n",
    "Let's rename these columns!"
   ]
  },
  {
   "cell_type": "code",
   "execution_count": null,
   "metadata": {
    "id": "7xabRYlXQZl4"
   },
   "outputs": [],
   "source": [
    "products_df = (products_df.withColumnRenamed('_c0', 'id')\n",
    "      .withColumnRenamed('_c1', 'name')\n",
    "      .withColumnRenamed('_c2', 'price'))"
   ]
  },
  {
   "cell_type": "code",
   "execution_count": null,
   "metadata": {
    "id": "w08HTcIeQuNn"
   },
   "outputs": [],
   "source": [
    "products_df.printSchema()"
   ]
  },
  {
   "cell_type": "code",
   "execution_count": null,
   "metadata": {
    "id": "XCkyYIyzQv0X"
   },
   "outputs": [],
   "source": [
    "products_df"
   ]
  },
  {
   "cell_type": "markdown",
   "metadata": {
    "id": "XL9oBe0-m680"
   },
   "source": [
    "## Write nodes via `label` option"
   ]
  },
  {
   "cell_type": "code",
   "execution_count": null,
   "metadata": {
    "id": "Oy4eoeAMRWxc"
   },
   "outputs": [],
   "source": [
    "(products_df.write\n",
    " .format('org.neo4j.spark.DataSource')\n",
    " .mode('append')\n",
    " .option('labels', ':Product')\n",
    " .save())"
   ]
  },
  {
   "cell_type": "markdown",
   "metadata": {
    "id": "MLxewMeFsQj3"
   },
   "source": [
    "Let's check if the nodes are in the database!"
   ]
  },
  {
   "cell_type": "code",
   "execution_count": null,
   "metadata": {
    "id": "2yoBPvmmsUqt"
   },
   "outputs": [],
   "source": [
    "%%cypher\n",
    "MATCH (n:Product)\n",
    "RETURN n\n",
    "LIMIT 10"
   ]
  },
  {
   "cell_type": "markdown",
   "metadata": {
    "id": "10PLvdmZ0tZT"
   },
   "source": [
    "Now just to be sure that we loaded all the nodes into Neo4j we'll count the dataframe and the nodes inside the database"
   ]
  },
  {
   "cell_type": "code",
   "execution_count": null,
   "metadata": {
    "id": "AmwadsK702Sl"
   },
   "outputs": [],
   "source": [
    "products_df.count()"
   ]
  },
  {
   "cell_type": "code",
   "execution_count": null,
   "metadata": {
    "id": "J8e9jZPG06DL"
   },
   "outputs": [],
   "source": [
    "%%cypher\n",
    "MATCH (n:Product)\n",
    "RETURN count(n)"
   ]
  },
  {
   "cell_type": "markdown",
   "metadata": {
    "id": "T8XAaw3K1Mga"
   },
   "source": [
    "If the two counts are equal, all the data has been properly imported."
   ]
  },
  {
   "cell_type": "markdown",
   "metadata": {
    "id": "jFL_tQk0tsni"
   },
   "source": [
    "### Create Constraints\n",
    "\n",
    "Oh but wait, we forgot to create constraints!!! if we go into the Neo4j browser and excute the following query:\n",
    "\n",
    "```cypher\n",
    "show constraints\n",
    "```\n",
    "\n",
    "We should get the constraints of the movie database, but not one for `Product`.\n",
    "\n",
    "So please create the constaints for the node `Product`:\n",
    "\n",
    "```cypher\n",
    "CREATE CONSTRAINT product_id FOR (p:Product) REQUIRE p.id IS UNIQUE;\n",
    "```\n",
    "\n",
    "But if you want, you can also delegate the Spark connector to perform optimizations pre-processing by usign the option `schema.optimization.type` which can assume three values:\n",
    "\n",
    "* `INDEX`: it creates only indexes on provided nodes.\n",
    "* `NODE_CONSTRAINTS`: it creates only indexes on provided nodes.\n",
    "\n",
    "So let's create the `Order` node with by let the connector creating the constraints for you"
   ]
  },
  {
   "cell_type": "code",
   "execution_count": null,
   "metadata": {
    "id": "T3PUsfIvsi23"
   },
   "outputs": [],
   "source": [
    "%%cypher\n",
    "// Check the constraints\n",
    "SHOW CONSTRAINTS"
   ]
  },
  {
   "cell_type": "code",
   "execution_count": null,
   "metadata": {
    "id": "iMF68OU20XhE"
   },
   "outputs": [],
   "source": [
    "%%cypher\n",
    "// Create the constraint for Product node\n",
    "CREATE CONSTRAINT product_id IF NOT EXISTS FOR (p:Product) REQUIRE p.id IS UNIQUE;"
   ]
  },
  {
   "cell_type": "code",
   "execution_count": null,
   "metadata": {
    "id": "w_wSMYvz0fz_"
   },
   "outputs": [],
   "source": [
    "%%cypher\n",
    "// Check (again) the constraints\n",
    "SHOW CONSTRAINTS"
   ]
  },
  {
   "cell_type": "markdown",
   "metadata": {
    "id": "2JwYLMva1VnN"
   },
   "source": [
    "As you can see now we have the `product_id` constraint in the result list"
   ]
  },
  {
   "cell_type": "code",
   "execution_count": null,
   "metadata": {
    "id": "m5ge2R_Ggd3K"
   },
   "outputs": [],
   "source": [
    "orders_df = (spark.read\n",
    "      .format('csv')\n",
    "      .option('inferSchema', True)\n",
    "      .option('header', True)\n",
    "      .option('path', '/content/desktop-csv-import/orders.csv')\n",
    "      .load())"
   ]
  },
  {
   "cell_type": "code",
   "execution_count": null,
   "metadata": {
    "id": "7UGwHtuJwFU4"
   },
   "outputs": [],
   "source": [
    "orders_df.printSchema()"
   ]
  },
  {
   "cell_type": "code",
   "execution_count": null,
   "metadata": {
    "id": "uGmUP5ZMwJkm"
   },
   "outputs": [],
   "source": [
    "orders_df"
   ]
  },
  {
   "cell_type": "code",
   "execution_count": null,
   "metadata": {
    "id": "InwYglcUwXNy"
   },
   "outputs": [],
   "source": [
    "# we cast orderDate to timestamp in order to have it converted properly into Neo4j\n",
    "orders_df = orders_df.selectExpr('orderID AS id', 'CAST(orderDate AS TIMESTAMP) AS date', 'shipCountry')"
   ]
  },
  {
   "cell_type": "code",
   "execution_count": null,
   "metadata": {
    "id": "kSJmW81cw_ES"
   },
   "outputs": [],
   "source": [
    "orders_df.printSchema()"
   ]
  },
  {
   "cell_type": "code",
   "execution_count": null,
   "metadata": {
    "id": "7VN5RAizxSr2"
   },
   "outputs": [],
   "source": [
    "orders_df"
   ]
  },
  {
   "cell_type": "code",
   "execution_count": null,
   "metadata": {
    "id": "0rwKB9V-xTzu"
   },
   "outputs": [],
   "source": [
    "(orders_df.write\n",
    " .format('org.neo4j.spark.DataSource')\n",
    " .mode('overwrite')\n",
    " .option('labels', ':Order')\n",
    " .option('schema.optimization.type', 'NODE_CONSTRAINTS')\n",
    " # this is necessary in order to specify what is the constraint field\n",
    " .option('node.keys', 'id')\n",
    " .save())"
   ]
  },
  {
   "cell_type": "markdown",
   "metadata": {
    "id": "A_T2beEJx3Ho"
   },
   "source": [
    "Now let's check if the connector has created the constraint for us"
   ]
  },
  {
   "cell_type": "code",
   "execution_count": null,
   "metadata": {
    "id": "hDxdKyFY1sDT"
   },
   "outputs": [],
   "source": [
    "%%cypher\n",
    "SHOW CONSTRAINTS"
   ]
  },
  {
   "cell_type": "markdown",
   "metadata": {
    "id": "H5Bne-Mq1vsO"
   },
   "source": [
    "As you can see the we have the constraint `spark_NODE_CONSTRAINTS_Order_id` that has been create by the Spark connector itself.\n",
    "\n",
    "Now just because we're courious let's check if the data has been propertly loaded.\n",
    "\n",
    "The first thing to check is if the count of the Dataframe and the nodes in Neo4j matches."
   ]
  },
  {
   "cell_type": "code",
   "execution_count": null,
   "metadata": {
    "id": "mANrH-Zt2ShO"
   },
   "outputs": [],
   "source": [
    "orders_df.count()"
   ]
  },
  {
   "cell_type": "code",
   "execution_count": null,
   "metadata": {
    "id": "vzCCVYAK2V0X"
   },
   "outputs": [],
   "source": [
    "%%cypher\n",
    "MATCH (o:Order)\n",
    "RETURN count(o)"
   ]
  },
  {
   "cell_type": "markdown",
   "metadata": {
    "id": "X8BBxCQg2dFM"
   },
   "source": [
    "Now we want to check if the data has been loaded with the proper data type, in particular we created a new column `date` by casting `orderDate` to `TIMESTAMP`."
   ]
  },
  {
   "cell_type": "code",
   "execution_count": null,
   "metadata": {
    "id": "VN7XMI192xAP"
   },
   "outputs": [],
   "source": [
    "%%cypher\n",
    "MATCH (o:Order)\n",
    "RETURN apoc.meta.cypher.type(o.date), count(o)"
   ]
  },
  {
   "cell_type": "markdown",
   "metadata": {
    "id": "PpXyKtJF3Lk4"
   },
   "source": [
    "So all the `date` values have the same type."
   ]
  },
  {
   "cell_type": "markdown",
   "metadata": {
    "id": "Zi4Dl2LqmVmN"
   },
   "source": [
    "### Exercise\n",
    "\n",
    "Given the `football_teams_df` and `football_player_df` below please:\n",
    "* for `football_teams_df` insert it as nodes with label `:FootballTeam` in Neo4j.\n",
    "* for `football_player_df` insert it as nodes with label `:FootballPlayer` in Neo4j.\n",
    "\n",
    "Create for both of them constraints via the schema optimization feature:\n",
    "* for `football_teams_df` the key must be the property `id`\n",
    "* for `football_player_df` the key must be the property `name`"
   ]
  },
  {
   "cell_type": "code",
   "execution_count": null,
   "metadata": {
    "id": "21tFDtgAmVON"
   },
   "outputs": [],
   "source": [
    "football_teams_df = spark.createDataFrame([{'id': 1, 'name': 'AC Milan'}, {'id': 2, 'name': 'FC Internazionale'}])\n",
    "football_player_df = spark.createDataFrame([\n",
    "  {'name': 'Zlatan Ibrahimovic'},\n",
    "  {'name': 'Sandro Tonali'},\n",
    "  {'name': 'Nicolò Barella'},\n",
    "  {'name': 'Marcelo Brozovic'}])"
   ]
  },
  {
   "cell_type": "code",
   "execution_count": null,
   "metadata": {
    "id": "utpvz-fI6blD"
   },
   "outputs": [],
   "source": [
    "# write your spark code that persist football_teams_df and football_player_df here"
   ]
  },
  {
   "cell_type": "markdown",
   "metadata": {
    "id": "xeVxPe7PmEy8"
   },
   "source": [
    "<details>\n",
    "<summary>\n",
    "Show a possible solution\n",
    "</summary>\n",
    "\n",
    "```python\n",
    "# write the teams\n",
    "(football_teams_df.write\n",
    " .format('org.neo4j.spark.DataSource')\n",
    " .mode('overwrite')\n",
    " .option('labels', ':FootballTeam')\n",
    " .option('schema.optimization.type', 'NODE_CONSTRAINTS')\n",
    " .option('node.keys', 'id')\n",
    " .save())\n",
    "# write the players\n",
    "(football_player_df.write\n",
    " .format('org.neo4j.spark.DataSource')\n",
    " .mode('overwrite')\n",
    " .option('labels', ':FootballPlayer')\n",
    " .option('schema.optimization.type', 'NODE_CONSTRAINTS')\n",
    " .option('node.keys', 'name')\n",
    " .save())\n",
    "```\n",
    "\n",
    "</details>"
   ]
  },
  {
   "cell_type": "code",
   "execution_count": null,
   "metadata": {
    "id": "a5zQCEyK6h5f"
   },
   "outputs": [],
   "source": [
    "\"\"\"\n",
    " This paragraph is for validating the code the you\n",
    " wrote above, please execute it after you\n",
    " persisted football_teams_df and\n",
    " football_player_df in Neo4j as nodes\n",
    "\"\"\"\n",
    "\n",
    "with neo4j_driver.session() as session:\n",
    "  # count football players\n",
    "  football_players = session.read_transaction(lambda tx: (tx.run('''\n",
    "      MATCH (p:FootballPlayer)\n",
    "      WHERE p.name IN ['Zlatan Ibrahimovic', 'Sandro Tonali',\n",
    "        'Nicolò Barella', 'Marcelo Brozovic']\n",
    "      RETURN count(p) AS count\n",
    "    ''').single()['count']))\n",
    "  assert football_players == 4\n",
    "\n",
    "  # count football teams\n",
    "  football_teams = session.read_transaction(lambda tx: (tx.run('''\n",
    "      MATCH (p:FootballTeam)\n",
    "      WHERE p.name IN ['AC Milan', 'FC Internazionale']\n",
    "      RETURN count(p) AS count\n",
    "    ''').single()['count']))\n",
    "  assert football_teams == 2\n",
    "\n",
    "  # count constraints\n",
    "  football_constraints = session.read_transaction(lambda tx: (tx.run('''\n",
    "      SHOW CONSTRAINTS YIELD name\n",
    "      WHERE name IN ['spark_NODE_CONSTRAINTS_FootballPlayer_name', 'spark_NODE_CONSTRAINTS_FootballTeam_id']\n",
    "      RETURN count(*) AS count\n",
    "    ''').single()['count']))\n",
    "  assert football_constraints == 2\n",
    "\n",
    "print(\"All assertion are successfuly satisfied. Congrats you saved your first Node DataFrame into Neo4j!\")"
   ]
  },
  {
   "cell_type": "markdown",
   "metadata": {
    "id": "QltYkhIuy2Kc"
   },
   "source": [
    "## Write relationships via `relationship` option"
   ]
  },
  {
   "cell_type": "code",
   "execution_count": null,
   "metadata": {
    "id": "y3U_X0b7x2UN"
   },
   "outputs": [],
   "source": [
    "order_details_df = (spark.read\n",
    "      .format('csv')\n",
    "      .option('inferSchema', True)\n",
    "      .option('header', True)\n",
    "      .option('path', '/content/desktop-csv-import/order-details.csv')\n",
    "      .load())"
   ]
  },
  {
   "cell_type": "code",
   "execution_count": null,
   "metadata": {
    "id": "zFqKW-j-zRyk"
   },
   "outputs": [],
   "source": [
    "order_details_df.printSchema()"
   ]
  },
  {
   "cell_type": "code",
   "execution_count": null,
   "metadata": {
    "id": "5s5f3W984Jc0"
   },
   "outputs": [],
   "source": [
    "order_details_df"
   ]
  },
  {
   "cell_type": "markdown",
   "metadata": {
    "id": "aZWSOtNK2qEw"
   },
   "source": [
    "Please remember that this is the pattern that we want to ingest:\n",
    "\n",
    "\n",
    "<img src=\"https://dist.neo4j.com/wp-content/uploads/developer-desktop-csv-import-data_model.svg\" >"
   ]
  },
  {
   "cell_type": "code",
   "execution_count": null,
   "metadata": {
    "id": "rFo3KWA90rmZ"
   },
   "outputs": [],
   "source": [
    "(order_details_df.write\n",
    " .format('org.neo4j.spark.DataSource')\n",
    " .mode('overwrite')\n",
    " .option('relationship', 'CONTAINS')\n",
    " .option('relationship.save.strategy', 'keys')\n",
    " .option('relationship.source.labels', ':Product')\n",
    " .option('relationship.source.save.mode', 'Match')\n",
    " .option('relationship.source.node.keys', 'productID:id')\n",
    " .option('relationship.target.labels', ':Order')\n",
    " .option('relationship.target.save.mode', 'Match')\n",
    " .option('relationship.target.node.keys', 'orderID:id')\n",
    " .option('relationship.properties', 'quantity:quantityOrdered')\n",
    " .save())"
   ]
  },
  {
   "cell_type": "markdown",
   "metadata": {
    "id": "1PaC36iZ3bNf"
   },
   "source": [
    "Now let's check the count for both Dataframe and relationships in Neo4j"
   ]
  },
  {
   "cell_type": "code",
   "execution_count": null,
   "metadata": {
    "id": "OUZ5FYHP3qvj"
   },
   "outputs": [],
   "source": [
    "order_details_df.count()"
   ]
  },
  {
   "cell_type": "code",
   "execution_count": null,
   "metadata": {
    "id": "ex8o2pSo34cI"
   },
   "outputs": [],
   "source": [
    "%%cypher\n",
    "MATCH (p:Product)-[r:CONTAINS]->(o:Order)\n",
    "RETURN count(r)"
   ]
  },
  {
   "cell_type": "markdown",
   "metadata": {
    "id": "lTBo369687lC"
   },
   "source": [
    "### Exercise\n",
    "\n",
    "Given the `team_player_df` create a relationship between `:FootballPlayer` and `:FootballTeam` of type `PLAYS_FOR`:\n",
    "\n",
    "```cypher\n",
    "(:FootballPlayer)-[:PLAYS_FOR]->(:FootballTeam)\n",
    "```"
   ]
  },
  {
   "cell_type": "code",
   "execution_count": null,
   "metadata": {
    "id": "gi9kB0l49f8H"
   },
   "outputs": [],
   "source": [
    "team_player_df = spark.createDataFrame([\n",
    "  {'id': 1, 'football_player': 'Zlatan Ibrahimovic'},\n",
    "  {'id': 1, 'football_player': 'Sandro Tonali'},\n",
    "  {'id': 2, 'football_player': 'Nicolò Barella'},\n",
    "  {'id': 2, 'football_player': 'Marcelo Brozovic'}])"
   ]
  },
  {
   "cell_type": "code",
   "execution_count": null,
   "metadata": {
    "id": "i7ZjASDx_Kiy"
   },
   "outputs": [],
   "source": [
    "# write your spark code that persist team_player_df here"
   ]
  },
  {
   "cell_type": "markdown",
   "metadata": {
    "id": "oNRJevUSm0Wi"
   },
   "source": [
    "<details>\n",
    "<summary>\n",
    "Show a possible solution\n",
    "</summary>\n",
    "\n",
    "```python\n",
    "(team_player_df.write\n",
    " .format('org.neo4j.spark.DataSource')\n",
    " .mode('overwrite')\n",
    " .option('relationship', 'PLAYS_FOR')\n",
    " .option('relationship.save.strategy', 'keys')\n",
    " .option('relationship.source.labels', ':FootballPlayer')\n",
    " .option('relationship.source.save.mode', 'Match')\n",
    " .option('relationship.source.node.keys', 'football_player:name')\n",
    " .option('relationship.target.labels', ':FootballTeam')\n",
    " .option('relationship.target.save.mode', 'Match')\n",
    " .option('relationship.target.node.keys', 'id')\n",
    " .save())\n",
    "```\n",
    "\n",
    "</details>"
   ]
  },
  {
   "cell_type": "code",
   "execution_count": null,
   "metadata": {
    "id": "LDYbmoUx_Owb"
   },
   "outputs": [],
   "source": [
    "\"\"\"\n",
    " This paragraph is for validating the code the you\n",
    " wrote above, please execute it after you\n",
    " persisted team_player_df as relationships\n",
    "\"\"\"\n",
    "\n",
    "with neo4j_driver.session() as session:\n",
    "  # count relationships\n",
    "  def count_relationships(tx):\n",
    "    result = tx.run('''\n",
    "      MATCH (p:FootballPlayer)-[:PLAYS_FOR]->(t:FootballTeam)\n",
    "      RETURN t.name AS team, collect(p.name) AS players\n",
    "      ORDER by team\n",
    "    ''')\n",
    "    return [{'team': record['team'], 'players': set(record['players'])} for record in result]\n",
    "\n",
    "  actual = session.read_transaction(count_relationships)\n",
    "  expected = [\n",
    "    {'team': 'AC Milan', 'players': frozenset(['Zlatan Ibrahimovic', 'Sandro Tonali'])},\n",
    "    {'team': 'FC Internazionale', 'players': frozenset(['Nicolò Barella', 'Marcelo Brozovic'])}\n",
    "  ]\n",
    "  assert actual == expected\n",
    "\n",
    "print(\"All assertion are successfuly satisfied. Congrats you saved your first Relationship DataFrame into Neo4j!\")"
   ]
  },
  {
   "cell_type": "markdown",
   "metadata": {
    "id": "vBq9NCWlZkHw"
   },
   "source": [
    "## Write custom graphs via Cypher Query\n",
    "\n",
    "Now let's consider that two actors created an order and bought several products, and we want to add information in our database."
   ]
  },
  {
   "cell_type": "code",
   "execution_count": null,
   "metadata": {
    "id": "3y_yEOouaHxe"
   },
   "outputs": [],
   "source": [
    "actor_orders = [\n",
    "  {'actor_name': 'Cuba Gooding Jr.', 'order_id': 1, 'products': [11, 42, 72], 'quantities': [1, 2, 3], 'order_date': '2022-06-07 00:00:00'},\n",
    "  {'actor_name': 'Tom Hanks', 'order_id': 2, 'products': [24, 55, 75], 'quantities': [3, 2, 1], 'order_date': '2022-06-06 00:00:00'}\n",
    "]\n",
    "\n",
    "actor_orders_df = spark.createDataFrame(actor_orders)"
   ]
  },
  {
   "cell_type": "code",
   "execution_count": null,
   "metadata": {
    "id": "hYo7nlgvbfdm"
   },
   "outputs": [],
   "source": [
    "actor_orders_df.printSchema()"
   ]
  },
  {
   "cell_type": "code",
   "execution_count": null,
   "metadata": {
    "id": "fOkW4w2lbhZP"
   },
   "outputs": [],
   "source": [
    "actor_orders_df"
   ]
  },
  {
   "cell_type": "markdown",
   "metadata": {
    "id": "q0wAIB5l7qp9"
   },
   "source": [
    "In this case please go into Neo4j and create the following constraint:\n",
    "\n",
    "```cypher\n",
    "CREATE CONSTRAINT person_name FOR (p:Person) REQUIRE p.name is UNIQUE;\n",
    "```"
   ]
  },
  {
   "cell_type": "code",
   "execution_count": null,
   "metadata": {
    "id": "-_Lxm_zV4qw2"
   },
   "outputs": [],
   "source": [
    "%%cypher\n",
    "// if you didn't before create the constraint on Person.name\n",
    "CREATE CONSTRAINT person_name IF NOT EXISTS FOR (p:Person) REQUIRE p.name is UNIQUE;"
   ]
  },
  {
   "cell_type": "code",
   "execution_count": null,
   "metadata": {
    "id": "cm3RQyLbbjue"
   },
   "outputs": [],
   "source": [
    "(actor_orders_df.write\n",
    " .format('org.neo4j.spark.DataSource')\n",
    " .mode('overwrite')\n",
    " .option('query', '''\n",
    "  MATCH (person:Person {name: event.actor_name})\n",
    "  MERGE (order:Order {id: event.order_id, date: datetime(replace(event.order_date, ' ', 'T'))})\n",
    "  MERGE (person)-[:CREATED]->(order)\n",
    "  WITH event, order\n",
    "  UNWIND range(0, size(event.products) - 1) AS index\n",
    "  MATCH (product:Product {id: event.products[index]})\n",
    "  MERGE (product)-[:CONTAINS{quantityOrdered: event.quantities[index]}]->(order)\n",
    " ''')\n",
    " .save())"
   ]
  },
  {
   "cell_type": "markdown",
   "metadata": {
    "id": "61LUSN4F6pQq"
   },
   "source": [
    "What we expect now is that for the two actors there are two orders one per each, then each order contains three products."
   ]
  },
  {
   "cell_type": "code",
   "execution_count": null,
   "metadata": {
    "id": "8fVMQiTf61mN"
   },
   "outputs": [],
   "source": [
    "%%cypher\n",
    "MATCH (a:Person)-[:CREATED]->(o:Order)<-[c:CONTAINS]-(p:Product)\n",
    "WHERE a.name IN ['Cuba Gooding Jr.', 'Tom Hanks']\n",
    "RETURN a.name, o.id, o.date, p.name, c.quantityOrdered"
   ]
  },
  {
   "cell_type": "markdown",
   "metadata": {
    "id": "pn7IM8me9R3I"
   },
   "source": [
    "### Exercise\n",
    "\n",
    "Given `neo4j_resources_df` build a small Knowledge Graph in Neo4j with the following structure:\n",
    "\n",
    "```cypher\n",
    "(:Author{name})-[:CREATED]->(:Resource{name})-[:HAS_TAG]->(:Tag{name})\n",
    "```"
   ]
  },
  {
   "cell_type": "code",
   "execution_count": null,
   "metadata": {
    "id": "_wmoLl8d9RVz"
   },
   "outputs": [],
   "source": [
    "neo4j_resources_df = spark.createDataFrame([\n",
    "    {'author': 'LARUS Business Automation', 'resource': 'Galileo.XAI', 'tags': ['Graph Machine Learning', 'Neo4j', 'Explainable AI', 'Artificial Intelligence']},\n",
    "    {'author': 'Neo4j', 'resource': 'Graph Data Science Library', 'tags': ['Graph Machine Learning', 'Algorithms']},\n",
    "    {'author': 'Michael Hunger', 'resource': 'APOC', 'tags': ['Graph Data Integration', 'Graph Algorithms']}\n",
    "])"
   ]
  },
  {
   "cell_type": "code",
   "execution_count": null,
   "metadata": {
    "id": "NkG1jCynLXgJ"
   },
   "outputs": [],
   "source": [
    "neo4j_resources_df"
   ]
  },
  {
   "cell_type": "code",
   "execution_count": null,
   "metadata": {
    "id": "8EQmY-qhsbi1"
   },
   "outputs": [],
   "source": [
    "# write your spark code that persist neo4j_resources_df here"
   ]
  },
  {
   "cell_type": "markdown",
   "metadata": {
    "id": "KCfw_saanywo"
   },
   "source": [
    "<details>\n",
    "<summary>\n",
    "Show a possible solution\n",
    "</summary>\n",
    "\n",
    "```python\n",
    "(neo4j_resources_df.write\n",
    " .format('org.neo4j.spark.DataSource')\n",
    " .mode('overwrite')\n",
    " .option('query', '''\n",
    "    MERGE (a:Author {name: event.author})\n",
    "    MERGE (r:Resource {name: event.resource})\n",
    "    MERGE (a)-[:CREATED]->(r)\n",
    "    WITH a, r, event\n",
    "    UNWIND event.tags AS tag\n",
    "    MERGE (t:Tag{name: tag})\n",
    "    MERGE (r)-[:HAS_TAG]->(t)\n",
    " ''')\n",
    " .save())\n",
    "```\n",
    "\n",
    "</details>"
   ]
  },
  {
   "cell_type": "code",
   "execution_count": null,
   "metadata": {
    "id": "LwqbSsEcsgDi"
   },
   "outputs": [],
   "source": [
    "\"\"\"\n",
    " This paragraph is for validating the code the you\n",
    " wrote above, please execute it after you\n",
    " persisted neo4j_resources_df as Cypher query\n",
    "\"\"\"\n",
    "\n",
    "with neo4j_driver.session() as session:\n",
    "  # count relationships\n",
    "  def check_graph_consistency(tx):\n",
    "    result = tx.run('''\n",
    "      MATCH (a:Author)-[:CREATED]->(r:Resource)-[:HAS_TAG]->(t:Tag)\n",
    "      RETURN a.name AS author, r.name AS resource, collect(t.name) AS tags\n",
    "      ORDER By author\n",
    "    ''')\n",
    "    return [{'author': record['author'], 'resource': record['resource'], 'tags': set(record['tags'])} for record in result]\n",
    "\n",
    "  actual = session.read_transaction(check_graph_consistency)\n",
    "  expected = [\n",
    "    {'author': 'LARUS Business Automation', 'resource': 'Galileo.XAI', 'tags': frozenset(['Graph Machine Learning', 'Neo4j', 'Explainable AI', 'Artificial Intelligence'])},\n",
    "    {'author': 'Michael Hunger', 'resource': 'APOC', 'tags': frozenset(['Graph Data Integration', 'Graph Algorithms'])},\n",
    "    {'author': 'Neo4j', 'resource': 'Graph Data Science Library', 'tags': frozenset(['Graph Machine Learning', 'Algorithms'])}\n",
    "  ]\n",
    "  assert actual == expected\n",
    "\n",
    "print(\"All assertion are successfuly satisfied. Congrats you saved your first Knowledge Graph DataFrame into Neo4j!\")"
   ]
  },
  {
   "cell_type": "code",
   "execution_count": null,
   "metadata": {
    "id": "_LbqufNZMj6-"
   },
   "outputs": [],
   "source": []
  }
 ],
 "metadata": {
  "colab": {
   "provenance": [],
   "toc_visible": true
  },
  "kernelspec": {
   "display_name": "Python 3 (ipykernel)",
   "language": "python",
   "name": "python3"
  },
  "language_info": {
   "codemirror_mode": {
    "name": "ipython",
    "version": 3
   },
   "file_extension": ".py",
   "mimetype": "text/x-python",
   "name": "python",
   "nbconvert_exporter": "python",
   "pygments_lexer": "ipython3",
   "version": "3.12.7"
  }
 },
 "nbformat": 4,
 "nbformat_minor": 4
}
